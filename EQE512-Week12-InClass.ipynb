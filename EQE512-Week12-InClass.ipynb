{
 "cells": [
  {
   "cell_type": "markdown",
   "metadata": {
    "slideshow": {
     "slide_type": "slide"
    }
   },
   "source": [
    "EQE512 MATRIX METHODS IN STRUCTURAL ANALYSIS \n",
    "\n",
    "---\n",
    "<h3 align=\"center\"><font color = red >Week 12 - Construction of Response Spectrum</font></h3> \n",
    "\n",
    "<h4 align=\"center\"><font color = blue >Dr. Ahmet Anıl Dindar (adindar@gtu.edu.tr)</font></h4> \n",
    "<h4 align=\"center\"><font color = green >2020 Fall</font></h4> \n",
    "\n",
    "\n",
    "---"
   ]
  },
  {
   "cell_type": "markdown",
   "metadata": {},
   "source": [
    "**This week : \"_Construction of Response Spectrum_\"**"
   ]
  },
  {
   "cell_type": "markdown",
   "metadata": {},
   "source": [
    "**Response Spectrum**\n",
    "\n",
    "<img src=\"./figures/17-EQE512-Week14-Chopra_ResponseSpectrum.PNG\" width = \"50%\">\n",
    "\n",
    "<img src=\"./figures/2020_1221-ResponseSpectrum.png\" width = \"70%\">\n"
   ]
  },
  {
   "cell_type": "markdown",
   "metadata": {},
   "source": [
    "**Write the code of SDOF dynamic Solution in OpenSeesPy**"
   ]
  },
  {
   "cell_type": "code",
   "execution_count": 53,
   "metadata": {},
   "outputs": [],
   "source": [
    "import openseespy.opensees as ops\n",
    "\n",
    "ops.wipe()\n",
    "ops.model(\"basic\",\"-ndm\",2 , \"-ndf\", 3)\n",
    "ops.node( 1, 0 , 0 )\n",
    "ops.node( 2, 0 , 5000 ) # units in mm\n",
    "ops.fix(1 , 1 , 1 ,1)\n",
    "ops.mass( 2 , 2000 , 0 , 0 )\n",
    "ops.geomTransf( \"Linear\" , 1)\n",
    "ops.element( \"elasticBeamColumn\", 1 , 1 ,2 , 30_000 , 500*500 , (500 * 5000**3)/12 , 1)\n",
    "\n",
    "# Gravity\n",
    "ops.timeSeries(\"Linear\" , 1)\n",
    "ops.pattern( \"Plain\" , 1 ,1 )\n",
    "ops.load( 2 , 0 , -2000 , 0)\n",
    "ops.constraints('Plain')  \t\t\t\t# how it handles boundary conditions\n",
    "ops.numberer('Plain')\t\t\t    # renumber dof's to minimize band-width (optimization), if you want to\n",
    "ops.system('BandGeneral')\t\t    # how to store and solve the system of equations in the analysis\n",
    "ops.algorithm('Linear')                 # use Linear algorithm for linear analysis\n",
    "ops.integrator('LoadControl', 0.1)\t\t\t# determine the next time step for an analysis, # apply gravity in 10 steps\n",
    "ops.analysis('Static')\t\t\t\t\t    # define type of analysis static or transient\n",
    "ops.analyze(10)\t\t\t\t\t        # perform gravity analysis\n",
    "\n",
    "ops.loadConst('-time', 0.0)\t\t\t\t# hold gravity constant and restart time\n",
    "\n",
    "#Dynamic Analysis ( EQE Loading)\n",
    "G = 9.81 * 1000 # mm/s2\n",
    "ops.timeSeries( \"Path\",2,\"-dt\", 0.005 , \"-filePath\", \"A10000.dat\", \"-factor\", G)\n",
    "ops.pattern( \"UniformExcitation\",2, 1, \"-accel\", 2)\n",
    "freq = ops.eigen( \"-fullGenLapack\", 1)\n",
    "freq = freq[0]**.5\n",
    "dampRatio = 0.05\n",
    "ops.rayleigh( 0 , 0 ,0 , 2* dampRatio/freq)\n",
    "ops.recorder( \"Node\",\"-file\", \"temp.out\", \"-time\",\"-node\",2,\"-dof\",1,2,3, \"accel\")\n",
    "ops.wipeAnalysis()\n",
    "ops.constraints(\"Plain\")\n",
    "ops.numberer(\"Plain\")\n",
    "ops.system(\"BandGeneral\")\n",
    "ops.algorithm(\"Linear\")\n",
    "ops.integrator(\"Newmark\" , 0.5 , .25) \n",
    "ops.analysis(\"Transient\")\n",
    "ops.analyze( 3995 , 0.01)"
   ]
  },
  {
   "cell_type": "code",
   "execution_count": 55,
   "metadata": {},
   "outputs": [],
   "source": [
    "import matplotlib.pyplot as plt , pandas as pd"
   ]
  },
  {
   "cell_type": "code",
   "execution_count": 59,
   "metadata": {},
   "outputs": [],
   "source": [
    "data_df = pd.read_csv( \"temp.out\", names=[\"Time\",\"Ax\", \"Ay\",\"Az\"] , delim_whitespace= True)"
   ]
  },
  {
   "cell_type": "code",
   "execution_count": 60,
   "metadata": {},
   "outputs": [
    {
     "data": {
      "text/html": [
       "<div>\n",
       "<style scoped>\n",
       "    .dataframe tbody tr th:only-of-type {\n",
       "        vertical-align: middle;\n",
       "    }\n",
       "\n",
       "    .dataframe tbody tr th {\n",
       "        vertical-align: top;\n",
       "    }\n",
       "\n",
       "    .dataframe thead th {\n",
       "        text-align: right;\n",
       "    }\n",
       "</style>\n",
       "<table border=\"1\" class=\"dataframe\">\n",
       "  <thead>\n",
       "    <tr style=\"text-align: right;\">\n",
       "      <th></th>\n",
       "      <th>Time</th>\n",
       "      <th>Ax</th>\n",
       "      <th>Ay</th>\n",
       "      <th>Az</th>\n",
       "    </tr>\n",
       "  </thead>\n",
       "  <tbody>\n",
       "    <tr>\n",
       "      <th>0</th>\n",
       "      <td>0.01</td>\n",
       "      <td>0.100193</td>\n",
       "      <td>5.226980e-15</td>\n",
       "      <td>-0.000030</td>\n",
       "    </tr>\n",
       "    <tr>\n",
       "      <th>1</th>\n",
       "      <td>0.02</td>\n",
       "      <td>-3.059750</td>\n",
       "      <td>-1.943780e-14</td>\n",
       "      <td>0.000918</td>\n",
       "    </tr>\n",
       "    <tr>\n",
       "      <th>2</th>\n",
       "      <td>0.03</td>\n",
       "      <td>0.348596</td>\n",
       "      <td>3.364870e-14</td>\n",
       "      <td>-0.000105</td>\n",
       "    </tr>\n",
       "    <tr>\n",
       "      <th>3</th>\n",
       "      <td>0.04</td>\n",
       "      <td>3.045960</td>\n",
       "      <td>-4.785950e-14</td>\n",
       "      <td>-0.000914</td>\n",
       "    </tr>\n",
       "    <tr>\n",
       "      <th>4</th>\n",
       "      <td>0.05</td>\n",
       "      <td>2.224800</td>\n",
       "      <td>6.207040e-14</td>\n",
       "      <td>-0.000667</td>\n",
       "    </tr>\n",
       "    <tr>\n",
       "      <th>...</th>\n",
       "      <td>...</td>\n",
       "      <td>...</td>\n",
       "      <td>...</td>\n",
       "      <td>...</td>\n",
       "    </tr>\n",
       "    <tr>\n",
       "      <th>3880</th>\n",
       "      <td>38.81</td>\n",
       "      <td>-1.348440</td>\n",
       "      <td>5.514330e-11</td>\n",
       "      <td>0.000405</td>\n",
       "    </tr>\n",
       "    <tr>\n",
       "      <th>3881</th>\n",
       "      <td>38.82</td>\n",
       "      <td>-0.316158</td>\n",
       "      <td>-5.515760e-11</td>\n",
       "      <td>0.000095</td>\n",
       "    </tr>\n",
       "    <tr>\n",
       "      <th>3882</th>\n",
       "      <td>38.83</td>\n",
       "      <td>0.798243</td>\n",
       "      <td>5.517180e-11</td>\n",
       "      <td>-0.000239</td>\n",
       "    </tr>\n",
       "    <tr>\n",
       "      <th>3883</th>\n",
       "      <td>38.84</td>\n",
       "      <td>1.180700</td>\n",
       "      <td>-5.518600e-11</td>\n",
       "      <td>-0.000354</td>\n",
       "    </tr>\n",
       "    <tr>\n",
       "      <th>3884</th>\n",
       "      <td>38.85</td>\n",
       "      <td>0.609773</td>\n",
       "      <td>5.520020e-11</td>\n",
       "      <td>NaN</td>\n",
       "    </tr>\n",
       "  </tbody>\n",
       "</table>\n",
       "<p>3885 rows × 4 columns</p>\n",
       "</div>"
      ],
      "text/plain": [
       "       Time        Ax            Ay        Az\n",
       "0      0.01  0.100193  5.226980e-15 -0.000030\n",
       "1      0.02 -3.059750 -1.943780e-14  0.000918\n",
       "2      0.03  0.348596  3.364870e-14 -0.000105\n",
       "3      0.04  3.045960 -4.785950e-14 -0.000914\n",
       "4      0.05  2.224800  6.207040e-14 -0.000667\n",
       "...     ...       ...           ...       ...\n",
       "3880  38.81 -1.348440  5.514330e-11  0.000405\n",
       "3881  38.82 -0.316158 -5.515760e-11  0.000095\n",
       "3882  38.83  0.798243  5.517180e-11 -0.000239\n",
       "3883  38.84  1.180700 -5.518600e-11 -0.000354\n",
       "3884  38.85  0.609773  5.520020e-11       NaN\n",
       "\n",
       "[3885 rows x 4 columns]"
      ]
     },
     "execution_count": 60,
     "metadata": {},
     "output_type": "execute_result"
    }
   ],
   "source": [
    "data_df"
   ]
  },
  {
   "cell_type": "code",
   "execution_count": 61,
   "metadata": {},
   "outputs": [
    {
     "data": {
      "text/plain": [
       "[<matplotlib.lines.Line2D at 0x7fbc7b1f2cf8>]"
      ]
     },
     "execution_count": 61,
     "metadata": {},
     "output_type": "execute_result"
    },
    {
     "data": {
      "image/png": "[encoded data removed]",
      "text/plain": [
       "<Figure size 432x288 with 1 Axes>"
      ]
     },
     "metadata": {
      "needs_background": "light"
     },
     "output_type": "display_data"
    }
   ],
   "source": [
    "plt.plot( data_df.Ax)"
   ]
  },
  {
   "cell_type": "code",
   "execution_count": 62,
   "metadata": {},
   "outputs": [
    {
     "data": {
      "text/plain": [
       "[<matplotlib.lines.Line2D at 0x7fbc7b108550>]"
      ]
     },
     "execution_count": 62,
     "metadata": {},
     "output_type": "execute_result"
    },
    {
     "data": {
      "image/png": "[encoded data removed]",
      "text/plain": [
       "<Figure size 432x288 with 1 Axes>"
      ]
     },
     "metadata": {
      "needs_background": "light"
     },
     "output_type": "display_data"
    }
   ],
   "source": [
    "plt.plot( data_df.Ay)"
   ]
  },
  {
   "cell_type": "code",
   "execution_count": 63,
   "metadata": {},
   "outputs": [
    {
     "data": {
      "text/plain": [
       "[<matplotlib.lines.Line2D at 0x7fbc7b0f28d0>]"
      ]
     },
     "execution_count": 63,
     "metadata": {},
     "output_type": "execute_result"
    },
    {
     "data": {
      "image/png": "[encoded data removed]",
      "text/plain": [
       "<Figure size 432x288 with 1 Axes>"
      ]
     },
     "metadata": {
      "needs_background": "light"
     },
     "output_type": "display_data"
    }
   ],
   "source": [
    "plt.plot( data_df.Az)"
   ]
  },
  {
   "cell_type": "code",
   "execution_count": 65,
   "metadata": {},
   "outputs": [
    {
     "data": {
      "text/plain": [
       "Time    1.000000e-02\n",
       "Ax     -9.088900e+01\n",
       "Ay     -5.518600e-11\n",
       "Az     -2.400300e-02\n",
       "dtype: float64"
      ]
     },
     "execution_count": 65,
     "metadata": {},
     "output_type": "execute_result"
    }
   ],
   "source": [
    "data_df.min()"
   ]
  },
  {
   "cell_type": "code",
   "execution_count": 66,
   "metadata": {},
   "outputs": [
    {
     "data": {
      "text/plain": [
       "Time    3.885000e+01\n",
       "Ax      8.000990e+01\n",
       "Ay      5.520020e-11\n",
       "Az      2.726670e-02\n",
       "dtype: float64"
      ]
     },
     "execution_count": 66,
     "metadata": {},
     "output_type": "execute_result"
    }
   ],
   "source": [
    "data_df.max()"
   ]
  },
  {
   "cell_type": "code",
   "execution_count": 70,
   "metadata": {},
   "outputs": [],
   "source": [
    "Sa = data_df[\"Ax\"].abs().max()"
   ]
  },
  {
   "cell_type": "code",
   "execution_count": 74,
   "metadata": {},
   "outputs": [
    {
     "name": "stdout",
     "output_type": "stream",
     "text": [
      "0.05s period and Sa=90.889mm/s2\n"
     ]
    }
   ],
   "source": [
    "print( f\"{round((44/7)/freq,3)}s period and Sa={Sa}mm/s2\")"
   ]
  },
  {
   "cell_type": "markdown",
   "metadata": {},
   "source": [
    "**Create a loop in order to obtain the peak values for every single Period**"
   ]
  },
  {
   "cell_type": "code",
   "execution_count": 2,
   "metadata": {},
   "outputs": [],
   "source": [
    "import matplotlib.pyplot as plt , pandas as pd\n",
    "import openseespy.opensees as ops\n"
   ]
  },
  {
   "cell_type": "code",
   "execution_count": 21,
   "metadata": {},
   "outputs": [],
   "source": [
    "def responseSpectrumCalculator( height):\n",
    "    ops.wipe()\n",
    "    ops.model(\"basic\",\"-ndm\",2 , \"-ndf\", 3)\n",
    "    ops.node( 1, 0 , 0 )\n",
    "    ops.node( 2, 0 , height ) # units in mm\n",
    "    ops.fix(1 , 1 , 1 ,1)\n",
    "    ops.mass( 2 , 2000 , 0 , 0 )\n",
    "    ops.geomTransf( \"Linear\" , 1)\n",
    "    ops.element( \"elasticBeamColumn\", 1 , 1 ,2 , 30_000 , 500*500 , (500 * 5000**3)/12 , 1)\n",
    "\n",
    "    # Gravity\n",
    "    ops.timeSeries(\"Linear\" , 1)\n",
    "    ops.pattern( \"Plain\" , 1 ,1 )\n",
    "    ops.load( 2 , 0 , -2000 , 0)\n",
    "    ops.constraints('Plain')  \t\t\t\t# how it handles boundary conditions\n",
    "    ops.numberer('Plain')\t\t\t    # renumber dof's to minimize band-width (optimization), if you want to\n",
    "    ops.system('BandGeneral')\t\t    # how to store and solve the system of equations in the analysis\n",
    "    ops.algorithm('Linear')                 # use Linear algorithm for linear analysis\n",
    "    ops.integrator('LoadControl', 0.1)\t\t\t# determine the next time step for an analysis, # apply gravity in 10 steps\n",
    "    ops.analysis('Static')\t\t\t\t\t    # define type of analysis static or transient\n",
    "    ops.analyze(10)\t\t\t\t\t        # perform gravity analysis\n",
    "\n",
    "    ops.loadConst('-time', 0.0)\t\t\t\t# hold gravity constant and restart time\n",
    "\n",
    "    #Dynamic Analysis ( EQE Loading)\n",
    "    G = 9.81 * 1000 # mm/s2\n",
    "    ops.timeSeries( \"Path\",2,\"-dt\", 0.005 , \"-filePath\", \"A10000.dat\", \"-factor\", G)\n",
    "    ops.pattern( \"UniformExcitation\",2, 1, \"-accel\", 2)\n",
    "    freq = ops.eigen( \"-fullGenLapack\", 1)\n",
    "    freq = freq[0]**.5\n",
    "    dampRatio = 0.05\n",
    "    ops.rayleigh( 0 , 0 ,0 , 2* dampRatio/freq)\n",
    "    ops.recorder( \"Node\",\"-file\", \"temp.out\", \"-time\",\"-node\",2,\"-dof\",1,2,3, \"accel\")\n",
    "    ops.wipeAnalysis()\n",
    "    ops.constraints(\"Plain\")\n",
    "    ops.numberer(\"Plain\")\n",
    "    ops.system(\"BandGeneral\")\n",
    "    ops.algorithm(\"Linear\")\n",
    "    ops.integrator(\"Newmark\" , 0.5 , .25) \n",
    "    ops.analysis(\"Transient\")\n",
    "    ops.analyze( 3995 , 0.01)\n",
    "    \n",
    "    # post process\n",
    "    data_df = pd.read_csv( \"temp.out\", names=[\"Time\",\"Ax\", \"Ay\",\"Az\"] , delim_whitespace= True)    \n",
    "    Sa = round( data_df[\"Ax\"].abs().max() ,3 ) # Spectral acceleration \n",
    "    T = round((44/7)/freq,3) # Period\n",
    "    \n",
    "    # \n",
    "    return( T, Sa)"
   ]
  },
  {
   "cell_type": "code",
   "execution_count": 22,
   "metadata": {},
   "outputs": [
    {
     "name": "stdout",
     "output_type": "stream",
     "text": [
      "0.05s and Sa = 90.889 mm/s2\n",
      "0.142s and Sa = 515.277 mm/s2\n",
      "0.261s and Sa = 1639.25 mm/s2\n",
      "0.402s and Sa = 2397.48 mm/s2\n",
      "0.562s and Sa = 3082.6 mm/s2\n",
      "0.739s and Sa = 1984.9 mm/s2\n",
      "0.931s and Sa = 1694.75 mm/s2\n",
      "1.138s and Sa = 1723.57 mm/s2\n",
      "1.358s and Sa = 1395.93 mm/s2\n",
      "1.59s and Sa = 1636.9 mm/s2\n",
      "1.835s and Sa = 2329.34 mm/s2\n",
      "2.09s and Sa = 1462.73 mm/s2\n",
      "2.357s and Sa = 1497.69 mm/s2\n",
      "2.634s and Sa = 1557.77 mm/s2\n",
      "2.921s and Sa = 1517.21 mm/s2\n",
      "3.218s and Sa = 1436.27 mm/s2\n",
      "3.525s and Sa = 1348.39 mm/s2\n",
      "3.84s and Sa = 1268.96 mm/s2\n",
      "4.165s and Sa = 1203.21 mm/s2\n"
     ]
    }
   ],
   "source": [
    "T_list , Sa_list = [] , []\n",
    "for height in [ 5_000 * item for item in range( 1,  20)] :\n",
    "    T_value, Sa_value = responseSpectrumCalculator( height)\n",
    "    print( f\"{T_value}s and Sa = {Sa_value} mm/s2\")\n",
    "    T_list.append( T_value)\n",
    "    Sa_list.append( Sa_value /9810)"
   ]
  },
  {
   "cell_type": "markdown",
   "metadata": {},
   "source": [
    "**Plot the T vs Sa**"
   ]
  },
  {
   "cell_type": "code",
   "execution_count": 23,
   "metadata": {},
   "outputs": [
    {
     "data": {
      "text/plain": [
       "Text(0, 0.5, 'Sa (g)')"
      ]
     },
     "execution_count": 23,
     "metadata": {},
     "output_type": "execute_result"
    },
    {
     "data": {
      "image/png": "[encoded data removed]",
      "text/plain": [
       "<Figure size 720x360 with 1 Axes>"
      ]
     },
     "metadata": {
      "needs_background": "light"
     },
     "output_type": "display_data"
    }
   ],
   "source": [
    "plt.figure( figsize= [10,5])\n",
    "plt.plot( T_list , Sa_list)\n",
    "plt.box( False)\n",
    "plt.axhline(0)\n",
    "plt.axvline(0)\n",
    "\n",
    "plt.xlabel( \"Period (s)\")\n",
    "plt.ylabel( \"Sa (g)\")"
   ]
  },
  {
   "cell_type": "markdown",
   "metadata": {
    "slideshow": {
     "slide_type": "slide"
    }
   },
   "source": [
    "---\n",
    "\n",
    "**NEXT WEEK**\n",
    "\n",
    "<table >\n",
    "<tr>\n",
    "<td>\n",
    "<img src=\"http://worshiphousemedia.s3.amazonaws.com/images/main/s/st/bnt/st/seeyounextweek1.jpg\" width=\"40%\">\n",
    "</td>\n",
    "<td align=\"left\"><strong style=\"font-size: 20px;\">\n",
    "The topics for the next week \n",
    "<br><br>\n",
    "\n",
    "1- Assignment : 5\n",
    "    \n",
    "2- ?\n",
    "<br><br>\n",
    "\n",
    "<br>\n",
    "</td>\n",
    "</tr>\n",
    "</table>"
   ]
  },
  {
   "cell_type": "code",
   "execution_count": null,
   "metadata": {},
   "outputs": [],
   "source": []
  }
 ],
 "metadata": {
  "celltoolbar": "Slideshow",
  "kernelspec": {
   "display_name": "Python 3",
   "language": "python",
   "name": "python3"
  },
  "language_info": {
   "codemirror_mode": {
    "name": "ipython",
    "version": 3
   },
   "file_extension": ".py",
   "mimetype": "text/x-python",
   "name": "python",
   "nbconvert_exporter": "python",
   "pygments_lexer": "ipython3",
   "version": "3.6.8"
  },
  "toc-autonumbering": false
 },
 "nbformat": 4,
 "nbformat_minor": 4
}
