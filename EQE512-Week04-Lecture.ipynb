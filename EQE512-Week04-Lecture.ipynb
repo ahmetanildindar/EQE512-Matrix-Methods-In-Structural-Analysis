{
 "cells": [
  {
   "cell_type": "markdown",
   "metadata": {
    "slideshow": {
     "slide_type": "slide"
    }
   },
   "source": [
    "EQE512 MATRIX METHODS IN STRUCTURAL ANALYSIS \n",
    "\n",
    "---\n",
    "<h3 align=\"center\">Week 04 - Development of algorithms for parametric calculations and optimal solution approach </h3> \n",
    "<h4 align=\"center\">Dr. Ahmet Anıl Dindar (adindar@gtu.edu.tr)</h3> \n",
    "<h4 align=\"center\">2020 Fall  </h4> "
   ]
  },
  {
   "cell_type": "markdown",
   "metadata": {},
   "source": [
    "**Introduction**\n",
    "\n",
    "Having learned Python basics in terms of variables, loops and visualization, it is time to go for a simple but efficient structural analysis problem; Lateral drift limit of a cantilever column. "
   ]
  },
  {
   "cell_type": "markdown",
   "metadata": {},
   "source": [
    "# Relation between force and deformation\n",
    "\n",
    "Remember the spring under axial load. \n",
    "\n",
    "<img src=\"./images/week04-Spring.png\" width=\"20%\" align=\"center\">\n"
   ]
  },
  {
   "cell_type": "markdown",
   "metadata": {},
   "source": [
    "## Axial Stiffness\n",
    "\n",
    "<img src=\"./images/Week04-1_axialStiffness.png\" width=\"50%\">\n"
   ]
  },
  {
   "cell_type": "markdown",
   "metadata": {},
   "source": [
    "## Flexural Stiffness\n",
    "\n",
    "<img src=\"./images/Week04-2_shearStiffness.png\" width=\"50%\">\n"
   ]
  },
  {
   "cell_type": "markdown",
   "metadata": {},
   "source": [
    "# Flexural Stiffness Example\n",
    "\n",
    "<img src= \"./images/week04-task01-lateral-stiffness-TASK03.png\" width=\"40%\">"
   ]
  },
  {
   "cell_type": "code",
   "execution_count": 10,
   "metadata": {},
   "outputs": [],
   "source": [
    "# Definition of Geometry\n",
    "b = 30 # cm\n",
    "h = 60 # cm\n",
    "H = 3  # m"
   ]
  },
  {
   "cell_type": "code",
   "execution_count": 11,
   "metadata": {},
   "outputs": [],
   "source": [
    "# Moment of Inertia\n",
    "\n",
    "def MomOfInertia( width , heigth) :\n",
    "    # All values are in mm\n",
    "    I =  ((width*10) * (heigth*10) ** 3 )/12\n",
    "    \n",
    "    # Output of the function\n",
    "    return I\n"
   ]
  },
  {
   "cell_type": "code",
   "execution_count": 12,
   "metadata": {},
   "outputs": [
    {
     "name": "stdout",
     "output_type": "stream",
     "text": [
      "5400000000.0\n"
     ]
    }
   ],
   "source": [
    "I_1 = MomOfInertia( b , h)\n",
    "print( I_1)"
   ]
  },
  {
   "cell_type": "code",
   "execution_count": 13,
   "metadata": {},
   "outputs": [
    {
     "name": "stdout",
     "output_type": "stream",
     "text": [
      "1350000000.0\n"
     ]
    }
   ],
   "source": [
    "I_2 = MomOfInertia( h , b)\n",
    "print( I_2)"
   ]
  },
  {
   "cell_type": "code",
   "execution_count": 21,
   "metadata": {},
   "outputs": [
    {
     "name": "stdout",
     "output_type": "stream",
     "text": [
      "4.0\n"
     ]
    }
   ],
   "source": [
    "print( I_1 / I_2 )"
   ]
  },
  {
   "cell_type": "code",
   "execution_count": 6,
   "metadata": {},
   "outputs": [],
   "source": [
    "# Modulus of Elasticity\n",
    "E = 30000 # MPa N/mm2"
   ]
  },
  {
   "cell_type": "code",
   "execution_count": 18,
   "metadata": {},
   "outputs": [],
   "source": [
    "# Flexural Stiffness of the Cantilever Column\n",
    "def FlexStifness(E , I , H):\n",
    "    k = 3 * (E * I ) / ((H*1000) **3)\n",
    "    #Output\n",
    "    return k"
   ]
  },
  {
   "cell_type": "code",
   "execution_count": 19,
   "metadata": {},
   "outputs": [],
   "source": [
    "k1 = FlexStifness( E , I_1 , H )\n",
    "k2 = FlexStifness( E , I_2 , H )"
   ]
  },
  {
   "cell_type": "code",
   "execution_count": 20,
   "metadata": {},
   "outputs": [
    {
     "name": "stdout",
     "output_type": "stream",
     "text": [
      "4.0\n"
     ]
    }
   ],
   "source": [
    "print( k1 / k2)"
   ]
  },
  {
   "cell_type": "markdown",
   "metadata": {},
   "source": [
    "## Parametric Study\n",
    "\n",
    "Let's see the parameters affecting the lateral stiffness of a cantilever member with free end"
   ]
  },
  {
   "cell_type": "code",
   "execution_count": null,
   "metadata": {},
   "outputs": [],
   "source": [
    "import matplotlib.pyplot as plt"
   ]
  },
  {
   "cell_type": "code",
   "execution_count": 44,
   "metadata": {},
   "outputs": [
    {
     "name": "stdout",
     "output_type": "stream",
     "text": [
      "30cm height and 15.0cm width then Lateral Stiffness is 1125.0 N/mm\n",
      "35cm height and 17.5cm width then Lateral Stiffness is 2084.0 N/mm\n",
      "40cm height and 20.0cm width then Lateral Stiffness is 3556.0 N/mm\n",
      "45cm height and 22.5cm width then Lateral Stiffness is 5695.0 N/mm\n",
      "50cm height and 25.0cm width then Lateral Stiffness is 8681.0 N/mm\n"
     ]
    },
    {
     "data": {
      "text/plain": [
       "(Text(0.5, 0, 'Height'), Text(0, 0.5, 'Lateral Stiffness'))"
      ]
     },
     "execution_count": 44,
     "metadata": {},
     "output_type": "execute_result"
    },
    {
     "data": {
      "image/png": "[encoded data removed]",
      "text/plain": [
       "<Figure size 720x360 with 3 Axes>"
      ]
     },
     "metadata": {
      "needs_background": "light"
     },
     "output_type": "display_data"
    }
   ],
   "source": [
    "h = [ 30, 35, 40 , 45 , 50] # cm\n",
    "b = []\n",
    "k = []\n",
    "for h_adim in h : \n",
    "    b_adim = h_adim / 2\n",
    "    b.append( b_adim)\n",
    "    I_adim = MomOfInertia( b_adim , h_adim )\n",
    "    \n",
    "    k_adim = FlexStifness( E , I_adim , H)\n",
    "    k.append( k_adim)\n",
    "    print( f\"{h_adim}cm height and {b_adim}cm width then Lateral Stiffness is {round(k_adim,0)} N/mm\")\n",
    "    \n",
    "plt.figure( figsize=(10,5))\n",
    "plt.subplot(131)\n",
    "plt.plot( h , b , \".-\" )\n",
    "plt.xlabel( \"Height\") , plt.ylabel(\"Width\")\n",
    "\n",
    "plt.subplot(132)\n",
    "plt.plot( b , k , \".-\" )\n",
    "plt.xlabel( \"Width\") , plt.ylabel(\"Lateral Stiffness\")\n",
    "\n",
    "plt.subplot(133)\n",
    "plt.plot( h , k , \"*-\")\n",
    "plt.xlabel( \"Height\") , plt.ylabel(\"Lateral Stiffness\")"
   ]
  },
  {
   "cell_type": "code",
   "execution_count": 45,
   "metadata": {},
   "outputs": [
    {
     "name": "stdout",
     "output_type": "stream",
     "text": [
      "30cm height and 30cm width then Lateral Stiffness is 2250.0 N/mm\n",
      "35cm height and 30cm width then Lateral Stiffness is 3573.0 N/mm\n",
      "40cm height and 30cm width then Lateral Stiffness is 5333.0 N/mm\n",
      "45cm height and 30cm width then Lateral Stiffness is 7594.0 N/mm\n",
      "50cm height and 30cm width then Lateral Stiffness is 10417.0 N/mm\n"
     ]
    },
    {
     "data": {
      "text/plain": [
       "(Text(0.5, 0, 'Height'), Text(0, 0.5, 'Lateral Stiffness'))"
      ]
     },
     "execution_count": 45,
     "metadata": {},
     "output_type": "execute_result"
    },
    {
     "data": {
      "image/png": "[encoded data removed]",
      "text/plain": [
       "<Figure size 720x360 with 3 Axes>"
      ]
     },
     "metadata": {
      "needs_background": "light"
     },
     "output_type": "display_data"
    }
   ],
   "source": [
    "h = [ 30, 35, 40 , 45 , 50] # cm\n",
    "b = []\n",
    "k = []\n",
    "for h_adim in h : \n",
    "    b_adim = 30\n",
    "    b.append( b_adim)\n",
    "    I_adim = MomOfInertia( b_adim , h_adim )\n",
    "    \n",
    "    k_adim = FlexStifness( E , I_adim , H)\n",
    "    k.append( k_adim)\n",
    "    print( f\"{h_adim}cm height and {b_adim}cm width then Lateral Stiffness is {round(k_adim,0)} N/mm\")\n",
    "    \n",
    "plt.figure( figsize=(10,5))\n",
    "plt.subplot(131)\n",
    "plt.plot( h , b , \".-\" )\n",
    "plt.xlabel( \"Height\") , plt.ylabel(\"Width\")\n",
    "\n",
    "plt.subplot(132)\n",
    "plt.plot( b , k , \".-\" )\n",
    "plt.xlabel( \"Width\") , plt.ylabel(\"Lateral Stiffness\")\n",
    "\n",
    "plt.subplot(133)\n",
    "plt.plot( h , k , \"*-\")\n",
    "plt.xlabel( \"Height\") , plt.ylabel(\"Lateral Stiffness\")"
   ]
  },
  {
   "cell_type": "code",
   "execution_count": 46,
   "metadata": {},
   "outputs": [
    {
     "name": "stdout",
     "output_type": "stream",
     "text": [
      "30cm height and 30cm width then Lateral Stiffness is 2250.0 N/mm\n",
      "30cm height and 35cm width then Lateral Stiffness is 2625.0 N/mm\n",
      "30cm height and 40cm width then Lateral Stiffness is 3000.0 N/mm\n",
      "30cm height and 45cm width then Lateral Stiffness is 3375.0 N/mm\n",
      "30cm height and 50cm width then Lateral Stiffness is 3750.0 N/mm\n"
     ]
    },
    {
     "data": {
      "text/plain": [
       "(Text(0.5, 0, 'Height'), Text(0, 0.5, 'Lateral Stiffness'))"
      ]
     },
     "execution_count": 46,
     "metadata": {},
     "output_type": "execute_result"
    },
    {
     "data": {
      "image/png": "[encoded data removed]",
      "text/plain": [
       "<Figure size 720x360 with 3 Axes>"
      ]
     },
     "metadata": {
      "needs_background": "light"
     },
     "output_type": "display_data"
    }
   ],
   "source": [
    "b = [ 30, 35, 40 , 45 , 50] # cm\n",
    "h = []\n",
    "k = []\n",
    "for b_adim in b : \n",
    "    h_adim = 30\n",
    "    h.append( h_adim)\n",
    "    I_adim = MomOfInertia( b_adim , h_adim )\n",
    "    \n",
    "    k_adim = FlexStifness( E , I_adim , H)\n",
    "    k.append( k_adim)\n",
    "    print( f\"{h_adim}cm height and {b_adim}cm width then Lateral Stiffness is {round(k_adim,0)} N/mm\")\n",
    "    \n",
    "plt.figure( figsize=(10,5))\n",
    "plt.subplot(131)\n",
    "plt.plot( h , b , \".-\" )\n",
    "plt.xlabel( \"Height\") , plt.ylabel(\"Width\")\n",
    "\n",
    "plt.subplot(132)\n",
    "plt.plot( b , k , \".-\" )\n",
    "plt.xlabel( \"Width\") , plt.ylabel(\"Lateral Stiffness\")\n",
    "\n",
    "plt.subplot(133)\n",
    "plt.plot( h , k , \"*-\")\n",
    "plt.xlabel( \"Height\") , plt.ylabel(\"Lateral Stiffness\")"
   ]
  },
  {
   "cell_type": "markdown",
   "metadata": {},
   "source": [
    "## Optimal Solution for Top Drift\n",
    "\n",
    "<img src=\"./images/week04-task01-SDOF-drift.png\" width=\"30%\" >"
   ]
  },
  {
   "cell_type": "markdown",
   "metadata": {},
   "source": [
    "For the given ranges of section geometry, calculate the most optimum geometry if the lateral drift is limited **1%** with **0.1%** tolerance. "
   ]
  },
  {
   "cell_type": "code",
   "execution_count": 47,
   "metadata": {},
   "outputs": [],
   "source": [
    "h = range(20, 61, 5) #cm"
   ]
  },
  {
   "cell_type": "code",
   "execution_count": 52,
   "metadata": {},
   "outputs": [],
   "source": [
    "b = [item/2 for item in h] # cm"
   ]
  },
  {
   "cell_type": "code",
   "execution_count": 53,
   "metadata": {},
   "outputs": [],
   "source": [
    "H = 300 # cm"
   ]
  },
  {
   "cell_type": "code",
   "execution_count": 50,
   "metadata": {},
   "outputs": [],
   "source": [
    "F = 10 #kN"
   ]
  },
  {
   "cell_type": "code",
   "execution_count": 51,
   "metadata": {},
   "outputs": [],
   "source": [
    "E = 200 # GPA"
   ]
  },
  {
   "cell_type": "markdown",
   "metadata": {},
   "source": [
    "Let's think about this problem and try to find the solution."
   ]
  },
  {
   "cell_type": "markdown",
   "metadata": {
    "slideshow": {
     "slide_type": "slide"
    }
   },
   "source": [
    "---\n",
    "\n",
    "**NEXT WEEK**\n",
    "\n",
    "<table >\n",
    "<tr>\n",
    "<td>\n",
    "<img src=\"http://worshiphousemedia.s3.amazonaws.com/images/main/s/st/bnt/st/seeyounextweek1.jpg\" >\n",
    "</td>\n",
    "<td align=\"left\"><strong style=\"font-size: 20px;\">\n",
    "The topics for the next week \n",
    "<br><br>\n",
    "\n",
    "1- Assignment #2 : Tonight 8pm\n",
    "<br><br>\n",
    "2- \"Visualization of the Parametric Analysis Computations\"\n",
    "<br>\n",
    "</td>\n",
    "</tr>\n",
    "</table>"
   ]
  }
 ],
 "metadata": {
  "celltoolbar": "Slideshow",
  "kernelspec": {
   "display_name": "Python 3",
   "language": "python",
   "name": "python3"
  },
  "language_info": {
   "codemirror_mode": {
    "name": "ipython",
    "version": 3
   },
   "file_extension": ".py",
   "mimetype": "text/x-python",
   "name": "python",
   "nbconvert_exporter": "python",
   "pygments_lexer": "ipython3",
   "version": "3.7.6"
  },
  "toc-autonumbering": true
 },
 "nbformat": 4,
 "nbformat_minor": 4
}
