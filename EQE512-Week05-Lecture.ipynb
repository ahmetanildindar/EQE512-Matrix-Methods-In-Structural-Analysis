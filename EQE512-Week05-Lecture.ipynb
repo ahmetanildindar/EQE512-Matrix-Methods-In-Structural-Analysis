{
 "cells": [
  {
   "cell_type": "markdown",
   "metadata": {
    "slideshow": {
     "slide_type": "slide"
    }
   },
   "source": [
    "EQE512 MATRIX METHODS IN STRUCTURAL ANALYSIS \n",
    "\n",
    "---\n",
    "<h3 align=\"center\">Week 05 - Visualization of the Parametric Analysis Computations </h3> \n",
    "<h4 align=\"center\">Dr. Ahmet Anıl Dindar (adindar@gtu.edu.tr)</h3> \n",
    "<h4 align=\"center\">2020 Fall  </h4> \n",
    "\n",
    "---"
   ]
  },
  {
   "cell_type": "markdown",
   "metadata": {},
   "source": [
    "\n",
    "**This week :** \n",
    "\n",
    "1. Matrix Definition\n",
    "\n",
    "2. Matrix in Python\n",
    "\n",
    "3. Matrix Calculations ; \n",
    "\n",
    "    3.1. Summation\n",
    "    \n",
    "    3.2. Subtraction\n",
    "    \n",
    "    3.3. Multiplication \n",
    "    \n",
    "        3.3.1. Dot product\n",
    "        \n",
    "        3.3.2. Cross product\n",
    "\n",
    "    3.4. Division\n",
    "    \n",
    "    3.5. Inversion\n",
    "    \n",
    "    3.6. Transpose\n",
    "    \n",
    "    3.7. Determinant  \n",
    "    \n",
    "4. Matrix creation\n",
    "\n",
    "    4.1. Zero, one\n",
    "    \n",
    "    4.2. Identity matrix\n",
    "    \n",
    "    4.3. Diagonal matrix\n",
    "    \n",
    "5. Mass matrix\n",
    "\n",
    "6. Stiffness matrix (how to create in a loop?)\n",
    "\n",
    "7. Visualization\n",
    "\n",
    "---\n"
   ]
  },
  {
   "cell_type": "markdown",
   "metadata": {},
   "source": [
    "# Matrix Definition\n",
    "\n",
    "_A matrix is a collection of numbers arranged into a fixed number of rows and columns. Usually the numbers are real numbers._"
   ]
  },
  {
   "cell_type": "markdown",
   "metadata": {},
   "source": [
    "# Matrix in Python\n",
    "\n",
    "Matrix is defined and processed in Numpy module in Python. The variable type is _array_ in Numpy. \n",
    "\n",
    "Do not use currently available \"matrix\" class because it is deprecated.\n"
   ]
  },
  {
   "cell_type": "code",
   "execution_count": 39,
   "metadata": {},
   "outputs": [
    {
     "name": "stdout",
     "output_type": "stream",
     "text": [
      "[[1 2 4]\n",
      " [4 5 6]\n",
      " [7 8 9]]\n",
      "[[1 2 3]\n",
      " [1 1 1]\n",
      " [2 3 4]]\n"
     ]
    }
   ],
   "source": [
    "import numpy as np\n",
    "\n",
    "a = np.array([[1, 2, 4], [4,5,6] , [7,8,9]])\n",
    "\n",
    "print(a)\n",
    "\n",
    "b = np.array([[1, 2, 3], \n",
    "              [1, 1, 1] , \n",
    "              [2, 3, 4]])\n",
    "\n",
    "print(b)"
   ]
  },
  {
   "cell_type": "code",
   "execution_count": 40,
   "metadata": {},
   "outputs": [
    {
     "data": {
      "text/plain": [
       "numpy.ndarray"
      ]
     },
     "execution_count": 40,
     "metadata": {},
     "output_type": "execute_result"
    }
   ],
   "source": [
    "type(a)"
   ]
  },
  {
   "cell_type": "code",
   "execution_count": 44,
   "metadata": {},
   "outputs": [
    {
     "data": {
      "text/plain": [
       "4"
      ]
     },
     "execution_count": 44,
     "metadata": {},
     "output_type": "execute_result"
    }
   ],
   "source": [
    "b[2,2]"
   ]
  },
  {
   "cell_type": "markdown",
   "metadata": {},
   "source": [
    "# Matrix Calculations\n",
    "\n",
    "The fundamentals of Matrix operations"
   ]
  },
  {
   "cell_type": "markdown",
   "metadata": {},
   "source": [
    "## Summation"
   ]
  },
  {
   "cell_type": "code",
   "execution_count": 45,
   "metadata": {},
   "outputs": [
    {
     "data": {
      "text/plain": [
       "array([[ 2,  4,  7],\n",
       "       [ 5,  6,  7],\n",
       "       [ 9, 11, 13]])"
      ]
     },
     "execution_count": 45,
     "metadata": {},
     "output_type": "execute_result"
    }
   ],
   "source": [
    "a + b"
   ]
  },
  {
   "cell_type": "markdown",
   "metadata": {},
   "source": [
    "## Subtraction"
   ]
  },
  {
   "cell_type": "code",
   "execution_count": 46,
   "metadata": {},
   "outputs": [
    {
     "data": {
      "text/plain": [
       "array([[0, 0, 1],\n",
       "       [3, 4, 5],\n",
       "       [5, 5, 5]])"
      ]
     },
     "execution_count": 46,
     "metadata": {},
     "output_type": "execute_result"
    }
   ],
   "source": [
    "a - b"
   ]
  },
  {
   "cell_type": "markdown",
   "metadata": {},
   "source": [
    "## Multiplication"
   ]
  },
  {
   "cell_type": "code",
   "execution_count": 50,
   "metadata": {},
   "outputs": [
    {
     "name": "stdout",
     "output_type": "stream",
     "text": [
      "[[1 2 4]\n",
      " [4 5 6]\n",
      " [7 8 9]]\n"
     ]
    }
   ],
   "source": [
    "print( a)"
   ]
  },
  {
   "cell_type": "code",
   "execution_count": 51,
   "metadata": {},
   "outputs": [
    {
     "name": "stdout",
     "output_type": "stream",
     "text": [
      "[[1 2 3]\n",
      " [1 1 1]\n",
      " [2 3 4]]\n"
     ]
    }
   ],
   "source": [
    "print(b) "
   ]
  },
  {
   "cell_type": "code",
   "execution_count": 52,
   "metadata": {},
   "outputs": [
    {
     "data": {
      "text/plain": [
       "array([[ 1,  4, 12],\n",
       "       [ 4,  5,  6],\n",
       "       [14, 24, 36]])"
      ]
     },
     "execution_count": 52,
     "metadata": {},
     "output_type": "execute_result"
    }
   ],
   "source": [
    "a*b"
   ]
  },
  {
   "cell_type": "markdown",
   "metadata": {},
   "source": [
    "### Dot product"
   ]
  },
  {
   "cell_type": "code",
   "execution_count": 53,
   "metadata": {},
   "outputs": [
    {
     "data": {
      "text/plain": [
       "array([[11, 16, 21],\n",
       "       [21, 31, 41],\n",
       "       [33, 49, 65]])"
      ]
     },
     "execution_count": 53,
     "metadata": {},
     "output_type": "execute_result"
    }
   ],
   "source": [
    "np.dot(a,b)"
   ]
  },
  {
   "cell_type": "markdown",
   "metadata": {},
   "source": [
    "### Cross product"
   ]
  },
  {
   "cell_type": "code",
   "execution_count": 54,
   "metadata": {},
   "outputs": [
    {
     "data": {
      "text/plain": [
       "array([[ 1,  4, 12],\n",
       "       [ 4,  5,  6],\n",
       "       [14, 24, 36]])"
      ]
     },
     "execution_count": 54,
     "metadata": {},
     "output_type": "execute_result"
    }
   ],
   "source": [
    "a*b"
   ]
  },
  {
   "cell_type": "markdown",
   "metadata": {},
   "source": [
    "## Divison"
   ]
  },
  {
   "cell_type": "code",
   "execution_count": 56,
   "metadata": {},
   "outputs": [
    {
     "name": "stdout",
     "output_type": "stream",
     "text": [
      "[[1 2 4]\n",
      " [4 5 6]\n",
      " [7 8 9]]\n",
      "-------\n",
      "[[1 2 3]\n",
      " [1 1 1]\n",
      " [2 3 4]]\n"
     ]
    }
   ],
   "source": [
    "print(a)\n",
    "print(\"-------\")\n",
    "print(b)"
   ]
  },
  {
   "cell_type": "code",
   "execution_count": 55,
   "metadata": {},
   "outputs": [
    {
     "data": {
      "text/plain": [
       "array([[1.        , 1.        , 1.33333333],\n",
       "       [4.        , 5.        , 6.        ],\n",
       "       [3.5       , 2.66666667, 2.25      ]])"
      ]
     },
     "execution_count": 55,
     "metadata": {},
     "output_type": "execute_result"
    }
   ],
   "source": [
    "a/b"
   ]
  },
  {
   "cell_type": "code",
   "execution_count": 57,
   "metadata": {},
   "outputs": [
    {
     "data": {
      "text/plain": [
       "array([[1.        , 1.        , 1.33333333],\n",
       "       [4.        , 5.        , 6.        ],\n",
       "       [3.5       , 2.66666667, 2.25      ]])"
      ]
     },
     "execution_count": 57,
     "metadata": {},
     "output_type": "execute_result"
    }
   ],
   "source": [
    "np.divide(a,b)\n",
    "\n",
    "\n",
    "\n",
    "\n",
    "\n",
    "\n",
    "\n",
    "\n",
    "\n",
    "\n",
    "\n"
   ]
  },
  {
   "cell_type": "code",
   "execution_count": null,
   "metadata": {},
   "outputs": [],
   "source": [
    "np."
   ]
  },
  {
   "cell_type": "markdown",
   "metadata": {},
   "source": [
    "## Inversion"
   ]
  },
  {
   "cell_type": "code",
   "execution_count": 63,
   "metadata": {},
   "outputs": [],
   "source": [
    "import numpy as np"
   ]
  },
  {
   "cell_type": "code",
   "execution_count": 64,
   "metadata": {},
   "outputs": [],
   "source": [
    "a_inve = np.linalg.inv( a )"
   ]
  },
  {
   "cell_type": "code",
   "execution_count": 65,
   "metadata": {},
   "outputs": [
    {
     "data": {
      "text/plain": [
       "array([[ 1.        , -4.66666667,  2.66666667],\n",
       "       [-2.        ,  6.33333333, -3.33333333],\n",
       "       [ 1.        , -2.        ,  1.        ]])"
      ]
     },
     "execution_count": 65,
     "metadata": {},
     "output_type": "execute_result"
    }
   ],
   "source": [
    "a_inve"
   ]
  },
  {
   "cell_type": "code",
   "execution_count": 66,
   "metadata": {},
   "outputs": [
    {
     "name": "stdout",
     "output_type": "stream",
     "text": [
      "[[ 1.0000000e+00  0.0000000e+00 -4.4408921e-16]\n",
      " [ 0.0000000e+00  1.0000000e+00  0.0000000e+00]\n",
      " [ 0.0000000e+00  0.0000000e+00  1.0000000e+00]]\n"
     ]
    }
   ],
   "source": [
    "# multiply the matrix of a by a_inve\n",
    "\n",
    "output = np.dot( a , a_inve)\n",
    "\n",
    "print(output)"
   ]
  },
  {
   "cell_type": "markdown",
   "metadata": {},
   "source": [
    "## Transpose"
   ]
  },
  {
   "cell_type": "code",
   "execution_count": 67,
   "metadata": {},
   "outputs": [
    {
     "data": {
      "text/plain": [
       "array([[1, 2, 4],\n",
       "       [4, 5, 6],\n",
       "       [7, 8, 9]])"
      ]
     },
     "execution_count": 67,
     "metadata": {},
     "output_type": "execute_result"
    }
   ],
   "source": [
    "a"
   ]
  },
  {
   "cell_type": "code",
   "execution_count": 68,
   "metadata": {},
   "outputs": [
    {
     "name": "stdout",
     "output_type": "stream",
     "text": [
      "[[1 4 7]\n",
      " [2 5 8]\n",
      " [4 6 9]]\n"
     ]
    }
   ],
   "source": [
    "a_transpose = np.transpose(a)\n",
    "\n",
    "print(a_transpose)"
   ]
  },
  {
   "cell_type": "markdown",
   "metadata": {},
   "source": [
    "## Determinant"
   ]
  },
  {
   "cell_type": "code",
   "execution_count": 69,
   "metadata": {},
   "outputs": [
    {
     "data": {
      "text/plain": [
       "-3.000000000000001"
      ]
     },
     "execution_count": 69,
     "metadata": {},
     "output_type": "execute_result"
    }
   ],
   "source": [
    "np.linalg.det( a)"
   ]
  },
  {
   "cell_type": "markdown",
   "metadata": {},
   "source": [
    "# Matrix Creation"
   ]
  },
  {
   "cell_type": "markdown",
   "metadata": {},
   "source": [
    "## Special Matrix"
   ]
  },
  {
   "cell_type": "code",
   "execution_count": 70,
   "metadata": {},
   "outputs": [
    {
     "name": "stdout",
     "output_type": "stream",
     "text": [
      "[[0. 0. 0. 0.]\n",
      " [0. 0. 0. 0.]\n",
      " [0. 0. 0. 0.]\n",
      " [0. 0. 0. 0.]]\n"
     ]
    }
   ],
   "source": [
    "zero_matrix = np.zeros( (4, 4))\n",
    "\n",
    "print( zero_matrix )"
   ]
  },
  {
   "cell_type": "code",
   "execution_count": 75,
   "metadata": {},
   "outputs": [
    {
     "name": "stdout",
     "output_type": "stream",
     "text": [
      "[[1. 1. 1. 1. 1.]\n",
      " [1. 1. 1. 1. 1.]\n",
      " [1. 1. 1. 1. 1.]\n",
      " [1. 1. 1. 1. 1.]]\n"
     ]
    }
   ],
   "source": [
    "one_matrix = np.ones( (4,5))\n",
    "\n",
    "print( one_matrix)"
   ]
  },
  {
   "cell_type": "code",
   "execution_count": 77,
   "metadata": {},
   "outputs": [
    {
     "data": {
      "text/plain": [
       "array([[999., 999., 999., 999.],\n",
       "       [999., 999., 999., 999.],\n",
       "       [999., 999., 999., 999.],\n",
       "       [999., 999., 999., 999.]])"
      ]
     },
     "execution_count": 77,
     "metadata": {},
     "output_type": "execute_result"
    }
   ],
   "source": [
    "999 * np.ones((4,4))\n",
    "\n",
    "\n",
    "\n",
    "\n"
   ]
  },
  {
   "cell_type": "markdown",
   "metadata": {},
   "source": [
    "space \"allocation\" is important for matrix methods"
   ]
  },
  {
   "cell_type": "markdown",
   "metadata": {},
   "source": [
    "## Identity matrix"
   ]
  },
  {
   "cell_type": "code",
   "execution_count": null,
   "metadata": {},
   "outputs": [],
   "source": []
  },
  {
   "cell_type": "code",
   "execution_count": 78,
   "metadata": {},
   "outputs": [
    {
     "name": "stdout",
     "output_type": "stream",
     "text": [
      "[[1. 0. 0. 0.]\n",
      " [0. 1. 0. 0.]\n",
      " [0. 0. 1. 0.]\n",
      " [0. 0. 0. 1.]]\n"
     ]
    }
   ],
   "source": [
    "id_matrix = np.eye(4)\n",
    "\n",
    "print( id_matrix)"
   ]
  },
  {
   "cell_type": "code",
   "execution_count": 79,
   "metadata": {},
   "outputs": [
    {
     "data": {
      "text/plain": [
       "array([[9., 0., 0., 0.],\n",
       "       [0., 9., 0., 0.],\n",
       "       [0., 0., 9., 0.],\n",
       "       [0., 0., 0., 9.]])"
      ]
     },
     "execution_count": 79,
     "metadata": {},
     "output_type": "execute_result"
    }
   ],
   "source": [
    "9 * id_matrix "
   ]
  },
  {
   "cell_type": "markdown",
   "metadata": {},
   "source": [
    "## Diagonal matrix"
   ]
  },
  {
   "cell_type": "code",
   "execution_count": 80,
   "metadata": {},
   "outputs": [
    {
     "name": "stdout",
     "output_type": "stream",
     "text": [
      "[[1 0 0 0]\n",
      " [0 2 0 0]\n",
      " [0 0 3 0]\n",
      " [0 0 0 4]]\n"
     ]
    }
   ],
   "source": [
    "diag_matrix = np.diag( [1,2,3,4])\n",
    "\n",
    "print(diag_matrix)"
   ]
  },
  {
   "cell_type": "markdown",
   "metadata": {},
   "source": [
    "# Mass Matrix"
   ]
  },
  {
   "cell_type": "code",
   "execution_count": 81,
   "metadata": {},
   "outputs": [
    {
     "name": "stdout",
     "output_type": "stream",
     "text": [
      "[[100   0   0]\n",
      " [  0 100   0]\n",
      " [  0   0 100]]\n"
     ]
    }
   ],
   "source": [
    "mass = np.diag([100,100,100])\n",
    "print(mass)"
   ]
  },
  {
   "cell_type": "code",
   "execution_count": 82,
   "metadata": {},
   "outputs": [
    {
     "data": {
      "text/plain": [
       "array([[100.,   0.,   0.,   0.],\n",
       "       [  0., 100.,   0.,   0.],\n",
       "       [  0.,   0., 100.,   0.],\n",
       "       [  0.,   0.,   0., 100.]])"
      ]
     },
     "execution_count": 82,
     "metadata": {},
     "output_type": "execute_result"
    }
   ],
   "source": [
    "mass2 = 100 * np.eye(4)\n",
    "mass2"
   ]
  },
  {
   "cell_type": "code",
   "execution_count": 83,
   "metadata": {},
   "outputs": [
    {
     "data": {
      "text/plain": [
       "array([[100,   0,   0,   0],\n",
       "       [  0, 100,   0,   0],\n",
       "       [  0,   0, 100,   0],\n",
       "       [  0,   0,   0, 100]])"
      ]
     },
     "execution_count": 83,
     "metadata": {},
     "output_type": "execute_result"
    }
   ],
   "source": [
    "mass3 = np.diag( [100 for item in range(4)])\n",
    "mass3"
   ]
  },
  {
   "cell_type": "markdown",
   "metadata": {},
   "source": [
    "# Stiffness matrix (how to create in a loop?)"
   ]
  },
  {
   "cell_type": "code",
   "execution_count": 84,
   "metadata": {},
   "outputs": [
    {
     "name": "stdout",
     "output_type": "stream",
     "text": [
      "44.44444444444444\n"
     ]
    }
   ],
   "source": [
    "# MEMBER STIFNESS\n",
    "EI = 100\n",
    "h = 3\n",
    "k = 12* EI /(3**3)\n",
    "print(k)"
   ]
  },
  {
   "cell_type": "code",
   "execution_count": 85,
   "metadata": {},
   "outputs": [
    {
     "name": "stdout",
     "output_type": "stream",
     "text": [
      "88.88888888888889\n"
     ]
    }
   ],
   "source": [
    "# STORY STIFFNES\n",
    "k_story= 2 * k\n",
    "print(k_story)"
   ]
  },
  {
   "cell_type": "code",
   "execution_count": 86,
   "metadata": {},
   "outputs": [],
   "source": [
    "k1 = k_story\n",
    "k2 = k_story\n",
    "k3 = k_story"
   ]
  },
  {
   "cell_type": "code",
   "execution_count": 88,
   "metadata": {},
   "outputs": [
    {
     "name": "stdout",
     "output_type": "stream",
     "text": [
      "[[177.77777778 -88.88888889   0.        ]\n",
      " [-88.88888889 177.77777778 -88.88888889]\n",
      " [  0.         -88.88888889  88.88888889]]\n"
     ]
    }
   ],
   "source": [
    "# SYSTEM STIFFNESS MATRIX\n",
    "\n",
    "K = np.array( [[k1+k2 , -k1 ,0 ], \n",
    "               [-k1 , k2+k3 , -k2] , \n",
    "               [0 , -k2 , k3]])\n",
    "print(K)"
   ]
  },
  {
   "cell_type": "markdown",
   "metadata": {},
   "source": [
    "---"
   ]
  },
  {
   "cell_type": "code",
   "execution_count": 89,
   "metadata": {},
   "outputs": [
    {
     "data": {
      "text/plain": [
       "[88.88888888888889, 88.88888888888889, 88.88888888888889]"
      ]
     },
     "execution_count": 89,
     "metadata": {},
     "output_type": "execute_result"
    }
   ],
   "source": [
    "# APPROACH 2\n",
    "k_stories = [ k1 ,  k2 , k3]\n",
    "k_stories"
   ]
  },
  {
   "cell_type": "code",
   "execution_count": 90,
   "metadata": {},
   "outputs": [
    {
     "data": {
      "text/plain": [
       "array([[1., 0., 0.],\n",
       "       [0., 1., 0.],\n",
       "       [0., 0., 1.]])"
      ]
     },
     "execution_count": 90,
     "metadata": {},
     "output_type": "execute_result"
    }
   ],
   "source": [
    "K_system = np.eye(3)\n",
    "K_system"
   ]
  },
  {
   "cell_type": "code",
   "execution_count": 91,
   "metadata": {},
   "outputs": [],
   "source": [
    "for i in range(3):\n",
    "    for j in range(3):\n",
    "        if i == j : \n",
    "            K_system[i,j]= k_stories[i] + k_stories[j]\n",
    "        elif i - j == 1 or  j - i == 1:\n",
    "            K_system[i,j]= -1* k_stories[i]\n",
    "        else: \n",
    "            K_system[i,j] = 0\n",
    "K_system[2,2] = k_stories[-1]"
   ]
  },
  {
   "cell_type": "code",
   "execution_count": 92,
   "metadata": {},
   "outputs": [
    {
     "data": {
      "text/plain": [
       "array([[177.77777778, -88.88888889,   0.        ],\n",
       "       [-88.88888889, 177.77777778, -88.88888889],\n",
       "       [  0.        , -88.88888889,  88.88888889]])"
      ]
     },
     "execution_count": 92,
     "metadata": {},
     "output_type": "execute_result"
    }
   ],
   "source": [
    "K_system"
   ]
  },
  {
   "cell_type": "markdown",
   "metadata": {},
   "source": [
    "---\n",
    "\n",
    "What if I have 5 stories building with different stiffnesses at each story?"
   ]
  },
  {
   "cell_type": "code",
   "execution_count": 125,
   "metadata": {},
   "outputs": [
    {
     "name": "stdout",
     "output_type": "stream",
     "text": [
      "[18, 10, 13, 15, 17, 18, 18, 12, 17, 10]\n",
      "10\n"
     ]
    }
   ],
   "source": [
    "k_stories_2 =[10,20,30,40,50,10,20,40]\n",
    "k_stories_2 = [ np.random.randint(10,20) for item in range(10) ] \n",
    "print( k_stories_2)\n",
    "no_story = len(k_stories_2)\n",
    "print(no_story)"
   ]
  },
  {
   "cell_type": "code",
   "execution_count": 99,
   "metadata": {
    "collapsed": true,
    "jupyter": {
     "outputs_hidden": true,
     "source_hidden": true
    }
   },
   "outputs": [
    {
     "data": {
      "text/plain": [
       "array([[0., 0., 0., 0., 0., 0.],\n",
       "       [0., 0., 0., 0., 0., 0.],\n",
       "       [0., 0., 0., 0., 0., 0.],\n",
       "       [0., 0., 0., 0., 0., 0.],\n",
       "       [0., 0., 0., 0., 0., 0.],\n",
       "       [0., 0., 0., 0., 0., 0.]])"
      ]
     },
     "execution_count": 99,
     "metadata": {},
     "output_type": "execute_result"
    }
   ],
   "source": [
    "K_system = np.zeros( (no_story, no_story))\n",
    "K_system"
   ]
  },
  {
   "cell_type": "code",
   "execution_count": 126,
   "metadata": {},
   "outputs": [
    {
     "data": {
      "text/plain": [
       "array([[ 28., -18.,   0.,   0.,   0.,   0.,   0.,   0.,   0.,   0.],\n",
       "       [-18.,  23., -10.,   0.,   0.,   0.,   0.,   0.,   0.,   0.],\n",
       "       [  0., -10.,  28., -13.,   0.,   0.,   0.,   0.,   0.,   0.],\n",
       "       [  0.,   0., -13.,  32., -15.,   0.,   0.,   0.,   0.,   0.],\n",
       "       [  0.,   0.,   0., -15.,  35., -17.,   0.,   0.,   0.,   0.],\n",
       "       [  0.,   0.,   0.,   0., -17.,  36., -18.,   0.,   0.,   0.],\n",
       "       [  0.,   0.,   0.,   0.,   0., -18.,  30., -18.,   0.,   0.],\n",
       "       [  0.,   0.,   0.,   0.,   0.,   0., -18.,  29., -12.,   0.],\n",
       "       [  0.,   0.,   0.,   0.,   0.,   0.,   0., -12.,  27., -17.],\n",
       "       [  0.,   0.,   0.,   0.,   0.,   0.,   0.,   0., -17.,  10.]])"
      ]
     },
     "execution_count": 126,
     "metadata": {},
     "output_type": "execute_result"
    }
   ],
   "source": [
    "K_system = np.zeros( (no_story, no_story))\n",
    "for i in range(no_story-1):\n",
    "    for j in range( no_story):\n",
    "        if i == j : \n",
    "            K_system[i,j]= k_stories_2[i] + k_stories_2[i+1]\n",
    "        elif i - j == 1 :\n",
    "            K_system[i,j]= -1* k_stories_2[j]\n",
    "        elif j-i == 1:\n",
    "            K_system[i,j]= -1* k_stories_2[i]\n",
    "                \n",
    "        else: \n",
    "            K_system[i,j] = 0\n",
    "\n",
    "K_system[no_story-1,no_story-1] = k_stories_2[-1]\n",
    "K_system[no_story-1,no_story-2] = -1*k_stories_2[-2]\n",
    "\n",
    "K_system"
   ]
  },
  {
   "cell_type": "code",
   "execution_count": 127,
   "metadata": {},
   "outputs": [
    {
     "name": "stdout",
     "output_type": "stream",
     "text": [
      "[[ 1.00000000e+00  0.00000000e+00  0.00000000e+00  0.00000000e+00\n",
      "   0.00000000e+00  0.00000000e+00  0.00000000e+00  0.00000000e+00\n",
      "   0.00000000e+00  0.00000000e+00]\n",
      " [-5.55111512e-16  1.00000000e+00 -1.11022302e-16 -2.22044605e-16\n",
      "  -5.55111512e-17  0.00000000e+00 -2.77555756e-17 -6.93889390e-18\n",
      "   5.55111512e-17  5.55111512e-17]\n",
      " [ 2.22044605e-16  2.22044605e-16  1.00000000e+00  2.22044605e-16\n",
      "   1.11022302e-16  5.55111512e-17  5.55111512e-17  6.93889390e-18\n",
      "   0.00000000e+00  0.00000000e+00]\n",
      " [ 0.00000000e+00 -5.55111512e-17 -2.22044605e-16  1.00000000e+00\n",
      "   0.00000000e+00  0.00000000e+00  0.00000000e+00  0.00000000e+00\n",
      "   0.00000000e+00  1.11022302e-16]\n",
      " [ 0.00000000e+00  1.66533454e-16  0.00000000e+00 -1.11022302e-16\n",
      "   1.00000000e+00  2.22044605e-16  1.11022302e-16  0.00000000e+00\n",
      "   0.00000000e+00 -4.44089210e-16]\n",
      " [ 8.32667268e-17 -1.11022302e-16  1.66533454e-16  2.22044605e-16\n",
      "  -2.22044605e-16  1.00000000e+00  2.22044605e-16  2.77555756e-17\n",
      "   0.00000000e+00  0.00000000e+00]\n",
      " [ 2.77555756e-17  1.66533454e-16  3.46944695e-17  5.55111512e-17\n",
      "   4.44089210e-16  3.60822483e-16  1.00000000e+00  4.44089210e-16\n",
      "   0.00000000e+00  0.00000000e+00]\n",
      " [ 4.16333634e-17  0.00000000e+00  0.00000000e+00  0.00000000e+00\n",
      "   0.00000000e+00  0.00000000e+00  2.22044605e-16  1.00000000e+00\n",
      "   0.00000000e+00  0.00000000e+00]\n",
      " [ 0.00000000e+00  0.00000000e+00  0.00000000e+00  0.00000000e+00\n",
      "   0.00000000e+00  0.00000000e+00  0.00000000e+00  0.00000000e+00\n",
      "   1.00000000e+00  4.44089210e-16]\n",
      " [ 0.00000000e+00  0.00000000e+00  0.00000000e+00 -5.55111512e-17\n",
      "   0.00000000e+00 -1.11022302e-16  0.00000000e+00  0.00000000e+00\n",
      "   0.00000000e+00  1.00000000e+00]]\n"
     ]
    }
   ],
   "source": [
    "temp_eye = np.dot( K_system, np.linalg.inv( K_system))\n",
    "print ( temp_eye )"
   ]
  },
  {
   "cell_type": "markdown",
   "metadata": {},
   "source": [
    "# Visualization _(New Section !)_\n",
    "\n",
    "Let's visualize the lateral forces of the MDOF system made of columns"
   ]
  },
  {
   "cell_type": "code",
   "execution_count": 118,
   "metadata": {},
   "outputs": [],
   "source": [
    "import matplotlib.pyplot as plt"
   ]
  },
  {
   "cell_type": "code",
   "execution_count": 128,
   "metadata": {},
   "outputs": [
    {
     "data": {
      "text/plain": [
       "[<matplotlib.lines.Line2D at 0x7fc033388410>,\n",
       " <matplotlib.lines.Line2D at 0x7fc033390e10>,\n",
       " <matplotlib.lines.Line2D at 0x7fc033390b10>,\n",
       " <matplotlib.lines.Line2D at 0x7fc0333907d0>,\n",
       " <matplotlib.lines.Line2D at 0x7fc033390110>,\n",
       " <matplotlib.lines.Line2D at 0x7fc033397f50>,\n",
       " <matplotlib.lines.Line2D at 0x7fc033390ed0>,\n",
       " <matplotlib.lines.Line2D at 0x7fc033397810>,\n",
       " <matplotlib.lines.Line2D at 0x7fc0333904d0>,\n",
       " <matplotlib.lines.Line2D at 0x7fc033390510>]"
      ]
     },
     "execution_count": 128,
     "metadata": {},
     "output_type": "execute_result"
    },
    {
     "data": {
      "image/png": "[encoded data removed]",
      "text/plain": [
       "<Figure size 432x288 with 1 Axes>"
      ]
     },
     "metadata": {
      "needs_background": "light"
     },
     "output_type": "display_data"
    }
   ],
   "source": [
    "plt.plot( temp_eye , \"*\")"
   ]
  },
  {
   "cell_type": "markdown",
   "metadata": {
    "slideshow": {
     "slide_type": "slide"
    }
   },
   "source": [
    "---\n",
    "\n",
    "**NEXT WEEK**\n",
    "\n",
    "<table >\n",
    "<tr>\n",
    "<td>\n",
    "<img src=\"http://worshiphousemedia.s3.amazonaws.com/images/main/s/st/bnt/st/seeyounextweek1.jpg\" >\n",
    "</td>\n",
    "<td align=\"left\"><strong style=\"font-size: 20px;\">\n",
    "The topics for the next week \n",
    "<br><br>\n",
    "\n",
    "1- Assignment : Not this week\n",
    "<br><br>\n",
    "2- \"Displacement and Force Method in Structural Analysis\"\n",
    "<br>\n",
    "</td>\n",
    "</tr>\n",
    "</table>"
   ]
  },
  {
   "cell_type": "code",
   "execution_count": null,
   "metadata": {},
   "outputs": [],
   "source": []
  }
 ],
 "metadata": {
  "celltoolbar": "Slideshow",
  "kernelspec": {
   "display_name": "Python 3",
   "language": "python",
   "name": "python3"
  },
  "language_info": {
   "codemirror_mode": {
    "name": "ipython",
    "version": 3
   },
   "file_extension": ".py",
   "mimetype": "text/x-python",
   "name": "python",
   "nbconvert_exporter": "python",
   "pygments_lexer": "ipython3",
   "version": "3.7.6"
  },
  "toc-autonumbering": true
 },
 "nbformat": 4,
 "nbformat_minor": 4
}
