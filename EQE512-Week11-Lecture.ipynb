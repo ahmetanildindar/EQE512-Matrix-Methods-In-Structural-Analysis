{
 "cells": [
  {
   "cell_type": "markdown",
   "metadata": {
    "slideshow": {
     "slide_type": "slide"
    }
   },
   "source": [
    "EQE512 MATRIX METHODS IN STRUCTURAL ANALYSIS \n",
    "\n",
    "---\n",
    "<h3 align=\"center\"><font color = red >Week 11 - Frame Systems - Dynamic Properties </font></h3> \n",
    "\n",
    "<h4 align=\"center\"><font color = blue >Dr. Ahmet Anıl Dindar (adindar@gtu.edu.tr)</font></h4> \n",
    "<h4 align=\"center\"><font color = green >2020 Fall</font></h4> \n",
    "\n",
    "\n",
    "---"
   ]
  },
  {
   "cell_type": "markdown",
   "metadata": {},
   "source": [
    "**Let's calculate the modal parameters of the given MDOF system**\n",
    "\n",
    "<center><img src=\"./figures/15-EQE512-Week12-MDOF_Frame-Generic.PNG\" width=25% , alignment = \"center\"> </img><\\center>\n",
    "\n",
    "This code is composed of two (2) main parts, namely \n",
    "\n",
    "1- Hand Calculation\n",
    "\n",
    "2- OpenSeesPy\n",
    "\n",
    "---"
   ]
  },
  {
   "cell_type": "markdown",
   "metadata": {},
   "source": [
    "# Hand Calculations\n",
    "<center><img src=\"./figures/15-EQE512-Week12-MDOF_Frame-Values.PNG\" width=40% , alignment = \"center\"> </img><\\center>\n",
    "\n",
    "Material is C25 ($E = 32GPA$)"
   ]
  },
  {
   "cell_type": "code",
   "execution_count": 2,
   "metadata": {},
   "outputs": [],
   "source": [
    "E = 32_000_000 # kN/m2\n",
    "\n",
    "conc_weight = 25 # kN/m\n",
    "\n",
    "UDL = 10 # kN/m\n",
    "\n",
    "g = 9.81 # m7s2\n",
    "\n",
    "# *********************** GEOMETRY\n",
    "L , H1 , H2 , h_beam , b_beam, h_col , b_col = 5 , 3 , 3, 0.5 , 0.2 , 0.5 , 0.5 # m"
   ]
  },
  {
   "cell_type": "markdown",
   "metadata": {},
   "source": [
    "**Mass Matrix**"
   ]
  },
  {
   "cell_type": "code",
   "execution_count": 4,
   "metadata": {},
   "outputs": [],
   "source": [
    "# Load on beam\n",
    "beam_load = UDL * L\n",
    "beam_sw = ( h_beam * b_beam * L) * conc_weight"
   ]
  },
  {
   "cell_type": "code",
   "execution_count": 5,
   "metadata": {},
   "outputs": [],
   "source": [
    "# Load on columns\n",
    "column_sw = (h_col * b_col * H1) * conc_weight"
   ]
  },
  {
   "cell_type": "code",
   "execution_count": 11,
   "metadata": {},
   "outputs": [],
   "source": [
    "# Mass of stories\n",
    "M1 = ( 4 * column_sw / 2 + beam_load + beam_sw) / g\n",
    "M1 = round( M1 ,2)\n",
    "\n",
    "M2 = ( 2 * column_sw / 2 + beam_load + beam_sw) / g\n",
    "M2 = round( M2 ,2)"
   ]
  },
  {
   "cell_type": "code",
   "execution_count": 12,
   "metadata": {},
   "outputs": [
    {
     "name": "stdout",
     "output_type": "stream",
     "text": [
      "[[10.19  0.  ]\n",
      " [ 0.    8.28]]\n"
     ]
    }
   ],
   "source": [
    "# CONSTRUCT THE MASS MATRIX\n",
    "\n",
    "import numpy as np\n",
    "\n",
    "Mass_sys = np.array( [[ M1, 0] , [ 0, M2]])\n",
    "\n",
    "print( Mass_sys)"
   ]
  },
  {
   "cell_type": "markdown",
   "metadata": {},
   "source": [
    "**Stiffness Matrix**"
   ]
  },
  {
   "cell_type": "code",
   "execution_count": 17,
   "metadata": {},
   "outputs": [],
   "source": [
    "Mom_inertia = (b_col * h_col **3 ) / 12\n",
    "\n",
    "K1 = 2 * (( 12 * E * Mom_inertia)/ ( H1**3))\n",
    "K1 = round( K1 ,0)\n",
    "\n",
    "K2 = 2 * (( 12 * E * Mom_inertia)/ ( H2**3))\n",
    "K2 = round( K2 ,0)"
   ]
  },
  {
   "cell_type": "code",
   "execution_count": 18,
   "metadata": {},
   "outputs": [
    {
     "name": "stdout",
     "output_type": "stream",
     "text": [
      "[[ 296296. -148148.]\n",
      " [-148148.  148148.]]\n"
     ]
    }
   ],
   "source": [
    "# CONSTRUCT THE SYSTEM STIFFNESS MATRIX\n",
    "K_sys = np.array( [[K1 + K2 , -K2],[-K2 , K2]])\n",
    "\n",
    "print( K_sys)"
   ]
  },
  {
   "cell_type": "markdown",
   "metadata": {},
   "source": [
    "**Calculation of the Natural Circular Frequencies**"
   ]
  },
  {
   "cell_type": "markdown",
   "metadata": {},
   "source": [
    "\n",
    "<center><img src=\"./images/EQE512-Week11-NaturalFrequencies.png\" width=25% , alignment = \"center\"> </img><\\center>"
   ]
  },
  {
   "cell_type": "code",
   "execution_count": 20,
   "metadata": {},
   "outputs": [
    {
     "name": "stdout",
     "output_type": "stream",
     "text": [
      "[[ 29077.13444553 -14538.56722277]\n",
      " [-17892.2705314   17892.2705314 ]]\n"
     ]
    }
   ],
   "source": [
    "# Calculation of natural circular frequencies\n",
    "\n",
    "w2 = np.dot( np.linalg.inv( Mass_sys) , K_sys)\n",
    "\n",
    "print( w2)"
   ]
  },
  {
   "cell_type": "code",
   "execution_count": 21,
   "metadata": {},
   "outputs": [],
   "source": [
    "# Calculaiton of mode shape vectors and values\n",
    "\n",
    "V , D = np.linalg.eigh( w2)"
   ]
  },
  {
   "cell_type": "code",
   "execution_count": 22,
   "metadata": {},
   "outputs": [
    {
     "data": {
      "text/plain": [
       "array([ 4738.80587179, 42230.59910515])"
      ]
     },
     "execution_count": 22,
     "metadata": {},
     "output_type": "execute_result"
    }
   ],
   "source": [
    "V"
   ]
  },
  {
   "cell_type": "code",
   "execution_count": 23,
   "metadata": {},
   "outputs": [
    {
     "data": {
      "text/plain": [
       "array([[-0.59231397, -0.80570724],\n",
       "       [-0.80570724,  0.59231397]])"
      ]
     },
     "execution_count": 23,
     "metadata": {},
     "output_type": "execute_result"
    }
   ],
   "source": [
    "D"
   ]
  },
  {
   "cell_type": "code",
   "execution_count": 24,
   "metadata": {},
   "outputs": [
    {
     "data": {
      "text/plain": [
       "[68.83898511590421, 205.50084940249792]"
      ]
     },
     "execution_count": 24,
     "metadata": {},
     "output_type": "execute_result"
    }
   ],
   "source": [
    "w = [ item**0.5 for item in V]\n",
    "w"
   ]
  },
  {
   "cell_type": "code",
   "execution_count": 30,
   "metadata": {},
   "outputs": [
    {
     "name": "stdout",
     "output_type": "stream",
     "text": [
      "1 Mode Period is 0.09sec.\n",
      "2 Mode Period is 0.03sec.\n"
     ]
    }
   ],
   "source": [
    "T = [ round( 2* (22/7) / item ,2)  for item in w]\n",
    "for count, item in enumerate( T ) :\n",
    "    print( f\"{count+1} Mode Period is {item}sec.\")"
   ]
  },
  {
   "cell_type": "code",
   "execution_count": 31,
   "metadata": {},
   "outputs": [
    {
     "data": {
      "image/png": "[encoded data removed]",
      "text/plain": [
       "<Figure size 432x288 with 2 Axes>"
      ]
     },
     "metadata": {
      "needs_background": "light"
     },
     "output_type": "display_data"
    }
   ],
   "source": [
    "import matplotlib.pyplot as plt\n",
    "%matplotlib inline\n",
    "\n",
    "for mode_no , mode_shape in enumerate( D ):\n",
    "    \n",
    "    vector = list(D[:][mode_no])\n",
    "    vector.insert(0,0)\n",
    "    plt.subplot( 1,len(Mass_sys), mode_no + 1)\n",
    "    plt.plot( vector , range(len(Mass_sys)+1) , \"o-\" , MS = 10)\n",
    "    plt.plot( [0 for item in range( len(Mass_sys)+1) ], range(len(Mass_sys)+1) , \"o--\" , MS = 10 ,color=\"gray\")\n"
   ]
  },
  {
   "cell_type": "markdown",
   "metadata": {},
   "source": [
    "# OPENSEESPY"
   ]
  },
  {
   "cell_type": "markdown",
   "metadata": {},
   "source": [
    "\n",
    "---\n",
    "\n",
    "### <center>2- OpenSeesPy Modeling"
   ]
  },
  {
   "cell_type": "code",
   "execution_count": 23,
   "metadata": {},
   "outputs": [],
   "source": [
    "# from openseespy import *\n",
    "\n",
    "import openseespy.opensees as os"
   ]
  },
  {
   "cell_type": "code",
   "execution_count": 24,
   "metadata": {},
   "outputs": [],
   "source": [
    "os.wipe() # Clear all OS values"
   ]
  },
  {
   "cell_type": "code",
   "execution_count": 25,
   "metadata": {},
   "outputs": [],
   "source": [
    "os.model( \"Basic\", \"-ndm\", 2 , \"-ndf\", 3) # This is a 2D Frame"
   ]
  },
  {
   "cell_type": "code",
   "execution_count": 26,
   "metadata": {},
   "outputs": [],
   "source": [
    "numBay = 1\n",
    "numFloor = 2"
   ]
  },
  {
   "cell_type": "code",
   "execution_count": 27,
   "metadata": {},
   "outputs": [],
   "source": [
    "bayWidht = 5.0 # m\n",
    "storyHeight = 3.0 # m"
   ]
  },
  {
   "cell_type": "code",
   "execution_count": 29,
   "metadata": {},
   "outputs": [],
   "source": [
    "E = 32000000 # kN/m2\n",
    "massX = 5 * 2 # we'll discuss\n",
    "M = 0. \n",
    "coordTransfer = \"Linear\" # Linear Transformation\n",
    "massType = \"-lMass\" # Lumped mass"
   ]
  },
  {
   "cell_type": "code",
   "execution_count": 30,
   "metadata": {},
   "outputs": [],
   "source": [
    "beams = [ \"B20X50\" for item in range( numFloor)]\n",
    "eColumn = [ \"C50X50\" for item in range( numFloor)]\n",
    "iColumn = [ \"C50X50\" for item in range( numFloor)]\n",
    "\n",
    "columns = [eColumn , iColumn , eColumn]"
   ]
  },
  {
   "cell_type": "code",
   "execution_count": 31,
   "metadata": {},
   "outputs": [],
   "source": [
    "Section = { \"C50X50\" : [ 0.5 * .5 , (0.5*0.5**3)/12],\n",
    "          \"B20X50\": [0.2*.5 , (.2*0.5**3)/12]}"
   ]
  },
  {
   "cell_type": "code",
   "execution_count": 32,
   "metadata": {},
   "outputs": [
    {
     "data": {
      "text/plain": [
       "{'C50X50': [0.25, 0.005208333333333333],\n",
       " 'B20X50': [0.1, 0.0020833333333333333]}"
      ]
     },
     "execution_count": 32,
     "metadata": {},
     "output_type": "execute_result"
    }
   ],
   "source": [
    "Section"
   ]
  },
  {
   "cell_type": "code",
   "execution_count": 33,
   "metadata": {},
   "outputs": [],
   "source": [
    "def ElasticBeamColum( eleTag, iNode, jNode, sectType, E, transfTag, M, massType) :\n",
    "    \n",
    "    prop = Section[sectType]\n",
    "    Area = prop[0]\n",
    "    I = prop[1]\n",
    "    \n",
    "    os.element( \"elasticBeamColumn\", eleTag ,iNode, jNode, Area, E , I , transfTag , \"-mass\", M, massType)"
   ]
  },
  {
   "cell_type": "code",
   "execution_count": 34,
   "metadata": {},
   "outputs": [],
   "source": [
    "import numpy as np\n",
    "axis_h = np.linspace( 0 , (numBay * bayWidht)  ,numBay+1)\n",
    "axis_v = np.linspace( 0 , (numFloor * storyHeight)  ,numFloor+1)\n"
   ]
  },
  {
   "cell_type": "code",
   "execution_count": 35,
   "metadata": {},
   "outputs": [],
   "source": [
    "node_no =  1\n",
    "node_dict = {}\n",
    "floorNo = 0\n",
    "floorNodes = {}\n",
    "nodes = []\n",
    "for i in axis_v:\n",
    "    floorNodes[floorNo] = []\n",
    "    \n",
    "    for j in axis_h:\n",
    "        nodes.append(node_no)\n",
    "\n",
    "        # OPENSEES COMMAND\n",
    "        os.node( node_no , float(j) , float(i))\n",
    "        \n",
    "        node_dict[node_no] = [float(j) , float(i)]\n",
    "        floorNodes[floorNo].append(node_no)\n",
    "        \n",
    "        \n",
    "        node_no += 1\n",
    "    floorNo += 1"
   ]
  },
  {
   "cell_type": "code",
   "execution_count": 36,
   "metadata": {},
   "outputs": [],
   "source": [
    "for nodeNumber in floorNodes[0]:\n",
    "    os.fix( nodeNumber , 1,1,1)"
   ]
  },
  {
   "cell_type": "code",
   "execution_count": 37,
   "metadata": {},
   "outputs": [
    {
     "data": {
      "text/plain": [
       "{0: [1, 2], 1: [3, 4], 2: [5, 6]}"
      ]
     },
     "execution_count": 37,
     "metadata": {},
     "output_type": "execute_result"
    }
   ],
   "source": [
    "# Rigid Diaphram Assignment\n",
    "floorNodes"
   ]
  },
  {
   "cell_type": "code",
   "execution_count": 38,
   "metadata": {},
   "outputs": [],
   "source": [
    "for key, value in floorNodes.items():\n",
    "    for item in value[:]:\n",
    "        if item == value[0]:\n",
    "            os.mass( item , massX , 0.0000000001 , 0.0000000001 )\n",
    "        else: \n",
    "            os.equalDOF( value[0] , item , 1)"
   ]
  },
  {
   "cell_type": "code",
   "execution_count": 39,
   "metadata": {},
   "outputs": [],
   "source": [
    "os.geomTransf(coordTransfer, 1)\n",
    "column_dict = {}\n",
    "eleTag = 1 \n",
    "for  j in range(0 , numBay + 1):\n",
    "    end1 = j + 1\n",
    "    end2 = end1 + numBay + 1\n",
    "    thisColumn = columns[j]\n",
    "    \n",
    "    for i in range( 0 ,numFloor):\n",
    "        secType = thisColumn[ i]\n",
    "        ElasticBeamColum( eleTag, end1 , end2 , secType , E , 1, M , massType)\n",
    "        column_dict[eleTag] = [end1, end2]\n",
    "        end1 =end2\n",
    "        end2 += numBay + 1\n",
    "\n",
    "        \n",
    "        eleTag += 1\n",
    "        "
   ]
  },
  {
   "cell_type": "code",
   "execution_count": 40,
   "metadata": {},
   "outputs": [
    {
     "data": {
      "image/png": "[encoded data removed]",
      "text/plain": [
       "<Figure size 432x288 with 1 Axes>"
      ]
     },
     "metadata": {
      "needs_background": "light"
     },
     "output_type": "display_data"
    }
   ],
   "source": [
    "import matplotlib.pyplot as plt\n",
    "%matplotlib inline\n",
    "\n",
    "for key in node_dict.keys():\n",
    "    plt.plot( node_dict[key][0] ,  node_dict[key][1] , \"o\"  )"
   ]
  },
  {
   "cell_type": "code",
   "execution_count": 41,
   "metadata": {},
   "outputs": [
    {
     "data": {
      "image/png": "[encoded data removed]",
      "text/plain": [
       "<Figure size 432x288 with 1 Axes>"
      ]
     },
     "metadata": {
      "needs_background": "light"
     },
     "output_type": "display_data"
    }
   ],
   "source": [
    "import matplotlib.pyplot as plt\n",
    "%matplotlib inline\n",
    "\n",
    "for key in column_dict.keys():\n",
    "    plt.plot([ node_dict[column_dict[key][0]][0] ,node_dict[column_dict[key][1]][0]],\n",
    "              [ node_dict[column_dict[key][0]][1] ,node_dict[column_dict[key][1]][1]]  )\n",
    "    "
   ]
  },
  {
   "cell_type": "code",
   "execution_count": 42,
   "metadata": {},
   "outputs": [],
   "source": [
    "beam_dict = {}\n",
    "for j in range( 1 , numFloor +1):\n",
    "    end1 = (numBay + 1) * j + 1\n",
    "    end2 = end1+1\n",
    "    secType = beams[j -1 ]\n",
    "    for i in range(0, numBay):\n",
    "        ElasticBeamColum(eleTag, end1, end2, secType, E, 1, M, massType) \n",
    "        beam_dict[eleTag] = [end1, end2]\n",
    "        end1 = end2\n",
    "        end2 = end1 + 1\n",
    "        eleTag += 1"
   ]
  },
  {
   "cell_type": "code",
   "execution_count": 43,
   "metadata": {},
   "outputs": [
    {
     "data": {
      "image/png": "[encoded data removed]",
      "text/plain": [
       "<Figure size 432x288 with 1 Axes>"
      ]
     },
     "metadata": {
      "needs_background": "light"
     },
     "output_type": "display_data"
    }
   ],
   "source": [
    "import matplotlib.pyplot as plt\n",
    "%matplotlib inline\n",
    "\n",
    "for key in beam_dict.keys():\n",
    "    plt.plot([ node_dict[beam_dict[key][0]][0] ,node_dict[beam_dict[key][1]][0]],\n",
    "              [ node_dict[beam_dict[key][0]][1] ,node_dict[beam_dict[key][1]][1]]  )\n",
    "    "
   ]
  },
  {
   "cell_type": "code",
   "execution_count": 44,
   "metadata": {},
   "outputs": [
    {
     "data": {
      "image/png": "[encoded data removed]",
      "text/plain": [
       "<Figure size 360x360 with 1 Axes>"
      ]
     },
     "metadata": {
      "needs_background": "light"
     },
     "output_type": "display_data"
    }
   ],
   "source": [
    "plt.figure(figsize= (5,5))\n",
    "\n",
    "\n",
    "for key in node_dict.keys():\n",
    "    plt.plot( node_dict[key][0] ,  node_dict[key][1] , \"o\" , MS = 10 , color=\"blue\")\n",
    "    plt.text(node_dict[key][0] ,  node_dict[key][1] , key , fontsize=20 , color=\"blue\" )\n",
    "    \n",
    "for key in column_dict.keys():\n",
    "    plt.plot([ node_dict[column_dict[key][0]][0] ,node_dict[column_dict[key][1]][0]],\n",
    "              [ node_dict[column_dict[key][0]][1] ,node_dict[column_dict[key][1]][1]]  \n",
    "            , color=\"red\")\n",
    "    plt.text(0.5*( node_dict[column_dict[key][0]][0] + node_dict[column_dict[key][1]][0]),\n",
    "             0.5*(node_dict[column_dict[key][0]][1] + node_dict[column_dict[key][1]][1]), key , fontsize=22 ,color=\"r\" , horizontalalignment=\"right\")\n",
    "    \n",
    "for key in beam_dict.keys():\n",
    "    plt.plot([ node_dict[beam_dict[key][0]][0] ,node_dict[beam_dict[key][1]][0]],\n",
    "              [ node_dict[beam_dict[key][0]][1] ,node_dict[beam_dict[key][1]][1]] \n",
    "            , color=\"k\")\n",
    "    plt.text(0.5*( node_dict[beam_dict[key][0]][0] + node_dict[beam_dict[key][1]][0]),\n",
    "             0.5*(node_dict[beam_dict[key][0]][1] + node_dict[beam_dict[key][1]][1]), key , fontsize=24 , color = \"k\" , verticalalignment=\"center\")\n",
    "    "
   ]
  },
  {
   "cell_type": "code",
   "execution_count": 45,
   "metadata": {},
   "outputs": [],
   "source": [
    "numEigen = 2 \n",
    "eigenValues = os.eigen( numEigen)"
   ]
  },
  {
   "cell_type": "code",
   "execution_count": 46,
   "metadata": {},
   "outputs": [
    {
     "data": {
      "text/plain": [
       "[1422.5997276161331, 23907.01437626409]"
      ]
     },
     "execution_count": 46,
     "metadata": {},
     "output_type": "execute_result"
    }
   ],
   "source": [
    "eigenValues"
   ]
  },
  {
   "cell_type": "code",
   "execution_count": 55,
   "metadata": {},
   "outputs": [
    {
     "name": "stdout",
     "output_type": "stream",
     "text": [
      "1 Mode Period is 0.00442sec.\n",
      "2 Mode Period is 0.00026sec.\n"
     ]
    }
   ],
   "source": [
    "T_ospy = [ round( 2* (22/7) / item ,5)  for item in eigenValues]\n",
    "for count, item in enumerate( T_ospy ) :\n",
    "    print( f\"{count+1} Mode Period is {item}sec.\")"
   ]
  },
  {
   "cell_type": "code",
   "execution_count": 50,
   "metadata": {},
   "outputs": [
    {
     "data": {
      "text/plain": [
       "[0.00442, 0.00026]"
      ]
     },
     "execution_count": 50,
     "metadata": {},
     "output_type": "execute_result"
    }
   ],
   "source": [
    "T_ospy"
   ]
  },
  {
   "cell_type": "markdown",
   "metadata": {},
   "source": [
    "**=> It seems the values are different. Why?**"
   ]
  },
  {
   "cell_type": "markdown",
   "metadata": {
    "slideshow": {
     "slide_type": "slide"
    }
   },
   "source": [
    "---\n",
    "\n",
    "**NEXT WEEK**\n",
    "\n",
    "<table >\n",
    "<tr>\n",
    "<td>\n",
    "<img src=\"http://worshiphousemedia.s3.amazonaws.com/images/main/s/st/bnt/st/seeyounextweek1.jpg\" width=\"40%\">\n",
    "</td>\n",
    "<td align=\"left\"><strong style=\"font-size: 20px;\">\n",
    "The topics for the next week \n",
    "<br><br>\n",
    "\n",
    "1- Assignment : 4\n",
    "    \n",
    "2- System behavior\n",
    "<br><br>\n",
    "\n",
    "<br>\n",
    "</td>\n",
    "</tr>\n",
    "</table>"
   ]
  },
  {
   "cell_type": "code",
   "execution_count": null,
   "metadata": {},
   "outputs": [],
   "source": []
  }
 ],
 "metadata": {
  "celltoolbar": "Slideshow",
  "kernelspec": {
   "display_name": "Python 3",
   "language": "python",
   "name": "python3"
  },
  "language_info": {
   "codemirror_mode": {
    "name": "ipython",
    "version": 3
   },
   "file_extension": ".py",
   "mimetype": "text/x-python",
   "name": "python",
   "nbconvert_exporter": "python",
   "pygments_lexer": "ipython3",
   "version": "3.6.8"
  },
  "toc-autonumbering": false
 },
 "nbformat": 4,
 "nbformat_minor": 4
}
