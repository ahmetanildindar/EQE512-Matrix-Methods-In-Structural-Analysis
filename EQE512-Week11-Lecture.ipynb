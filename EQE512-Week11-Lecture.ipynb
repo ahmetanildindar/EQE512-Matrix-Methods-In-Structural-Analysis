{
 "cells": [
  {
   "cell_type": "markdown",
   "metadata": {
    "slideshow": {
     "slide_type": "slide"
    }
   },
   "source": [
    "EQE512 MATRIX METHODS IN STRUCTURAL ANALYSIS \n",
    "\n",
    "---\n",
    "<h3 align=\"center\"><font color = red >Week 11 - OpenSeesPy - Frame Systems - Dynamic Properties </font></h3> \n",
    "\n",
    "<h4 align=\"center\"><font color = blue >Dr. Ahmet Anıl Dindar (adindar@gtu.edu.tr)</font></h4> \n",
    "<h4 align=\"center\"><font color = green >2020 Fall</font></h4> \n",
    "\n",
    "\n",
    "---"
   ]
  },
  {
   "cell_type": "markdown",
   "metadata": {},
   "source": [
    "**Let's calculate the modal parameters of the given MDOF system**\n",
    "\n",
    "<center><img src=\"./figures/15-EQE512-Week12-MDOF_Frame-Generic.PNG\" width=25% , alignment = \"center\"> </img><\\center>\n",
    "\n",
    "This code is composed of two (2) main parts, namely \n",
    "\n",
    "1- Hand Calculation\n",
    "\n",
    "2- OpenSeesPy\n",
    "\n",
    "---"
   ]
  },
  {
   "cell_type": "markdown",
   "metadata": {
    "slideshow": {
     "slide_type": "slide"
    }
   },
   "source": [
    "---\n",
    "\n",
    "**NEXT WEEK**\n",
    "\n",
    "<table >\n",
    "<tr>\n",
    "<td>\n",
    "<img src=\"http://worshiphousemedia.s3.amazonaws.com/images/main/s/st/bnt/st/seeyounextweek1.jpg\" width=\"40%\">\n",
    "</td>\n",
    "<td align=\"left\"><strong style=\"font-size: 20px;\">\n",
    "The topics for the next week \n",
    "<br><br>\n",
    "\n",
    "1- Assignment : 4\n",
    "    \n",
    "2- System behavior\n",
    "<br><br>\n",
    "\n",
    "<br>\n",
    "</td>\n",
    "</tr>\n",
    "</table>"
   ]
  },
  {
   "cell_type": "code",
   "execution_count": null,
   "metadata": {},
   "outputs": [],
   "source": []
  }
 ],
 "metadata": {
  "celltoolbar": "Slideshow",
  "kernelspec": {
   "display_name": "Python 3",
   "language": "python",
   "name": "python3"
  },
  "language_info": {
   "codemirror_mode": {
    "name": "ipython",
    "version": 3
   },
   "file_extension": ".py",
   "mimetype": "text/x-python",
   "name": "python",
   "nbconvert_exporter": "python",
   "pygments_lexer": "ipython3",
   "version": "3.8.5"
  },
  "toc-autonumbering": false
 },
 "nbformat": 4,
 "nbformat_minor": 4
}
