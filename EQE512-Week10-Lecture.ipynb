{
 "cells": [
  {
   "cell_type": "markdown",
   "metadata": {
    "slideshow": {
     "slide_type": "slide"
    }
   },
   "source": [
    "EQE512 MATRIX METHODS IN STRUCTURAL ANALYSIS \n",
    "\n",
    "---\n",
    "<h3 align=\"center\"><font color = red >Week 10 - OpenSeesPy - Frame Systems </font></h3> \n",
    "\n",
    "<h4 align=\"center\">Dr. Ahmet Anıl Dindar (adindar@gtu.edu.tr)</h3> \n",
    "<h4 align=\"center\">2020 Fall  </h4> \n",
    "\n",
    "---"
   ]
  },
  {
   "cell_type": "markdown",
   "metadata": {},
   "source": [
    "This code is composed of three sections, namely \n",
    "\n",
    "A. Pre-process\n",
    "\n",
    "B. Process\n",
    "\n",
    "C. Post-Process\n",
    "\n",
    "---\n",
    "\n",
    "Problem: This is a multistory 2D Elastic RC frame under static loads"
   ]
  },
  {
   "cell_type": "markdown",
   "metadata": {},
   "source": [
    "# A. Pre-Process"
   ]
  },
  {
   "cell_type": "code",
   "execution_count": 2,
   "metadata": {},
   "outputs": [],
   "source": [
    "# from openseespy import *\n",
    "\n",
    "import openseespy.opensees as ops"
   ]
  },
  {
   "cell_type": "code",
   "execution_count": 3,
   "metadata": {},
   "outputs": [],
   "source": [
    "ops.wipe() # Clear all OS values"
   ]
  },
  {
   "cell_type": "code",
   "execution_count": 4,
   "metadata": {},
   "outputs": [],
   "source": [
    "ops.model( \"Basic\", \"-ndm\", 2 , \"-ndf\", 3) # This is a 2D Frame"
   ]
  },
  {
   "cell_type": "code",
   "execution_count": 5,
   "metadata": {},
   "outputs": [],
   "source": [
    "numBay = 2\n",
    "numFloor = 7"
   ]
  },
  {
   "cell_type": "code",
   "execution_count": 6,
   "metadata": {},
   "outputs": [],
   "source": [
    "bayWidht = 3.0 # m\n",
    "storyHeight = 3.0 # m"
   ]
  },
  {
   "cell_type": "code",
   "execution_count": 7,
   "metadata": {},
   "outputs": [],
   "source": [
    "E = 295000000 # kN/m2\n",
    "massX = 0.49\n",
    "M = 0. \n",
    "coordTransfer = \"Linear\" # Linear Transformation\n",
    "massType = \"-lMass\" # Lumped mass"
   ]
  },
  {
   "cell_type": "code",
   "execution_count": 8,
   "metadata": {},
   "outputs": [],
   "source": [
    "beams = [ \"B20X50\" for item in range( numFloor)]\n",
    "eColumn = [ \"C50X50\" for item in range( numFloor)]\n",
    "iColumn = [ \"C50X50\" for item in range( numFloor)]\n",
    "\n",
    "columns = [eColumn , iColumn , eColumn]"
   ]
  },
  {
   "cell_type": "code",
   "execution_count": 9,
   "metadata": {},
   "outputs": [],
   "source": [
    "Section = { \"C50X50\" : [ 0.5 * .5 , (0.5*0.5**3)/12],\n",
    "          \"B20X50\": [0.2*.5 , (.2*0.5**3)/12]}"
   ]
  },
  {
   "cell_type": "code",
   "execution_count": 10,
   "metadata": {},
   "outputs": [
    {
     "data": {
      "text/plain": [
       "{'C50X50': [0.25, 0.005208333333333333],\n",
       " 'B20X50': [0.1, 0.0020833333333333333]}"
      ]
     },
     "execution_count": 10,
     "metadata": {},
     "output_type": "execute_result"
    }
   ],
   "source": [
    "Section"
   ]
  },
  {
   "cell_type": "code",
   "execution_count": 11,
   "metadata": {},
   "outputs": [],
   "source": [
    "def ElasticBeamColum( eleTag, iNode, jNode, sectType, E, transfTag, M, massType) :\n",
    "    \n",
    "    prop = Section[sectType]\n",
    "    Area = prop[0]\n",
    "    I = prop[1]\n",
    "    \n",
    "    ops.element( \"elasticBeamColumn\", eleTag ,iNode, jNode, Area, E , I , transfTag , \"-mass\", M, massType)"
   ]
  },
  {
   "cell_type": "code",
   "execution_count": 12,
   "metadata": {},
   "outputs": [],
   "source": [
    "import numpy as np\n",
    "axis_h = np.linspace( 0 , (numBay * bayWidht)  ,numBay+1)\n",
    "axis_v = np.linspace( 0 , (numFloor * storyHeight)  ,numFloor+1)\n"
   ]
  },
  {
   "cell_type": "code",
   "execution_count": 13,
   "metadata": {},
   "outputs": [],
   "source": [
    "node_no =  1\n",
    "node_dict = {}\n",
    "floorNo = 0\n",
    "floorNodes = {}\n",
    "nodes = []\n",
    "for i in axis_v:\n",
    "    floorNodes[floorNo] = []\n",
    "    \n",
    "    for j in axis_h:\n",
    "        nodes.append(node_no)\n",
    "\n",
    "        # OPENSEES COMMAND\n",
    "        ops.node( node_no , float(j) , float(i))\n",
    "        \n",
    "        node_dict[node_no] = [float(j) , float(i)]\n",
    "        floorNodes[floorNo].append(node_no)\n",
    "        \n",
    "        \n",
    "        node_no += 1\n",
    "    floorNo += 1"
   ]
  },
  {
   "cell_type": "code",
   "execution_count": 14,
   "metadata": {},
   "outputs": [],
   "source": [
    "for nodeNumber in floorNodes[0]:\n",
    "    ops.fix( nodeNumber , 1,1,1)"
   ]
  },
  {
   "cell_type": "code",
   "execution_count": 15,
   "metadata": {},
   "outputs": [
    {
     "data": {
      "text/plain": [
       "{0: [1, 2, 3],\n",
       " 1: [4, 5, 6],\n",
       " 2: [7, 8, 9],\n",
       " 3: [10, 11, 12],\n",
       " 4: [13, 14, 15],\n",
       " 5: [16, 17, 18],\n",
       " 6: [19, 20, 21],\n",
       " 7: [22, 23, 24]}"
      ]
     },
     "execution_count": 15,
     "metadata": {},
     "output_type": "execute_result"
    }
   ],
   "source": [
    "# Rigid Diaphram Assignment\n",
    "floorNodes"
   ]
  },
  {
   "cell_type": "code",
   "execution_count": 16,
   "metadata": {},
   "outputs": [],
   "source": [
    "for key, value in floorNodes.items():\n",
    "    for item in value[:]:\n",
    "        if item == value[0]:\n",
    "            ops.mass( item , massX , 0.000001 , 0.0000001 )\n",
    "        else: \n",
    "            ops.equalDOF( value[0] , item , 1)"
   ]
  },
  {
   "cell_type": "markdown",
   "metadata": {},
   "source": [
    "Adding columns"
   ]
  },
  {
   "cell_type": "code",
   "execution_count": 17,
   "metadata": {},
   "outputs": [],
   "source": [
    "ops.geomTransf(coordTransfer, 1)\n",
    "column_dict = {}\n",
    "eleTag = 1 \n",
    "for  j in range(0 , numBay + 1):\n",
    "    end1 = j + 1\n",
    "    end2 = end1 + numBay + 1\n",
    "    thisColumn = columns[j]\n",
    "    \n",
    "    for i in range( 0 ,numFloor):\n",
    "        secType = thisColumn[ i]\n",
    "        ElasticBeamColum( eleTag, end1 , end2 , secType , E , 1, M , massType)\n",
    "        column_dict[eleTag] = [end1, end2]\n",
    "        end1 =end2\n",
    "        end2 += numBay + 1\n",
    "\n",
    "        \n",
    "        eleTag += 1\n",
    "        "
   ]
  },
  {
   "cell_type": "code",
   "execution_count": 18,
   "metadata": {},
   "outputs": [
    {
     "data": {
      "text/plain": [
       "22"
      ]
     },
     "execution_count": 18,
     "metadata": {},
     "output_type": "execute_result"
    }
   ],
   "source": [
    "eleTag"
   ]
  },
  {
   "cell_type": "code",
   "execution_count": 19,
   "metadata": {},
   "outputs": [
    {
     "data": {
      "image/png": "[encoded data removed]",
      "text/plain": [
       "<Figure size 432x288 with 1 Axes>"
      ]
     },
     "metadata": {
      "needs_background": "light"
     },
     "output_type": "display_data"
    }
   ],
   "source": [
    "import matplotlib.pyplot as plt\n",
    "%matplotlib inline\n",
    "\n",
    "for key in node_dict.keys():\n",
    "    plt.plot( node_dict[key][0] ,  node_dict[key][1] , \"o\"  )"
   ]
  },
  {
   "cell_type": "code",
   "execution_count": 20,
   "metadata": {},
   "outputs": [
    {
     "data": {
      "image/png": "[encoded data removed]",
      "text/plain": [
       "<Figure size 432x288 with 1 Axes>"
      ]
     },
     "metadata": {
      "needs_background": "light"
     },
     "output_type": "display_data"
    }
   ],
   "source": [
    "import matplotlib.pyplot as plt\n",
    "%matplotlib inline\n",
    "\n",
    "for key in column_dict.keys():\n",
    "    plt.plot([ node_dict[column_dict[key][0]][0] ,node_dict[column_dict[key][1]][0]],\n",
    "              [ node_dict[column_dict[key][0]][1] ,node_dict[column_dict[key][1]][1]]  )\n",
    "    "
   ]
  },
  {
   "cell_type": "code",
   "execution_count": 21,
   "metadata": {},
   "outputs": [],
   "source": [
    "beam_dict = {}\n",
    "for j in range( 1 , numFloor +1):\n",
    "    end1 = (numBay + 1) * j + 1\n",
    "    end2 = end1+1\n",
    "    secType = beams[j -1 ]\n",
    "    for i in range(0, numBay):\n",
    "        ElasticBeamColum(eleTag, end1, end2, secType, E, 1, M, massType) \n",
    "        beam_dict[eleTag] = [end1, end2]\n",
    "        end1 = end2\n",
    "        end2 = end1 + 1\n",
    "        eleTag += 1"
   ]
  },
  {
   "cell_type": "code",
   "execution_count": 22,
   "metadata": {},
   "outputs": [
    {
     "data": {
      "image/png": "[encoded data removed]",
      "text/plain": [
       "<Figure size 432x288 with 1 Axes>"
      ]
     },
     "metadata": {
      "needs_background": "light"
     },
     "output_type": "display_data"
    }
   ],
   "source": [
    "import matplotlib.pyplot as plt\n",
    "%matplotlib inline\n",
    "\n",
    "for key in beam_dict.keys():\n",
    "    plt.plot([ node_dict[beam_dict[key][0]][0] ,node_dict[beam_dict[key][1]][0]],\n",
    "              [ node_dict[beam_dict[key][0]][1] ,node_dict[beam_dict[key][1]][1]]  )\n",
    "    "
   ]
  },
  {
   "cell_type": "code",
   "execution_count": 23,
   "metadata": {},
   "outputs": [
    {
     "data": {
      "image/png": "[encoded data removed]",
      "text/plain": [
       "<Figure size 360x360 with 1 Axes>"
      ]
     },
     "metadata": {
      "needs_background": "light"
     },
     "output_type": "display_data"
    }
   ],
   "source": [
    "plt.figure(figsize= (5,5))\n",
    "\n",
    "\n",
    "for key in node_dict.keys():\n",
    "    plt.plot( node_dict[key][0] ,  node_dict[key][1] , \"o\" , MS = 10 , color=\"gray\")\n",
    "for key in column_dict.keys():\n",
    "    plt.plot([ node_dict[column_dict[key][0]][0] ,node_dict[column_dict[key][1]][0]],\n",
    "              [ node_dict[column_dict[key][0]][1] ,node_dict[column_dict[key][1]][1]]  \n",
    "            , color=\"red\")\n",
    "for key in beam_dict.keys():\n",
    "    plt.plot([ node_dict[beam_dict[key][0]][0] ,node_dict[beam_dict[key][1]][0]],\n",
    "              [ node_dict[beam_dict[key][0]][1] ,node_dict[beam_dict[key][1]][1]] \n",
    "            , color=\"k\")\n",
    "    "
   ]
  },
  {
   "cell_type": "code",
   "execution_count": 24,
   "metadata": {},
   "outputs": [],
   "source": [
    "from math import asin, sqrt\n",
    "\n",
    "\n",
    "numEigen = 7 \n",
    "eigenValues = ops.eigen( numEigen) \n",
    "\n",
    "PI = 3.14"
   ]
  },
  {
   "cell_type": "code",
   "execution_count": 25,
   "metadata": {},
   "outputs": [
    {
     "data": {
      "text/plain": [
       "[40898.006755245544,\n",
       " 418116.1082909055,\n",
       " 1441555.4077161986,\n",
       " 3433425.5559456474,\n",
       " 6735145.148448223,\n",
       " 11072966.010694316,\n",
       " 15075176.509318342]"
      ]
     },
     "execution_count": 25,
     "metadata": {},
     "output_type": "execute_result"
    }
   ],
   "source": [
    "eigenValues"
   ]
  },
  {
   "cell_type": "markdown",
   "metadata": {},
   "source": [
    "**LOADS**"
   ]
  },
  {
   "cell_type": "code",
   "execution_count": 26,
   "metadata": {},
   "outputs": [],
   "source": [
    "ops.timeSeries(\"Linear\",1)\n",
    "ops.pattern( \"Plain\" ,1,1)\n",
    "\n",
    "load_dict = {4 : 20000 , 7 : 20000}\n",
    "\n",
    "for key in load_dict.keys():\n",
    "    ops.load( key , load_dict[key] , 0  , 0)"
   ]
  },
  {
   "cell_type": "markdown",
   "metadata": {},
   "source": [
    "# B. Process"
   ]
  },
  {
   "cell_type": "code",
   "execution_count": 27,
   "metadata": {},
   "outputs": [
    {
     "data": {
      "text/plain": [
       "0"
      ]
     },
     "execution_count": 27,
     "metadata": {},
     "output_type": "execute_result"
    }
   ],
   "source": [
    "ops.integrator('LoadControl', 1.0)\n",
    "ops.algorithm('Linear')\n",
    "ops.analysis('Static')\n",
    "ops.analyze(1)"
   ]
  },
  {
   "cell_type": "markdown",
   "metadata": {},
   "source": [
    "# C. Post-Process"
   ]
  },
  {
   "cell_type": "code",
   "execution_count": 28,
   "metadata": {},
   "outputs": [
    {
     "data": {
      "text/plain": [
       "0.0"
      ]
     },
     "execution_count": 28,
     "metadata": {},
     "output_type": "execute_result"
    }
   ],
   "source": [
    "node_dict[1][0]"
   ]
  },
  {
   "cell_type": "code",
   "execution_count": 29,
   "metadata": {},
   "outputs": [
    {
     "data": {
      "image/png": "[encoded data removed]",
      "text/plain": [
       "<Figure size 360x360 with 1 Axes>"
      ]
     },
     "metadata": {
      "needs_background": "light"
     },
     "output_type": "display_data"
    }
   ],
   "source": [
    "scale = 5\n",
    "node_deform_dict = {}\n",
    "for i in node_dict.keys():\n",
    "    node_deform_dict[i] = [node_dict[i][0] + scale*(ops.nodeDisp(i,1)) , node_dict[i][1]]\n",
    "#    print( f\"{i} node disp = {round( ops.nodeDisp(i,1),5)}\")\n",
    "\n",
    "plt.figure(figsize= (5,5))\n",
    "for key in node_dict.keys():\n",
    "    plt.plot( node_dict[key][0] ,  node_dict[key][1] , \"o\" , MS = 10 , color=\"gray\")\n",
    "for key in column_dict.keys():\n",
    "    plt.plot([ node_dict[column_dict[key][0]][0] ,node_dict[column_dict[key][1]][0]],\n",
    "              [ node_dict[column_dict[key][0]][1] ,node_dict[column_dict[key][1]][1]]  \n",
    "            ,\"--\", color=\"gray\")\n",
    "for key in beam_dict.keys():\n",
    "    plt.plot([ node_dict[beam_dict[key][0]][0] ,node_dict[beam_dict[key][1]][0]],\n",
    "              [ node_dict[beam_dict[key][0]][1] ,node_dict[beam_dict[key][1]][1]] \n",
    "            , \"--\",color=\"gray\")\n",
    "\n",
    "for key in node_deform_dict.keys():\n",
    "    plt.plot( node_deform_dict[key][0] ,  node_deform_dict[key][1] , \"o\" , MS = 10 , color=\"b\")\n",
    "for key in column_dict.keys():\n",
    "    plt.plot([ node_deform_dict[column_dict[key][0]][0] ,node_deform_dict[column_dict[key][1]][0]],\n",
    "              [ node_deform_dict[column_dict[key][0]][1] ,node_deform_dict[column_dict[key][1]][1]]  \n",
    "            , color=\"b\")\n",
    "for key in beam_dict.keys():\n",
    "    plt.plot([ node_deform_dict[beam_dict[key][0]][0] ,node_deform_dict[beam_dict[key][1]][0]],\n",
    "              [ node_deform_dict[beam_dict[key][0]][1] ,node_deform_dict[beam_dict[key][1]][1]] \n",
    "            , color=\"b\")\n",
    "plt.box(False)"
   ]
  },
  {
   "cell_type": "markdown",
   "metadata": {},
   "source": [
    "**Modal Analysis Results**"
   ]
  },
  {
   "cell_type": "code",
   "execution_count": 30,
   "metadata": {},
   "outputs": [
    {
     "name": "stdout",
     "output_type": "stream",
     "text": [
      "1 mode number and period =0.0311sn\n",
      "2 mode number and period =0.0097sn\n",
      "3 mode number and period =0.0052sn\n",
      "4 mode number and period =0.0034sn\n",
      "5 mode number and period =0.0024sn\n",
      "6 mode number and period =0.0019sn\n",
      "7 mode number and period =0.0016sn\n"
     ]
    }
   ],
   "source": [
    "periods = [ 2* PI / sqrt(lamb)  for lamb in eigenValues ]\n",
    "for count, i in enumerate( periods) : \n",
    "    print(f\"{count+1} mode number and period ={round(i ,4 )}sn\")"
   ]
  },
  {
   "cell_type": "markdown",
   "metadata": {
    "slideshow": {
     "slide_type": "slide"
    }
   },
   "source": [
    "---\n",
    "\n",
    "**NEXT WEEK**\n",
    "\n",
    "<table >\n",
    "<tr>\n",
    "<td>\n",
    "<img src=\"http://worshiphousemedia.s3.amazonaws.com/images/main/s/st/bnt/st/seeyounextweek1.jpg\" width=\"40%\">\n",
    "</td>\n",
    "<td align=\"left\"><strong style=\"font-size: 20px;\">\n",
    "The topics for the next week \n",
    "<br><br>\n",
    "\n",
    "1- Assignment : -\n",
    "    \n",
    "2- System behavior\n",
    "<br><br>\n",
    "\n",
    "<br>\n",
    "</td>\n",
    "</tr>\n",
    "</table>"
   ]
  },
  {
   "cell_type": "code",
   "execution_count": null,
   "metadata": {},
   "outputs": [],
   "source": []
  }
 ],
 "metadata": {
  "celltoolbar": "Slideshow",
  "kernelspec": {
   "display_name": "Python 3",
   "language": "python",
   "name": "python3"
  },
  "language_info": {
   "codemirror_mode": {
    "name": "ipython",
    "version": 3
   },
   "file_extension": ".py",
   "mimetype": "text/x-python",
   "name": "python",
   "nbconvert_exporter": "python",
   "pygments_lexer": "ipython3",
   "version": "3.6.8"
  },
  "toc-autonumbering": false
 },
 "nbformat": 4,
 "nbformat_minor": 4
}
