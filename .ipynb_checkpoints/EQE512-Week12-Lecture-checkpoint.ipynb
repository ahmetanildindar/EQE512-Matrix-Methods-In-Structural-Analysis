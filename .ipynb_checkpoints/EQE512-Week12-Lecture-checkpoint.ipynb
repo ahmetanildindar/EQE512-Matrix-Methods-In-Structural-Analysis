{
 "cells": [
  {
   "cell_type": "markdown",
   "metadata": {
    "slideshow": {
     "slide_type": "slide"
    }
   },
   "source": [
    "EQE512 MATRIX METHODS IN STRUCTURAL ANALYSIS \n",
    "\n",
    "---\n",
    "<h3 align=\"center\"><font color = red >Week 12 - Construction of Response Spectrum</font></h3> \n",
    "\n",
    "<h4 align=\"center\"><font color = blue >Dr. Ahmet Anıl Dindar (adindar@gtu.edu.tr)</font></h4> \n",
    "<h4 align=\"center\"><font color = green >2020 Fall</font></h4> \n",
    "\n",
    "\n",
    "---"
   ]
  },
  {
   "cell_type": "markdown",
   "metadata": {},
   "source": [
    "**This week : \"_Construction of Response Spectrum_\"**"
   ]
  },
  {
   "cell_type": "markdown",
   "metadata": {},
   "source": [
    "**Response Spectrum**\n",
    "\n",
    "<img src=\"./figures/17-EQE512-Week14-Chopra_ResponseSpectrum.PNG\" width = \"50%\">"
   ]
  },
  {
   "cell_type": "markdown",
   "metadata": {},
   "source": [
    "**Dynamic Analysis**"
   ]
  },
  {
   "cell_type": "code",
   "execution_count": null,
   "metadata": {},
   "outputs": [],
   "source": [
    "import openseespy.opensees as ospy\n",
    "\n",
    "ospy.wipe()\t\t\t\t\t\t       # clear opensees model\n",
    "ospy.model('basic', '-ndm', 2, '-ndf', 3)\t       # 2 dimensions, 3 dof per node\n",
    "\n",
    "# nodal coordinates:\n",
    "ospy.node(1, 0., 0.)\t\t\t\t\t   # node#, X Y\n",
    "ospy.node(2, 0., 5000.)\n",
    "\n",
    "# Single point constraints -- Boundary Conditions\n",
    "ospy.fix(1, 1, 1, 1) \t\t\t           # node DX DY RZ\n",
    "\n",
    "# nodal masses:\n",
    "ospy.mass(2, 2000, 0., 0.)\t\t\t   # node#, Mx My Mz, Mass=Weight/g.\n",
    "\n",
    "# Define ELEMENTS -------------------------------------------------------------\n",
    "# define geometric transformation: performs a linear geometric transformation of beam stiffness and resisting force from the basic system to the global-coordinate system\n",
    "ospy.geomTransf('Linear', 1)  \t\t       # associate a tag to transformation\n",
    "\n",
    "# connectivity:\n",
    "ospy.element('elasticBeamColumn', 1, 1, 2, 30000, 500*500 , (500**4)/12, 1)\t\n",
    "\n",
    "# define GRAVITY -------------------------------------------------------------\n",
    "ospy.timeSeries('Linear', 1)\n",
    "ospy.pattern('Plain', 1, 1,)\n",
    "ospy.load(2, 0., -2000., 0.)\t\t\t    # node#, FX FY MZ --  superstructure-weight\n",
    "\n",
    "ospy.constraints('Plain')  \t\t\t\t# how it handles boundary conditions\n",
    "ospy.numberer('Plain')\t\t\t    # renumber dof's to minimize band-width (optimization), if you want to\n",
    "ospy.system('BandGeneral')\t\t    # how to store and solve the system of equations in the analysis\n",
    "ospy.algorithm('Linear')                 # use Linear algorithm for linear analysis\n",
    "ospy.integrator('LoadControl', 0.1)\t\t\t# determine the next time step for an analysis, # apply gravity in 10 steps\n",
    "ospy.analysis('Static')\t\t\t\t\t    # define type of analysis static or transient\n",
    "ospy.analyze(10)\t\t\t\t\t        # perform gravity analysis\n",
    "ospy.loadConst('-time', 0.0)\t\t\t\t# hold gravity constant and restart time\n",
    "\n",
    "# DYNAMIC ground-motion analysis -------------------------------------------------------------\n",
    "# create load pattern\n",
    "G = 9.81*1000\n",
    "ospy.timeSeries('Path', 2, '-dt', 0.005, '-filePath', 'A10000.dat', '-factor', G) \n",
    "\n",
    "ospy.pattern('UniformExcitation', 2, 1, '-accel', 2)\n",
    "\n",
    "# set damping based on first eigen mode\n",
    "freq = ospy.eigen('-fullGenLapack', 1)**0.5\n",
    "\n",
    "print( freq)\n",
    "dampRatio = 0.05\n",
    "ospy.rayleigh(0., 0., 0., 2*dampRatio/freq)\n",
    "\n",
    "# Node acceleration values\n",
    "ospy.recorder('Node', '-file', 'temp.out','-time', '-node', 2, '-dof', 1,2,3, 'accel')\n",
    "\n",
    "\n",
    "# create the analysis\n",
    "ospy.wipeAnalysis()\t\t\t     # clear previously-define analysis parameters\n",
    "ospy.constraints('Plain')    \t # how it handles boundary conditions\n",
    "ospy.numberer('Plain')    # renumber dof's to minimize band-width (optimization), if you want to\n",
    "ospy.system('BandGeneral') # how to store and solve the system of equations in the analysis\n",
    "ospy.algorithm('Linear')\t # use Linear algorithm for linear analysis\n",
    "ospy.integrator('Newmark', 0.5, 0.25)    # determine the next time step for an analysis\n",
    "ospy.analysis('Transient')   # define type of analysis: time-dependent\n",
    "ospy.analyze(3995, 0.01)\t # apply 3995 0.01-sec time steps in analysis\n"
   ]
  },
  {
   "cell_type": "code",
   "execution_count": null,
   "metadata": {},
   "outputs": [],
   "source": [
    "import pandas as pd\n",
    "\n",
    "data_df = pd.read_csv( \"temp.out\" , names = [\"time\",\"acc1\" ,\"acc2\",\"acc3\"] , delim_whitespace=True)"
   ]
  },
  {
   "cell_type": "code",
   "execution_count": null,
   "metadata": {},
   "outputs": [],
   "source": [
    "data_df.head()"
   ]
  },
  {
   "cell_type": "code",
   "execution_count": null,
   "metadata": {},
   "outputs": [],
   "source": [
    "import matplotlib.pyplot as plt\n",
    "%matplotlib inline\n",
    "\n",
    "plt.plot( data_df.time , data_df.acc1)"
   ]
  },
  {
   "cell_type": "markdown",
   "metadata": {},
   "source": [
    "**How to construct Response Spectrum?**"
   ]
  },
  {
   "cell_type": "code",
   "execution_count": null,
   "metadata": {},
   "outputs": [],
   "source": [
    "ResponseSpectrum_df = pd.DataFrame(columns=[\"Period\", \"Sa\"])\n",
    "\n",
    "for height in range(1, 10):\n",
    "    \n",
    "    import openseespy.opensees as ospy\n",
    "    # UNITS \\ length = mm  | force = N\n",
    "    # clear everything\n",
    "    ospy.wipe()\n",
    "    # DOF of the model\n",
    "    ospy.model( \"basic\" , \"-ndm\" ,2 , \"-ndf\", 3)\n",
    "    # Axis : \n",
    "    ospy.node( 1 , 0 , 0)\n",
    "    ospy.node( 2 , 0 , height*1000)\n",
    "    # BC | Supports (Restraints)\n",
    "    ospy.fix( 1 , 1 , 1 , 1)\n",
    "    # Mass assignment\n",
    "    ospy.mass( 2 , 1000 , 0 , 0)\n",
    "\n",
    "    #Connections & Transformation\n",
    "    ospy.geomTransf( \"Linear\" , 1)\n",
    "\n",
    "    # The member\n",
    "    ospy.element(\"elasticBeamColumn\" , 1 , 1 , 2 , 30000 , 500*500,\n",
    "                (500 * (500**3))/12 , 1)\n",
    "\n",
    "\n",
    "    import matplotlib.pyplot as plt\n",
    "    %matplotlib inline\n",
    "\n",
    "#    plt.plot( [0 ,0] , [0,500],\"o\")\n",
    "#s    plt.plot( [0 ,0] , [0,500],\"--\")\n",
    "\n",
    "    #**Linear Elastic Static Load & Solution**\n",
    "\n",
    "    # Gravity \n",
    "    ospy.timeSeries( \"Linear\" , 1)\n",
    "    ospy.pattern(\"Plain\"  , 1 , 1)\n",
    "    ospy.load( 2 , 0 , -1000 * (9.81 * 1000) , 0)\n",
    "\n",
    "    ospy.constraints('Plain')  \t\t\t\t# how it handles boundary conditions\n",
    "    ospy.numberer('Plain')\t\t\t    # renumber dof's to minimize band-width (optimization), if you want to\n",
    "    ospy.system('BandGeneral')\t\t    # how to store and solve the system of equations in the analysis\n",
    "    ospy.algorithm('Linear')                 # use Linear algorithm for linear analysis\n",
    "    ospy.integrator('LoadControl', 0.1)\t\t\t# determine the next time step for an analysis, # apply gravity in 10 steps\n",
    "    ospy.analysis('Static')\t\t\t\t\t    # define type of analysis static or transient\n",
    "    ospy.analyze(10)\t\t\t\t\t        # perform gravity analysis\n",
    "    ospy.loadConst('-time', 0.0)\t\t\t\t# hold gravity constant and restart time\n",
    "\n",
    "\n",
    "    ospy.nodeDisp( 2)\n",
    "\n",
    "    #**Linear Elastic Dynamic Load & Solution**\n",
    "\n",
    "    acc_g =  []\n",
    "    with open( \"A10000.dat\") as f:\n",
    "        for row in f.readlines():\n",
    "            line = row.split()\n",
    "            [acc_g.append( float(item)) for item in line]\n",
    "\n",
    "\n",
    "    plt.plot( acc_g)\n",
    "    plt.ylabel(\"Acc (g)\")\n",
    "\n",
    "    # Ground motion\n",
    "\n",
    "    G = 9.81 * 1000 # mm/s2\n",
    "\n",
    "    ospy.timeSeries( \"Path\", 2 , \"-dt\" , 0.005 , \"-filePath\" , \"A10000.dat\", \"-factor\" , G) \n",
    "\n",
    "    ospy.pattern( \"UniformExcitation\" , 2 ,1,\"-accel\", 2)\n",
    "\n",
    "    freq = ospy.eigen('-fullGenLapack', 1)**0.5\n",
    "\n",
    "    T = (2*22/7) / freq\n",
    "\n",
    "    dampRatio = 0.05\n",
    "\n",
    "    ospy.rayleigh(0., 0., 0., 2*dampRatio/freq)\n",
    "\n",
    "   # print( freq)\n",
    "\n",
    "    # REcord the acceleration time-history response of Node = 2\n",
    "    ospy.recorder( \"Node\" , \"-file\" , \"temp.out\" , \"-time\" , \"-node\", 2 , \"-dof\", 1,2,3, \"disp\")\n",
    "\n",
    "    #**Linear, Elastic but Dynamic Load Analysis**\n",
    "\n",
    "    ospy.wipeAnalysis()\n",
    "\n",
    "    ospy.constraints(\"Plain\")\n",
    "    ospy.numberer(\"Plain\")\n",
    "    ospy.system(\"BandGeneral\")\n",
    "    ospy.algorithm(\"Linear\")\n",
    "    ospy.integrator(\"Newmark\", 0.5 , 0.25)\n",
    "    ospy.analysis(\"Transient\")\n",
    "    ospy.analyze(3995 , 0.01)\n",
    "\n",
    "    ## B. Process of the SDOF analysis\n",
    "\n",
    "    import pandas as pd\n",
    "\n",
    "    data_df = pd.read_csv(\"temp.out\", names=[\"time\", \"acc1\", \"acc2\",\"acc3\"], delim_whitespace=True)\n",
    "\n",
    "    data_df.describe()\n",
    "\n",
    "#   plt.subplot(311),plt.plot( data_df.time , data_df.acc1)\n",
    "#   plt.subplot(312),plt.plot( data_df.time , data_df.acc2)\n",
    "#   plt.subplot(313),plt.plot( data_df.time , data_df.acc3)\n",
    "\n",
    "    max_resp = max( abs(data_df.acc1) )\n",
    "\n",
    "    print( T, max_resp/9810)\n",
    "\n",
    "    ResponseSpectrum_df.loc[len(ResponseSpectrum_df)+1] = [T, max_resp/9810]"
   ]
  },
  {
   "cell_type": "code",
   "execution_count": null,
   "metadata": {},
   "outputs": [],
   "source": []
  },
  {
   "cell_type": "markdown",
   "metadata": {
    "slideshow": {
     "slide_type": "slide"
    }
   },
   "source": [
    "---\n",
    "\n",
    "**NEXT WEEK**\n",
    "\n",
    "<table >\n",
    "<tr>\n",
    "<td>\n",
    "<img src=\"http://worshiphousemedia.s3.amazonaws.com/images/main/s/st/bnt/st/seeyounextweek1.jpg\" width=\"40%\">\n",
    "</td>\n",
    "<td align=\"left\"><strong style=\"font-size: 20px;\">\n",
    "The topics for the next week \n",
    "<br><br>\n",
    "\n",
    "1- Assignment : 5\n",
    "    \n",
    "2- ?\n",
    "<br><br>\n",
    "\n",
    "<br>\n",
    "</td>\n",
    "</tr>\n",
    "</table>"
   ]
  },
  {
   "cell_type": "code",
   "execution_count": null,
   "metadata": {},
   "outputs": [],
   "source": []
  }
 ],
 "metadata": {
  "celltoolbar": "Slideshow",
  "kernelspec": {
   "display_name": "Python 3",
   "language": "python",
   "name": "python3"
  },
  "language_info": {
   "codemirror_mode": {
    "name": "ipython",
    "version": 3
   },
   "file_extension": ".py",
   "mimetype": "text/x-python",
   "name": "python",
   "nbconvert_exporter": "python",
   "pygments_lexer": "ipython3",
   "version": "3.8.5"
  },
  "toc-autonumbering": false
 },
 "nbformat": 4,
 "nbformat_minor": 4
}
