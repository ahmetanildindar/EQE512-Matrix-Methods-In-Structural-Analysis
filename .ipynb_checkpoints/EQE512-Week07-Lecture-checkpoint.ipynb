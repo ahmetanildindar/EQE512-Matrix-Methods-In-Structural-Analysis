{
 "cells": [
  {
   "cell_type": "markdown",
   "metadata": {
    "slideshow": {
     "slide_type": "slide"
    }
   },
   "source": [
    "EQE512 MATRIX METHODS IN STRUCTURAL ANALYSIS \n",
    "\n",
    "---\n",
    "<h3 align=\"center\">Week 07 - Construction of the System Stiffness Matrix </h3> \n",
    "<h4 align=\"center\">Dr. Ahmet Anıl Dindar (adindar@gtu.edu.tr)</h3> \n",
    "<h4 align=\"center\">2020 Fall  </h4> \n",
    "\n",
    "---"
   ]
  },
  {
   "cell_type": "markdown",
   "metadata": {},
   "source": [
    "# This week : \n",
    "\n",
    "1. Frame systems explanation\n",
    "    \n",
    "2. Beam element\n",
    "    \n",
    "3. Column element\n",
    "    \n",
    "4. Loading \n",
    "    \n",
    "4.1. Unloaded\n",
    "\n",
    "4.2. Loaded\n",
    "\n",
    "---\n"
   ]
  },
  {
   "cell_type": "markdown",
   "metadata": {},
   "source": [
    "# Frame systems explanation\n",
    "\n",
    "_A truss is a structure composed of beam and columns joined together at their end points._\n",
    "\n",
    "<img src=\"figures/7-EQE512-FrameExplanation.png\" width=\"40%\">\n",
    "\n",
    "\n",
    "# Beam Element\n",
    "\n",
    "**Freedom**\n",
    "\n",
    "<img src=\"figures/8-EQE512-BeamMemberExplanation.png\" width=\"60%\">\n",
    "\n",
    "**Global Stiffness Matrix**\n",
    "\n",
    "<img src=\"figures/8-EQE512-BeamMemberStiffness.png\" width=\"40%\">\n",
    "\n",
    "---\n",
    "\n",
    "# Column Element\n",
    "\n",
    "**Freedom**\n",
    "\n",
    "<img src=\"figures/9-EQE512-ColumnMemberExplanation.PNG\" width=\"60%\">\n",
    "\n",
    "\n",
    "**Global Stiffness Matrix**\n",
    "\n",
    "<img src=\"figures/9-EQE512-ColumnMemberStiffness.PNG\" width=\"60%\">\n",
    "\n",
    "\n",
    "---\n"
   ]
  },
  {
   "cell_type": "code",
   "execution_count": null,
   "metadata": {},
   "outputs": [],
   "source": [
    "E = 30000 # N/mm2\n",
    "A = 10000 # mm2\n",
    "I = 100000 # N/mm2\n",
    "L = 3000 #mm\n",
    "x1i, x2i = 0,0\n",
    "x1j, x2j = 3000,4000\n"
   ]
  },
  {
   "cell_type": "code",
   "execution_count": null,
   "metadata": {},
   "outputs": [],
   "source": [
    "import numpy as np\n",
    "K = np.zeros((6,6))\n",
    "K"
   ]
  },
  {
   "cell_type": "code",
   "execution_count": null,
   "metadata": {},
   "outputs": [],
   "source": [
    "########### PLEASE FILL THE MATRIX GIVEN BELOW IN YOUR MIDTERM EXAM ###########\n",
    "def column_stiffness_matrix( x1i, x2i , x1j, x2j , E , A , I, L ):\n",
    "    EAL3 = E * A / (L**3)\n",
    "    twelveEIL5 = 12*E*I/(L**5)\n",
    "    sizEIL3 = 6 * E * I / (L**3)\n",
    "    twoEIL = 2 * E * I / (L)\n",
    "    \n",
    "    delta_1 = x1i - x1j\n",
    "    delta_2 = x2i - x2j \n",
    "    \n",
    "    K = np.array( [[],\n",
    "                  [],\n",
    "                  [],\n",
    "                  [],\n",
    "                  [],\n",
    "                  []])\n",
    "    return K \n"
   ]
  },
  {
   "cell_type": "code",
   "execution_count": null,
   "metadata": {},
   "outputs": [],
   "source": [
    "member_stiffness = column_stiffness_matrix( x1i, x2i , x1j, x2j , E , A , I, L )"
   ]
  },
  {
   "cell_type": "markdown",
   "metadata": {},
   "source": [
    "# Loading \n",
    "\n",
    "<img src=\"figures/11-EQE512-Loads.PNG\"   style=\"width:60%\">"
   ]
  },
  {
   "cell_type": "markdown",
   "metadata": {},
   "source": [
    "## Unloaded\n",
    "\n",
    "_Similar to the Truss elements, the loads act on the nodes._\n"
   ]
  },
  {
   "cell_type": "markdown",
   "metadata": {},
   "source": [
    "## Loaded\n",
    "\n",
    "**Uniform Loading**\n",
    "\n",
    "<img src=\"./figures/10a-EQE512-BeamLoading-Uniform.png\" width=\"30%\">\n",
    "\n",
    "**Triangle Loading**\n",
    "\n",
    "<img src=\"./figures/10b-EQE512-BeamLoading-Triangle.png\" width=\"30%\">\n",
    "\n",
    "**Point Loading**\n",
    "\n",
    "<img src=\"./figures/10c-EQE512-BeamLoading-SingleLoad.png\" width=\"30%\">\n",
    "\n",
    "**Trapezoidal Loading**\n",
    "\n",
    "<img src=\"./figures/10d-EQE512-BeamLoading-Trapz.png\" width=\"30%\">"
   ]
  },
  {
   "cell_type": "markdown",
   "metadata": {},
   "source": [
    "**Solution :**\n",
    "\n",
    "1. Obtain the equivalent end forces\n",
    "2. Apply the obtained values in opposite directions at the nodes\n",
    "3. Ignore the span loads\n",
    "\n",
    "<img src=\"./figures/12-EQE512-Loads-Apply.PNG\"   style=\"width:70%\">\n"
   ]
  },
  {
   "cell_type": "markdown",
   "metadata": {
    "slideshow": {
     "slide_type": "slide"
    }
   },
   "source": [
    "---\n",
    "\n",
    "**NEXT WEEK**\n",
    "\n",
    "<table >\n",
    "<tr>\n",
    "<td>\n",
    "<img src=\"http://worshiphousemedia.s3.amazonaws.com/images/main/s/st/bnt/st/seeyounextweek1.jpg\" width=\"40%\">\n",
    "</td>\n",
    "<td align=\"left\"><strong style=\"font-size: 20px;\">\n",
    "The topics for the next week \n",
    "<br><br>\n",
    "\n",
    "1- Assignment : No assignment\n",
    "<br><br>\n",
    "2- Midterm & Term Project \n",
    "<br>\n",
    "</td>\n",
    "</tr>\n",
    "</table>"
   ]
  },
  {
   "cell_type": "code",
   "execution_count": null,
   "metadata": {},
   "outputs": [],
   "source": []
  }
 ],
 "metadata": {
  "celltoolbar": "Slideshow",
  "kernelspec": {
   "display_name": "Python 3",
   "language": "python",
   "name": "python3"
  },
  "language_info": {
   "codemirror_mode": {
    "name": "ipython",
    "version": 3
   },
   "file_extension": ".py",
   "mimetype": "text/x-python",
   "name": "python",
   "nbconvert_exporter": "python",
   "pygments_lexer": "ipython3",
   "version": "3.7.6"
  },
  "toc-autonumbering": true
 },
 "nbformat": 4,
 "nbformat_minor": 4
}
