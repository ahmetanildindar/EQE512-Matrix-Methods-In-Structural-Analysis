{
 "cells": [
  {
   "cell_type": "markdown",
   "metadata": {
    "slideshow": {
     "slide_type": "slide"
    }
   },
   "source": [
    "EQE512 MATRIX METHODS IN STRUCTURAL ANALYSIS \n",
    "\n",
    "---\n",
    "<h3 align=\"center\">Week 03 - Development of computer algorithms </h3> \n",
    "<h4 align=\"center\">Dr. Ahmet Anıl Dindar (adindar@gtu.edu.tr)</h3> \n",
    "<h4 align=\"center\">2020 Fall  </h4> "
   ]
  },
  {
   "cell_type": "markdown",
   "metadata": {},
   "source": [
    "**Algorithm**\n",
    "\n",
    "An algorithm is a list of rules to follow in order to solve a problem.\n",
    "\n",
    "<img src=\"http://ichef.bbci.co.uk/images/ic/320x180/p0258tkq.jpg\"/>"
   ]
  },
  {
   "cell_type": "markdown",
   "metadata": {},
   "source": [
    "# TASK 01- QUESTION\n",
    "\n",
    "Calculate the followings;\n",
    "- Support reactions\n",
    "- Draw the internal force diagrams\n",
    "\n",
    "using Excel and Python.\n",
    "\n",
    "<img src=\"./images/5-simple_beam.svg\"/>"
   ]
  },
  {
   "cell_type": "code",
   "execution_count": null,
   "metadata": {},
   "outputs": [],
   "source": []
  },
  {
   "cell_type": "code",
   "execution_count": null,
   "metadata": {},
   "outputs": [],
   "source": []
  },
  {
   "cell_type": "code",
   "execution_count": null,
   "metadata": {},
   "outputs": [],
   "source": []
  },
  {
   "cell_type": "code",
   "execution_count": null,
   "metadata": {},
   "outputs": [],
   "source": []
  },
  {
   "cell_type": "markdown",
   "metadata": {},
   "source": [
    "## TASK 01- ALGORITHM\n",
    "\n",
    "Let's develop an algorithm in Engineering Problems: \n",
    "\n",
    "<img src=\"./images/5-simple_beam_flowchart.svg\"/>"
   ]
  },
  {
   "cell_type": "markdown",
   "metadata": {},
   "source": [
    "## TASK 01- SOLUTION IN EXCEL\n",
    "\n",
    "<img src=\"./images/7-Excel-00.png\" width=\"60%\">\n",
    "\n",
    "Follow this part in the class video."
   ]
  },
  {
   "cell_type": "markdown",
   "metadata": {},
   "source": [
    "## CODING PRACTICE IN MATLAB AND PYTHON \n",
    "\n",
    "Keywords in coding:\n",
    "\n",
    "- Variables (number, string, array)\n",
    "- Calculations (adding, subtracting, multiplying, dividing)\n",
    "- Flows\n",
    "    - for / (end)\n",
    "    - If / else / (end)\n",
    "    - While / (end)"
   ]
  },
  {
   "cell_type": "markdown",
   "metadata": {},
   "source": [
    "### MATLAB \n",
    "\n",
    "<img src=\"./images/8-MATLAB-00.png\" width=\"60%\">\n",
    "\n",
    "Let's watch this part in class video"
   ]
  },
  {
   "cell_type": "markdown",
   "metadata": {},
   "source": [
    "### PYTHON\n",
    "\n",
    "It is right now :)"
   ]
  },
  {
   "cell_type": "code",
   "execution_count": null,
   "metadata": {
    "slideshow": {
     "slide_type": "slide"
    }
   },
   "outputs": [],
   "source": [
    "# Variables; Some coding about variables"
   ]
  },
  {
   "cell_type": "code",
   "execution_count": 2,
   "metadata": {},
   "outputs": [],
   "source": [
    "a  = 10"
   ]
  },
  {
   "cell_type": "code",
   "execution_count": 3,
   "metadata": {},
   "outputs": [
    {
     "data": {
      "text/plain": [
       "20"
      ]
     },
     "execution_count": 3,
     "metadata": {},
     "output_type": "execute_result"
    }
   ],
   "source": [
    "2*a"
   ]
  },
  {
   "cell_type": "code",
   "execution_count": 4,
   "metadata": {},
   "outputs": [],
   "source": [
    "b = [1 , 2 , 3 ,5 , a]"
   ]
  },
  {
   "cell_type": "code",
   "execution_count": 5,
   "metadata": {},
   "outputs": [
    {
     "data": {
      "text/plain": [
       "[1, 2, 3, 5, 10]"
      ]
     },
     "execution_count": 5,
     "metadata": {},
     "output_type": "execute_result"
    }
   ],
   "source": [
    "b "
   ]
  },
  {
   "cell_type": "code",
   "execution_count": 9,
   "metadata": {},
   "outputs": [],
   "source": [
    "c = { \"d\" : \"Cimbom is the best team\", \"e\" : b}"
   ]
  },
  {
   "cell_type": "code",
   "execution_count": 10,
   "metadata": {},
   "outputs": [
    {
     "data": {
      "text/plain": [
       "'Cimbom is the best team'"
      ]
     },
     "execution_count": 10,
     "metadata": {},
     "output_type": "execute_result"
    }
   ],
   "source": [
    "c[\"d\"]"
   ]
  },
  {
   "cell_type": "code",
   "execution_count": 11,
   "metadata": {},
   "outputs": [
    {
     "data": {
      "text/plain": [
       "[1, 2, 3, 5, 10]"
      ]
     },
     "execution_count": 11,
     "metadata": {},
     "output_type": "execute_result"
    }
   ],
   "source": [
    "c[\"e\"]"
   ]
  },
  {
   "cell_type": "code",
   "execution_count": null,
   "metadata": {
    "slideshow": {
     "slide_type": "slide"
    }
   },
   "outputs": [],
   "source": [
    "# Numbers; Some coding about variables"
   ]
  },
  {
   "cell_type": "code",
   "execution_count": 12,
   "metadata": {},
   "outputs": [],
   "source": [
    "f = 1 # this is an integer"
   ]
  },
  {
   "cell_type": "code",
   "execution_count": 13,
   "metadata": {},
   "outputs": [
    {
     "data": {
      "text/plain": [
       "1"
      ]
     },
     "execution_count": 13,
     "metadata": {},
     "output_type": "execute_result"
    }
   ],
   "source": [
    "f"
   ]
  },
  {
   "cell_type": "code",
   "execution_count": 14,
   "metadata": {},
   "outputs": [],
   "source": [
    "g = 1.4 # this is an float"
   ]
  },
  {
   "cell_type": "code",
   "execution_count": 15,
   "metadata": {},
   "outputs": [
    {
     "data": {
      "text/plain": [
       "1.4"
      ]
     },
     "execution_count": 15,
     "metadata": {},
     "output_type": "execute_result"
    }
   ],
   "source": [
    "g"
   ]
  },
  {
   "cell_type": "code",
   "execution_count": 17,
   "metadata": {},
   "outputs": [
    {
     "data": {
      "text/plain": [
       "2"
      ]
     },
     "execution_count": 17,
     "metadata": {},
     "output_type": "execute_result"
    }
   ],
   "source": [
    "b[1]"
   ]
  },
  {
   "cell_type": "code",
   "execution_count": 18,
   "metadata": {},
   "outputs": [
    {
     "ename": "TypeError",
     "evalue": "list indices must be integers or slices, not float",
     "output_type": "error",
     "traceback": [
      "\u001b[0;31m---------------------------------------------------------------------------\u001b[0m",
      "\u001b[0;31mTypeError\u001b[0m                                 Traceback (most recent call last)",
      "\u001b[0;32m<ipython-input-18-70d4b65f33c0>\u001b[0m in \u001b[0;36m<module>\u001b[0;34m\u001b[0m\n\u001b[0;32m----> 1\u001b[0;31m \u001b[0mb\u001b[0m\u001b[0;34m[\u001b[0m\u001b[0mg\u001b[0m\u001b[0;34m]\u001b[0m\u001b[0;34m\u001b[0m\u001b[0;34m\u001b[0m\u001b[0m\n\u001b[0m",
      "\u001b[0;31mTypeError\u001b[0m: list indices must be integers or slices, not float"
     ]
    }
   ],
   "source": [
    "b[g]"
   ]
  },
  {
   "cell_type": "code",
   "execution_count": null,
   "metadata": {
    "slideshow": {
     "slide_type": "slide"
    }
   },
   "outputs": [],
   "source": [
    "# For loop"
   ]
  },
  {
   "cell_type": "code",
   "execution_count": 19,
   "metadata": {},
   "outputs": [
    {
     "data": {
      "text/plain": [
       "[1, 2, 3, 5, 10]"
      ]
     },
     "execution_count": 19,
     "metadata": {},
     "output_type": "execute_result"
    }
   ],
   "source": [
    "b"
   ]
  },
  {
   "cell_type": "code",
   "execution_count": 24,
   "metadata": {},
   "outputs": [
    {
     "name": "stdout",
     "output_type": "stream",
     "text": [
      "1\n",
      "2\n",
      "3\n",
      "5\n",
      "10\n",
      "This is the end of the for loop\n"
     ]
    }
   ],
   "source": [
    "for item in b :\n",
    "    print( item )\n",
    "    \n",
    "print( \"This is the end of the for loop\")    "
   ]
  },
  {
   "cell_type": "code",
   "execution_count": 25,
   "metadata": {
    "slideshow": {
     "slide_type": "slide"
    }
   },
   "outputs": [
    {
     "name": "stdout",
     "output_type": "stream",
     "text": [
      "This is NOT TWO\n",
      "This is two\n",
      "This is NOT TWO\n",
      "This is NOT TWO\n",
      "This is NOT TWO\n"
     ]
    }
   ],
   "source": [
    "# If/Else loop\n",
    "\n",
    "for item in b :\n",
    "    if item == 2 :\n",
    "        print( \"This is two\")\n",
    "    else:\n",
    "        print( \"This is NOT TWO\")"
   ]
  },
  {
   "cell_type": "code",
   "execution_count": 28,
   "metadata": {
    "scrolled": true,
    "slideshow": {
     "slide_type": "slide"
    }
   },
   "outputs": [
    {
     "name": "stdout",
     "output_type": "stream",
     "text": [
      "counter is 0 and item is 0\n",
      "counter is 0 and item is 1\n",
      "counter is 1 and item is 2\n",
      "counter is 2 and item is 3\n",
      "counter is 3 and item is 4\n",
      "counter is 4 and item is 5\n"
     ]
    }
   ],
   "source": [
    "# While Loop\n",
    "item =  0 \n",
    "counter = 0 \n",
    "while counter < 5 :\n",
    "    #print( counter , item )\n",
    "    print( f\"counter is {counter } and item is {item}\")\n",
    "    counter = item\n",
    "    item +=1"
   ]
  },
  {
   "cell_type": "markdown",
   "metadata": {
    "slideshow": {
     "slide_type": "slide"
    }
   },
   "source": [
    "### TASK 01- SOLUTION IN PYTHON\n",
    "\n",
    "Calculate the followings;\n",
    "- Support reactions\n",
    "- Draw the internal force diagrams\n",
    "\n",
    "using Excel and **Python**.\n",
    "\n",
    "<img src=\"./images/5-simple_beam.svg\" width=\"80%\"/>\n",
    "\n",
    "Let's do it rigth now!"
   ]
  },
  {
   "cell_type": "code",
   "execution_count": null,
   "metadata": {
    "slideshow": {
     "slide_type": "slide"
    }
   },
   "outputs": [],
   "source": [
    "# TASK 01- SOLUTION IN PYTHON"
   ]
  },
  {
   "cell_type": "code",
   "execution_count": 35,
   "metadata": {},
   "outputs": [],
   "source": [
    "q , L = 10 , 5"
   ]
  },
  {
   "cell_type": "code",
   "execution_count": 32,
   "metadata": {},
   "outputs": [
    {
     "name": "stdout",
     "output_type": "stream",
     "text": [
      "Ax is equal to 0kn\n"
     ]
    }
   ],
   "source": [
    "Ax = 0 \n",
    "print( f\"Ax is equal to {Ax}kN\")"
   ]
  },
  {
   "cell_type": "code",
   "execution_count": 34,
   "metadata": {},
   "outputs": [
    {
     "name": "stdout",
     "output_type": "stream",
     "text": [
      "Ay is equal to 25.0kN\n"
     ]
    }
   ],
   "source": [
    "Ay = 0.5 * q * L\n",
    "print( f\"Ay is equal to {Ay}kN\")"
   ]
  },
  {
   "cell_type": "code",
   "execution_count": 37,
   "metadata": {},
   "outputs": [
    {
     "name": "stdout",
     "output_type": "stream",
     "text": [
      "By is equal to 25.0kN\n"
     ]
    }
   ],
   "source": [
    "By = q * L - Ay\n",
    "print( f\"By is equal to {By}kN\")"
   ]
  },
  {
   "cell_type": "code",
   "execution_count": 47,
   "metadata": {},
   "outputs": [],
   "source": [
    "interimLength = [ 0,1,2,3,4,5] # distance from point A\n",
    "interimLength = range(6)"
   ]
  },
  {
   "cell_type": "code",
   "execution_count": 48,
   "metadata": {},
   "outputs": [
    {
     "data": {
      "text/plain": [
       "range(0, 6)"
      ]
     },
     "execution_count": 48,
     "metadata": {},
     "output_type": "execute_result"
    }
   ],
   "source": [
    "interimLength"
   ]
  },
  {
   "cell_type": "code",
   "execution_count": 49,
   "metadata": {},
   "outputs": [
    {
     "name": "stdout",
     "output_type": "stream",
     "text": [
      "0\n",
      "1\n",
      "2\n",
      "3\n",
      "4\n",
      "5\n"
     ]
    }
   ],
   "source": [
    "for item in interimLength: print( item)"
   ]
  },
  {
   "cell_type": "code",
   "execution_count": 92,
   "metadata": {},
   "outputs": [],
   "source": [
    "# Why don't we use the given format for array creation. COMPREHENSION\n",
    "dx = .1\n",
    "interimLength =  [ item * dx for item in range( int( L/dx) + 1)]"
   ]
  },
  {
   "cell_type": "code",
   "execution_count": 93,
   "metadata": {},
   "outputs": [
    {
     "data": {
      "text/plain": [
       "[4.6000000000000005, 4.7, 4.800000000000001, 4.9, 5.0]"
      ]
     },
     "execution_count": 93,
     "metadata": {},
     "output_type": "execute_result"
    }
   ],
   "source": [
    "interimLength[-5:]"
   ]
  },
  {
   "cell_type": "code",
   "execution_count": 89,
   "metadata": {},
   "outputs": [
    {
     "data": {
      "text/plain": [
       "6"
      ]
     },
     "execution_count": 89,
     "metadata": {},
     "output_type": "execute_result"
    }
   ],
   "source": [
    "len(interimLength)"
   ]
  },
  {
   "cell_type": "code",
   "execution_count": 94,
   "metadata": {},
   "outputs": [],
   "source": [
    "distanceList , VList , MList= [] , [] , []\n",
    "\n",
    "for distance in interimLength :\n",
    "    V = Ay - distance * q\n",
    "    # ------------------------------------\n",
    "    M = - (q * distance) * distance / 2 + Ay * distance\n",
    "    # ------------------------------------\n",
    "    #print( f\"at {distance}m distance V is {V}kN and M is {M}kN.m\")\n",
    "    distanceList.append( distance)\n",
    "    VList.append( V )\n",
    "    MList.append( M )"
   ]
  },
  {
   "cell_type": "markdown",
   "metadata": {},
   "source": [
    "Visualization in Python"
   ]
  },
  {
   "cell_type": "code",
   "execution_count": 63,
   "metadata": {},
   "outputs": [],
   "source": [
    "import matplotlib.pyplot as plt"
   ]
  },
  {
   "cell_type": "code",
   "execution_count": 67,
   "metadata": {},
   "outputs": [
    {
     "data": {
      "text/plain": [
       "(5.0, -25.0)"
      ]
     },
     "execution_count": 67,
     "metadata": {},
     "output_type": "execute_result"
    }
   ],
   "source": [
    "distance, V"
   ]
  },
  {
   "cell_type": "code",
   "execution_count": 69,
   "metadata": {
    "collapsed": true,
    "jupyter": {
     "outputs_hidden": true
    }
   },
   "outputs": [
    {
     "data": {
      "text/plain": [
       "([0.0,\n",
       "  0.2,\n",
       "  0.4,\n",
       "  0.6000000000000001,\n",
       "  0.8,\n",
       "  1.0,\n",
       "  1.2000000000000002,\n",
       "  1.4000000000000001,\n",
       "  1.6,\n",
       "  1.8,\n",
       "  2.0,\n",
       "  2.2,\n",
       "  2.4000000000000004,\n",
       "  2.6,\n",
       "  2.8000000000000003,\n",
       "  3.0,\n",
       "  3.2,\n",
       "  3.4000000000000004,\n",
       "  3.6,\n",
       "  3.8000000000000003,\n",
       "  4.0,\n",
       "  4.2,\n",
       "  4.4,\n",
       "  4.6000000000000005,\n",
       "  4.800000000000001,\n",
       "  5.0],\n",
       " [25.0,\n",
       "  23.0,\n",
       "  21.0,\n",
       "  19.0,\n",
       "  17.0,\n",
       "  15.0,\n",
       "  12.999999999999998,\n",
       "  10.999999999999998,\n",
       "  9.0,\n",
       "  7.0,\n",
       "  5.0,\n",
       "  3.0,\n",
       "  0.9999999999999964,\n",
       "  -1.0,\n",
       "  -3.0000000000000036,\n",
       "  -5.0,\n",
       "  -7.0,\n",
       "  -9.0,\n",
       "  -11.0,\n",
       "  -13.0,\n",
       "  -15.0,\n",
       "  -17.0,\n",
       "  -19.0,\n",
       "  -21.000000000000007,\n",
       "  -23.000000000000007,\n",
       "  -25.0],\n",
       " [0.0,\n",
       "  4.8,\n",
       "  9.2,\n",
       "  13.200000000000001,\n",
       "  16.8,\n",
       "  20.0,\n",
       "  22.8,\n",
       "  25.199999999999996,\n",
       "  27.2,\n",
       "  28.8,\n",
       "  30.0,\n",
       "  30.800000000000004,\n",
       "  31.2,\n",
       "  31.199999999999996,\n",
       "  30.79999999999999,\n",
       "  30.0,\n",
       "  28.799999999999997,\n",
       "  27.20000000000001,\n",
       "  25.200000000000003,\n",
       "  22.799999999999997,\n",
       "  20.0,\n",
       "  16.799999999999997,\n",
       "  13.200000000000003,\n",
       "  9.199999999999989,\n",
       "  4.799999999999983,\n",
       "  0.0])"
      ]
     },
     "execution_count": 69,
     "metadata": {},
     "output_type": "execute_result"
    }
   ],
   "source": [
    "distanceList  , VList , MList"
   ]
  },
  {
   "cell_type": "code",
   "execution_count": 95,
   "metadata": {},
   "outputs": [
    {
     "data": {
      "text/plain": [
       "[<matplotlib.lines.Line2D at 0x7f93cd715450>]"
      ]
     },
     "execution_count": 95,
     "metadata": {},
     "output_type": "execute_result"
    },
    {
     "data": {
      "image/png": "[encoded data removed]",
      "text/plain": [
       "<Figure size 432x288 with 1 Axes>"
      ]
     },
     "metadata": {
      "needs_background": "light"
     },
     "output_type": "display_data"
    }
   ],
   "source": [
    "plt.plot(distanceList , VList , \".\")"
   ]
  },
  {
   "cell_type": "code",
   "execution_count": 96,
   "metadata": {},
   "outputs": [
    {
     "data": {
      "text/plain": [
       "[<matplotlib.lines.Line2D at 0x7f93cd485790>]"
      ]
     },
     "execution_count": 96,
     "metadata": {},
     "output_type": "execute_result"
    },
    {
     "data": {
      "image/png": "[encoded data removed]",
      "text/plain": [
       "<Figure size 432x288 with 1 Axes>"
      ]
     },
     "metadata": {
      "needs_background": "light"
     },
     "output_type": "display_data"
    }
   ],
   "source": [
    "plt.plot(distanceList , MList, \". \")"
   ]
  },
  {
   "cell_type": "markdown",
   "metadata": {
    "slideshow": {
     "slide_type": "slide"
    }
   },
   "source": [
    "## TASK 02- QUESTION\n",
    "\n",
    "Calculate the followings;\n",
    "- Support reactions\n",
    "- Draw the internal force diagrams\n",
    "\n",
    "using ~~Excel~~ and Python.\n",
    "\n",
    "<img src=\"./images/9-simple_cantilever_beam.svg\" width=\"80%\" align=\"center\">"
   ]
  },
  {
   "cell_type": "markdown",
   "metadata": {
    "slideshow": {
     "slide_type": "slide"
    }
   },
   "source": [
    "### TASK 02- ALGORITHM\n",
    "\n",
    "Let's develop an algorithm for this problem: \n",
    "\n",
    "<img src=\"./images/week03-task02-algorithm-00.svg\"/>"
   ]
  },
  {
   "cell_type": "markdown",
   "metadata": {
    "slideshow": {
     "slide_type": "slide"
    }
   },
   "source": [
    "### TASK 02- SOLUTION\n",
    "\n",
    "Let's code this problem right now"
   ]
  },
  {
   "cell_type": "code",
   "execution_count": null,
   "metadata": {},
   "outputs": [],
   "source": []
  },
  {
   "cell_type": "code",
   "execution_count": null,
   "metadata": {},
   "outputs": [],
   "source": []
  },
  {
   "cell_type": "code",
   "execution_count": null,
   "metadata": {},
   "outputs": [],
   "source": []
  },
  {
   "cell_type": "code",
   "execution_count": null,
   "metadata": {},
   "outputs": [],
   "source": []
  },
  {
   "cell_type": "code",
   "execution_count": null,
   "metadata": {},
   "outputs": [],
   "source": []
  },
  {
   "cell_type": "markdown",
   "metadata": {
    "slideshow": {
     "slide_type": "slide"
    }
   },
   "source": [
    "---\n",
    "\n",
    "**NEXT WEEK**\n",
    "\n",
    "<table >\n",
    "<tr>\n",
    "<td>\n",
    "<img src=\"http://worshiphousemedia.s3.amazonaws.com/images/main/s/st/bnt/st/seeyounextweek1.jpg\" >\n",
    "</td>\n",
    "<td align=\"left\"><strong style=\"font-size: 20px;\">\n",
    "The topics for the next week \n",
    "<br><br>\n",
    "\n",
    "1- Assignment #1 : Tonight 8pm\n",
    "<br><br>\n",
    "2- \"Development of algorithms for parametric calculations and optimal solution approach\"\n",
    "<br>\n",
    "</td>\n",
    "</tr>\n",
    "</table>"
   ]
  },
  {
   "cell_type": "code",
   "execution_count": null,
   "metadata": {},
   "outputs": [],
   "source": []
  }
 ],
 "metadata": {
  "celltoolbar": "Slideshow",
  "kernelspec": {
   "display_name": "Python 3",
   "language": "python",
   "name": "python3"
  },
  "language_info": {
   "codemirror_mode": {
    "name": "ipython",
    "version": 3
   },
   "file_extension": ".py",
   "mimetype": "text/x-python",
   "name": "python",
   "nbconvert_exporter": "python",
   "pygments_lexer": "ipython3",
   "version": "3.7.6"
  },
  "toc-autonumbering": true
 },
 "nbformat": 4,
 "nbformat_minor": 4
}
