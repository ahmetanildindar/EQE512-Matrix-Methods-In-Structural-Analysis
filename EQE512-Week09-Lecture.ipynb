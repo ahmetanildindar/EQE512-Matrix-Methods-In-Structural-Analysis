{
 "cells": [
  {
   "cell_type": "markdown",
   "metadata": {
    "slideshow": {
     "slide_type": "slide"
    }
   },
   "source": [
    "EQE512 MATRIX METHODS IN STRUCTURAL ANALYSIS \n",
    "\n",
    "---\n",
    "<h3 align=\"center\">Week 09 - evelopment of solution algorithm using displacement method </h3> \n",
    "<h4 align=\"center\">Dr. Ahmet Anıl Dindar (adindar@gtu.edu.tr)</h3> \n",
    "<h4 align=\"center\">2020 Fall  </h4> \n",
    "\n",
    "---"
   ]
  },
  {
   "cell_type": "markdown",
   "metadata": {
    "slideshow": {
     "slide_type": "slide"
    }
   },
   "source": [
    "# This week : \n",
    "\n",
    "1. Academic Programs\n",
    "    \n",
    "2. OpenSees\n",
    "    \n",
    "3. OpenSeesPy\n",
    "    \n",
    "4. Truss\n",
    "\n",
    "---\n"
   ]
  },
  {
   "cell_type": "markdown",
   "metadata": {
    "slideshow": {
     "slide_type": "slide"
    }
   },
   "source": [
    "## Academic Programs\n",
    "\n",
    "There are many programs developed by the academics since 1970s;\n",
    "- SAP\n",
    "- ETABS\n",
    "- Drain\n",
    "- IDARC\n",
    "- Frame\n",
    "\n",
    "All ara opensource and with no Graphical User  Interface (GUI)\n",
    "\n",
    "Source: https://nisee.berkeley.edu/elibrary/software.html\n",
    "\n",
    "<img src=\"./figures/14-EQE512-Week10-Academics.PNG\">\n",
    "\n",
    "**Do you remember SAP2000?**\n",
    "\n",
    "<img src=\"./figures/14-EQE512-Week10-Sap.PNG\">\n"
   ]
  },
  {
   "cell_type": "markdown",
   "metadata": {
    "slideshow": {
     "slide_type": "slide"
    }
   },
   "source": [
    "## OpenSees = \"Open System for Earthquake Engineering Simulation\"\n",
    "\n",
    "OpenSees history starts in 1999 in Berkeley, California USA. \n",
    "\n",
    "OpenSees (the Open System for Earthquake Engineering Simulation) is a proprietary object-oriented, software framework created at the National Science Foundation-sponsored Pacific Earthquake Engineering (PEER) Center. It allows users to create finite element applications for simulating the response of structural and geotechnical systems subjected to earthquakes. This framework was developed by Frank McKenna and Gregory L. Fenves with significant contributions from Michael H. Scott, Terje Haukaas, Armen Der Kiureghian, Remo M. de Souza, Filip C. Filippou, Silvia Mazzoni, and Boris Jeremic. OpenSees is primarily written in C++ and uses several Fortran numerical libraries for linear equation solving.\n",
    "\n",
    "\n",
    "**The parts of OpenSees**\n",
    "\n",
    "<img src=\"https://opensees.berkeley.edu/wiki/images/uml-96ea6309b23a3cf95648d8be3014e598-4976d61b094e206d46b357904a003eac.png\">\n",
    "\n",
    "**In details**\n",
    "\n",
    "<img src=\"https://ars.els-cdn.com/content/image/1-s2.0-S2352711017300584-gr2_lrg.jpg\">\n",
    "\n",
    "**TcL**\n",
    "\n",
    "_OpenSees was developed in TcL language_\n",
    "\n",
    "```TCL\n",
    "model basic -ndm 2 -ndf 3\n",
    "# nodal coordinates:\n",
    "node 1 0 0\n",
    "node 2 504 0\n",
    "node 3 0 432\n",
    "node 4 504 432 \n",
    "\n",
    "# bondary conditions:\n",
    "fix 1 1 1 1\n",
    "fix 2 1 1 1\n",
    "fix 3 0 0 0\n",
    "fix 4 0 0 0\n",
    "\n",
    "# nodal masses:\n",
    "mass 3 5.18 0. 0.\n",
    "mass 4 5.18 0. 0.\n",
    "\n",
    "# transformation:\n",
    "geomTransf Linear 1 \n",
    "\n",
    "# element connectivity:\n",
    "element elasticBeamColumn 1 1 3 3600 4227 1080000 1\n",
    "element elasticBeamColumn 2 2 4 3600 4227 1080000 1\n",
    "element elasticBeamColumn 3 3 4 5760 4227 4423680 1\n",
    "\n",
    "# recorders\n",
    "recorder Node -file Node3.out -time -node 3 -dof 1 2 disp\n",
    "recorder Element -file Element1.out -time -ele 1 force\n",
    "```\n",
    "\n",
    "---"
   ]
  },
  {
   "cell_type": "markdown",
   "metadata": {
    "slideshow": {
     "slide_type": "slide"
    }
   },
   "source": [
    "**Why TCL?**\n",
    "\n",
    "TCL was the language where you can do programming in the code in the end of 1990s. \n",
    "\n",
    "``` TCL\n",
    "set IDloadTag 400;\t# for uniformSupport excitation\n",
    "# Uniform EXCITATION: acceleration input\n",
    "foreach GMdirection $iGMdirection GMfile $iGMfile GMfact $iGMfact {\n",
    "\tincr IDloadTag;\n",
    "\tset inFile $GMdir/$GMfile.at2\n",
    "\tset outFile $GMdir/$GMfile.g3;\t# set variable holding new filename (PEER files have .at2/dt2 extension)\n",
    "\tReadSMDFile $inFile $outFile dt;\t# call procedure to convert the ground-motion file\n",
    "\tset GMfatt [expr $g*$GMfact];\t# data in input file is in g Unifts -- ACCELERATION TH\n",
    "\tset AccelSeries \"Series -dt $dt -filePath $outFile -factor  $GMfatt\";\t# time series information\n",
    "\tpattern UniformExcitation  $IDloadTag  $GMdirection -accel  $AccelSeries  ;\t# create Unifform excitation\n",
    "}\n",
    "\n",
    "set Nsteps [expr int($TmaxAnalysis/$DtAnalysis)];\n",
    "set ok [analyze $Nsteps $DtAnalysis];\t# actually perform analysis; returns ok=0 if analysis was successful\n",
    "```"
   ]
  },
  {
   "cell_type": "markdown",
   "metadata": {
    "slideshow": {
     "slide_type": "slide"
    }
   },
   "source": [
    "---\n",
    "\n",
    "**How to run OpenSees files?**\n",
    "\n",
    "<img src = \"./figures/14-EQE512-Week10-OpenSees.PNG\" width=\"50%\">\n",
    "\n",
    "\n",
    "---\n",
    "\n",
    "**Process**\n",
    "\n",
    "\n",
    "<img src = \"https://previews.123rf.com/images/pixelsaway/pixelsaway1608/pixelsaway160800114/63291983-abstract-blank-flowchart-or-mind-map-on-a-napkin-with-a-cup-of-coffee.jpg\" width=\"40%\">\n",
    "\n",
    "---"
   ]
  },
  {
   "cell_type": "markdown",
   "metadata": {
    "slideshow": {
     "slide_type": "slide"
    }
   },
   "source": [
    "## OpenSeesPy\n",
    "\n",
    "Why Tcl?\n",
    "\n",
    "Why not Python?\n",
    "\n",
    "A group of people started converting OpenSees TcL to OpenSeesPy in 2018. \n",
    "\n",
    "<img src=\"./figures/14-EQE512-Week10-PythonVsTCL.jpg\" width=\"70%\">\n",
    "\n",
    "\n",
    "Source: https://openseespydoc.readthedocs.io/en/latest/#\n",
    "\n",
    "---"
   ]
  },
  {
   "cell_type": "markdown",
   "metadata": {},
   "source": [
    "# Example of modeling a Truss in OpenSeesPy"
   ]
  },
  {
   "cell_type": "code",
   "execution_count": null,
   "metadata": {},
   "outputs": [],
   "source": [
    "import openseespy.opensees as  ops\n",
    "import matplotlib.pyplot as plt"
   ]
  },
  {
   "cell_type": "code",
   "execution_count": null,
   "metadata": {},
   "outputs": [],
   "source": [
    "def onurFunction( force_lateral , force_vertical):\n",
    "    ops.wipe() # clear all variables in the domain\n",
    "\n",
    "    ops.model( \"basic\" , \"-ndm\",2 , \"-ndf\",2)\n",
    "    \n",
    "    coords = {1 :[0,0] , 2:[3,0], 3:[1.5  , 4]}\n",
    "\n",
    "    ops.node( 1 , 0 ,0 )\n",
    "    ops.node( 2 , 3 , 0 )\n",
    "    ops.node( 3 , 1.5 , 4 )\n",
    "\n",
    "    ops.fix( 1 , 1 , 1 )\n",
    "    ops.fix( 2 , 0 , 1 )\n",
    "\n",
    "    ops.uniaxialMaterial( \"Elastic\" , 1 , 200_000_000)\n",
    "\n",
    "    # https://openseespydoc.readthedocs.io/en/latest/src/trussEle.html\n",
    "    ops.element( \"Truss\" , 1 , 1 ,2 , 0.01 , 1) \n",
    "    ops.element( \"Truss\" , 2 , 1 ,3 , 0.01 , 1) \n",
    "    ops.element( \"Truss\" , 3 , 3 ,2 , 0.01 , 1) \n",
    "\n",
    "    ops.timeSeries( \"Linear\" , 1)\n",
    "    ops.pattern(\"Plain\", 1 ,1 )\n",
    "    ops.load(3 , force_lateral , force_vertical )\n",
    "\n",
    "    #Solution methods\n",
    "    # create SOE\n",
    "    ops.system(\"BandSPD\")\n",
    "    # create DOF number\n",
    "    ops.numberer(\"RCM\")\n",
    "    # create constraint handler\n",
    "    ops.constraints(\"Plain\")\n",
    "    # create integrator\n",
    "    ops.integrator(\"LoadControl\", 1.0)\n",
    "    # create algorithm\n",
    "    ops.algorithm(\"Linear\")\n",
    "    # create analysis object\n",
    "    ops.analysis(\"Static\")\n",
    "    # perform the analysis\n",
    "    ops.analyze(1)\n",
    "\n",
    "    coords_def = {}\n",
    "    scale  = 100\n",
    "    for node_value in [1,2,3]:\n",
    "        \n",
    "        values_1 = ops.nodeDisp( node_value , 1)\n",
    "        values_2 = ops.nodeDisp( node_value , 2)\n",
    "        \n",
    "        coords_def[node_value] = [coords[node_value][0] + scale * values_1  , coords[node_value][1] + scale * values_2 ]\n",
    "        \n",
    "        print( f\"Node number is = {node_value} , displacement = {round(values_1,6)}m\")\n",
    "        \n",
    "    # plotting\n",
    "    plt.figure()\n",
    "    plt.grid()\n",
    "    for node_value in [1,2,3]:\n",
    "        plt.plot( coords[ node_value][0] , coords[ node_value][1] ,\"k.\")\n",
    "        plt.plot( coords_def[ node_value][0] , coords_def[ node_value][1] ,\"r*\", ms = 10)\n",
    "    plt.plot(coords[1][0] , coords[1][1], \"^\" , ms=20 )\n",
    "    plt.plot(coords_def[2][0] , coords_def[2][1], \"o\" , ms=20 )\n",
    "\n",
    "    return( coords_def ) "
   ]
  },
  {
   "cell_type": "code",
   "execution_count": null,
   "metadata": {},
   "outputs": [],
   "source": [
    "coordinate_deformed = onurFunction( 1000 , 0)"
   ]
  },
  {
   "cell_type": "markdown",
   "metadata": {
    "slideshow": {
     "slide_type": "slide"
    }
   },
   "source": [
    "---\n",
    "\n",
    "**NEXT WEEK**\n",
    "\n",
    "<table >\n",
    "<tr>\n",
    "<td>\n",
    "<img src=\"http://worshiphousemedia.s3.amazonaws.com/images/main/s/st/bnt/st/seeyounextweek1.jpg\" width=\"40%\">\n",
    "</td>\n",
    "<td align=\"left\"><strong style=\"font-size: 20px;\">\n",
    "The topics for the next week \n",
    "<br><br>\n",
    "\n",
    "1- Assignment : #4 assignment\n",
    "<br><br>\n",
    "\n",
    "<br>\n",
    "</td>\n",
    "</tr>\n",
    "</table>"
   ]
  },
  {
   "cell_type": "code",
   "execution_count": null,
   "metadata": {},
   "outputs": [],
   "source": []
  }
 ],
 "metadata": {
  "celltoolbar": "Slideshow",
  "kernelspec": {
   "display_name": "Python 3",
   "language": "python",
   "name": "python3"
  },
  "language_info": {
   "codemirror_mode": {
    "name": "ipython",
    "version": 3
   },
   "file_extension": ".py",
   "mimetype": "text/x-python",
   "name": "python",
   "nbconvert_exporter": "python",
   "pygments_lexer": "ipython3",
   "version": "3.8.5"
  },
  "toc-autonumbering": true
 },
 "nbformat": 4,
 "nbformat_minor": 4
}
