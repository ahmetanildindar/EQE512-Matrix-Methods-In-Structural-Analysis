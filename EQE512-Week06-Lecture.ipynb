{
 "cells": [
  {
   "cell_type": "markdown",
   "metadata": {
    "slideshow": {
     "slide_type": "slide"
    }
   },
   "source": [
    "EQE512 MATRIX METHODS IN STRUCTURAL ANALYSIS \n",
    "\n",
    "---\n",
    "<h3 align=\"center\">Week 06 - Displacement and Force Method in Structural Analysis </h3> \n",
    "<h4 align=\"center\">Dr. Ahmet Anıl Dindar (adindar@gtu.edu.tr)</h3> \n",
    "<h4 align=\"center\">2020 Fall  </h4> \n",
    "\n",
    "---"
   ]
  },
  {
   "cell_type": "markdown",
   "metadata": {},
   "source": [
    "**This week :**\n",
    "\n",
    "1. Truss systems explanation\n",
    "\n",
    "2. Local & global coordinates \n",
    "\n",
    "3. Truss member stiffness\n",
    "\n",
    "    3.1. Local coordinates\n",
    "\n",
    "    3.2. Global coordinates\n",
    "\n",
    "4. Assembling the system stiffness matrix\n",
    "\n",
    "---\n"
   ]
  },
  {
   "cell_type": "markdown",
   "metadata": {},
   "source": [
    "# Truss systems explanation\n",
    "\n",
    "_A truss is a structure composed of sleder members joined together at their end points._\n",
    "\n",
    "![](./figures/1-EQE512-TrussExample.png)"
   ]
  },
  {
   "cell_type": "markdown",
   "metadata": {},
   "source": [
    "---\n",
    "\n",
    "# Local & global coordinates \n",
    "\n",
    "![](./figures/2-Global-local-coordinates.png)\n"
   ]
  },
  {
   "cell_type": "markdown",
   "metadata": {},
   "source": [
    "**Transformation is required**\n",
    "\n",
    "<img src=\"./figures/3-Global-local-coordinates-transformation.png\" width= \"60%\">\n",
    "\n",
    "The formula is \n",
    "\n",
    "$\\Delta_1 = x_{1j} - x_{1i} $ and $\\Delta_1 = x_{2j} - x_{2i} $ \n",
    "\n",
    "$ L = \\sqrt{{\\Delta_1}^2 + {\\Delta_2}^2} $ and $ Cos\\alpha = fract{} $\n",
    "\n",
    "![](./figures/4a-Transformation.PNG)\n",
    "\n",
    "![](./figures/4b-Transformation.PNG)\n",
    "\n",
    "![](./figures/4c-Transformation.PNG)"
   ]
  },
  {
   "cell_type": "markdown",
   "metadata": {},
   "source": [
    "# Truss member stiffness\n",
    "\n",
    "\n",
    "Let's think the systems"
   ]
  },
  {
   "cell_type": "markdown",
   "metadata": {},
   "source": [
    "## Local coordinates\n",
    "\n",
    "![](./figures/5-Truss-local-stiffness.png)\n"
   ]
  },
  {
   "cell_type": "markdown",
   "metadata": {},
   "source": [
    "## Global coordinates\n",
    "\n",
    "![](./figures/5-Truss-global-stiffness.png)"
   ]
  },
  {
   "cell_type": "markdown",
   "metadata": {},
   "source": [
    "---\n",
    "\n",
    "# Assembling the system stiffness matrix\n",
    "\n",
    "<img src=\"./figures/6-System-Stiffness-Assembly.png\" width = \"70%\">\n",
    "\n",
    "<img src=\"./figures/6b-System-Stiffness-Assembly.png\" width = \"70%\">\n",
    "\n",
    "<img src=\"./figures/6c-System-Stiffness-Assembly.png\" width = \"70%\">\n",
    "\n"
   ]
  },
  {
   "cell_type": "markdown",
   "metadata": {},
   "source": [
    "Member stiffness matrix\n",
    "\n",
    "Units : N and mm"
   ]
  },
  {
   "cell_type": "code",
   "execution_count": 1,
   "metadata": {},
   "outputs": [],
   "source": [
    "import numpy as np\n",
    "def member_stiffness_creator(member_props) :\n",
    "    \n",
    "    delta_1 = member_props[\"jointJ\"][0] - member_props[\"jointI\"][0] \n",
    "    delta_2 = member_props[\"jointJ\"][1] - member_props[\"jointI\"][1] \n",
    "\n",
    "    length = (delta_1**2 + delta_2**2)**.5\n",
    "\n",
    "    c1 = delta_1 / length\n",
    "    c2 = delta_2 / length\n",
    "\n",
    "    a = c1**2\n",
    "    b = c1*c2\n",
    "    c = c2**2\n",
    "    \n",
    "    K = member_props[\"E\"]*member_props[\"A\"]/length\n",
    "\n",
    "    K2 = np.array([[ a , b , -a , -b] , \n",
    "             [ b , c , -b , -c],\n",
    "             [-a , -b , a , b ],\n",
    "             [-b , -c , b , c ]])\n",
    "\n",
    "    K_mem = K * K2\n",
    "    return( K_mem )"
   ]
  },
  {
   "cell_type": "code",
   "execution_count": 2,
   "metadata": {},
   "outputs": [],
   "source": [
    "member_1 = {\"E\": 30000 , \"A\" : 100 , \n",
    "                \"jointI\":[0,0] , \n",
    "                \"jointJ\":[300,400]}"
   ]
  },
  {
   "cell_type": "code",
   "execution_count": 3,
   "metadata": {},
   "outputs": [
    {
     "data": {
      "text/plain": [
       "dict_keys(['E', 'A', 'jointI', 'jointJ'])"
      ]
     },
     "execution_count": 3,
     "metadata": {},
     "output_type": "execute_result"
    }
   ],
   "source": [
    "member_1.keys()"
   ]
  },
  {
   "cell_type": "code",
   "execution_count": 4,
   "metadata": {},
   "outputs": [
    {
     "data": {
      "text/plain": [
       "dict_values([30000, 100, [0, 0], [300, 400]])"
      ]
     },
     "execution_count": 4,
     "metadata": {},
     "output_type": "execute_result"
    }
   ],
   "source": [
    "member_1.values()"
   ]
  },
  {
   "cell_type": "code",
   "execution_count": 5,
   "metadata": {},
   "outputs": [
    {
     "data": {
      "text/plain": [
       "array([[ 2160.,  2880., -2160., -2880.],\n",
       "       [ 2880.,  3840., -2880., -3840.],\n",
       "       [-2160., -2880.,  2160.,  2880.],\n",
       "       [-2880., -3840.,  2880.,  3840.]])"
      ]
     },
     "execution_count": 5,
     "metadata": {},
     "output_type": "execute_result"
    }
   ],
   "source": [
    "member_stiffness_creator( member_1)"
   ]
  },
  {
   "cell_type": "code",
   "execution_count": 6,
   "metadata": {},
   "outputs": [
    {
     "data": {
      "text/plain": [
       "array([[  432.89191429,  1154.3784381 ,  -432.89191429, -1154.3784381 ],\n",
       "       [ 1154.3784381 ,  3078.3425016 , -1154.3784381 , -3078.3425016 ],\n",
       "       [ -432.89191429, -1154.3784381 ,   432.89191429,  1154.3784381 ],\n",
       "       [-1154.3784381 , -3078.3425016 ,  1154.3784381 ,  3078.3425016 ]])"
      ]
     },
     "execution_count": 6,
     "metadata": {},
     "output_type": "execute_result"
    }
   ],
   "source": [
    "member_2 = {\"E\": 30000 , \"A\" : 100 , \n",
    "                \"jointI\":[0,0] , \n",
    "                \"jointJ\":[300,800]}\n",
    "\n",
    "member_stiffness_creator( member_2)"
   ]
  },
  {
   "cell_type": "markdown",
   "metadata": {
    "slideshow": {
     "slide_type": "slide"
    }
   },
   "source": [
    "---\n",
    "\n",
    "**NEXT WEEK**\n",
    "\n",
    "<table >\n",
    "<tr>\n",
    "<td>\n",
    "<img src=\"http://worshiphousemedia.s3.amazonaws.com/images/main/s/st/bnt/st/seeyounextweek1.jpg\" width=\"60%\">\n",
    "</td>\n",
    "<td align=\"left\"><strong style=\"font-size: 20px;\">\n",
    "The topics for the next week \n",
    "<br><br>\n",
    "\n",
    "1- Assignment : #3 Tonight 8pm\n",
    "<br><br>\n",
    "2- \"Construction of the System Stiffness Matrix\"\n",
    "<br>\n",
    "</td>\n",
    "</tr>\n",
    "</table>"
   ]
  },
  {
   "cell_type": "code",
   "execution_count": null,
   "metadata": {},
   "outputs": [],
   "source": []
  }
 ],
 "metadata": {
  "celltoolbar": "Slideshow",
  "kernelspec": {
   "display_name": "Python 3",
   "language": "python",
   "name": "python3"
  },
  "language_info": {
   "codemirror_mode": {
    "name": "ipython",
    "version": 3
   },
   "file_extension": ".py",
   "mimetype": "text/x-python",
   "name": "python",
   "nbconvert_exporter": "python",
   "pygments_lexer": "ipython3",
   "version": "3.7.6"
  },
  "toc-autonumbering": true
 },
 "nbformat": 4,
 "nbformat_minor": 4
}
