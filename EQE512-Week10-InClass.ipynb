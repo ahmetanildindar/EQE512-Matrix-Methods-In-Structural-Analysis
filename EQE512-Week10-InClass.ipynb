{
 "cells": [
  {
   "cell_type": "markdown",
   "metadata": {
    "slideshow": {
     "slide_type": "slide"
    }
   },
   "source": [
    "EQE512 MATRIX METHODS IN STRUCTURAL ANALYSIS \n",
    "\n",
    "---\n",
    "<h3 align=\"center\"><font color = red >Week 10 - OpenSeesPy - Frame Systems - InClass </font></h3> \n",
    "\n",
    "<h4 align=\"center\">Dr. Ahmet Anıl Dindar (adindar@gtu.edu.tr)</h3> \n",
    "<h4 align=\"center\">2020 Fall  </h4> \n",
    "\n",
    "---"
   ]
  },
  {
   "cell_type": "markdown",
   "metadata": {},
   "source": [
    "This code is composed of three sections, namely \n",
    "\n",
    "A. Pre-process\n",
    "\n",
    "B. Process\n",
    "\n",
    "C. Post-Process\n",
    "\n",
    "---\n",
    "\n",
    "Problem: This is a multistory 2D Elastic RC frame under static loads"
   ]
  },
  {
   "cell_type": "markdown",
   "metadata": {},
   "source": [
    "# A. Pre-Process"
   ]
  },
  {
   "cell_type": "code",
   "execution_count": 378,
   "metadata": {},
   "outputs": [],
   "source": [
    "import openseespy.opensees as ops"
   ]
  },
  {
   "cell_type": "code",
   "execution_count": 379,
   "metadata": {},
   "outputs": [],
   "source": [
    "# Clear all variables inthe domain\n",
    "ops.wipe()"
   ]
  },
  {
   "cell_type": "code",
   "execution_count": 380,
   "metadata": {},
   "outputs": [],
   "source": [
    "# Define the degree of freedom and model\n",
    "ops.model(\"Basic\",\"-ndm\",2 , \"-ndf\" , 3)"
   ]
  },
  {
   "cell_type": "code",
   "execution_count": 381,
   "metadata": {},
   "outputs": [],
   "source": [
    "numBay = 1 # Two beams at each floor \n",
    "numFloor = 3 # Seven stories building"
   ]
  },
  {
   "cell_type": "code",
   "execution_count": 382,
   "metadata": {},
   "outputs": [],
   "source": [
    "bayWidth = 3.0 # m\n",
    "storyHeight = 3.0 # m"
   ]
  },
  {
   "cell_type": "code",
   "execution_count": 383,
   "metadata": {},
   "outputs": [],
   "source": [
    "E = 29_500_500 # kN/m2\n",
    "massX = 0.49 # units must be consistent\n",
    "M = 0. # Lookout for the value below !!!!!!\n",
    "massType = \"-lmass\" # Lumped Mass required in OpenSees"
   ]
  },
  {
   "cell_type": "code",
   "execution_count": 384,
   "metadata": {},
   "outputs": [],
   "source": [
    "# Members in the system\n",
    "beams = [ \"B20X50\" for item in range( numFloor)] # List \n",
    "eColumn = [ \"C50X50\" for item in range( numFloor)]\n",
    "icolumn = [ \"C50X50\" for item in range( numFloor)]\n",
    "\n",
    "columns = [ eColumn, iColumn, eColumn]\n",
    "columns = [ eColumn, eColumn]"
   ]
  },
  {
   "cell_type": "code",
   "execution_count": 385,
   "metadata": {},
   "outputs": [],
   "source": [
    "# Sections of the members\n",
    "Section = { \"C50X50\": [ 0.5*0.5 , round( (0.5 * 0.5**3)/12, 5) ],\n",
    "          \"B20X50\" : [0.2*.5 , round( (0.2* 0.5**3)/12,5)]}"
   ]
  },
  {
   "cell_type": "code",
   "execution_count": 386,
   "metadata": {},
   "outputs": [
    {
     "data": {
      "text/plain": [
       "{'C50X50': [0.25, 0.00521], 'B20X50': [0.1, 0.00208]}"
      ]
     },
     "execution_count": 386,
     "metadata": {},
     "output_type": "execute_result"
    }
   ],
   "source": [
    "Section"
   ]
  },
  {
   "cell_type": "code",
   "execution_count": 387,
   "metadata": {},
   "outputs": [],
   "source": [
    "# Create a Function in Definition of the Members\n",
    "\n",
    "def ElasticBeamColumn( eleTag, iNode, jNode, secType, E , transfTag , M , MassType):\n",
    "    prop = Section[ secType]\n",
    "    Area = prop[0]\n",
    "    I = prop[1]\n",
    "    \n",
    "    # OpenSees command in creation of the member\n",
    "    ops.element( \"elasticBeamColumn\" , eleTag, iNode, jNode, secType, E , transfTag , \"-mass\" , M , MassType)"
   ]
  },
  {
   "cell_type": "markdown",
   "metadata": {},
   "source": [
    "**Geometry**"
   ]
  },
  {
   "cell_type": "code",
   "execution_count": 388,
   "metadata": {},
   "outputs": [],
   "source": [
    "import numpy as np\n",
    "axis_h = np.linspace( 0 , (numBay * bayWidth) , numBay + 1 )\n",
    "axis_v = np.linspace( 0 , (numFloor * storyHeight) , numFloor + 1 )"
   ]
  },
  {
   "cell_type": "code",
   "execution_count": 389,
   "metadata": {},
   "outputs": [],
   "source": [
    "node_no =  1 \n",
    "node_dict={}\n",
    "floorNo = 0\n",
    "floorNodes = {}\n",
    "nodes = []\n",
    "\n",
    "for i in axis_v:\n",
    "    floorNodes[ floorNo] = []\n",
    "    \n",
    "    for j in axis_h:\n",
    "        nodes.append( node_no)\n",
    "        \n",
    "        ops.node( node_no  , float(j) , float(i))\n",
    "        \n",
    "        node_dict[node_no] = [float(j) , float(i)]\n",
    "        floorNodes[ floorNo].append( node_no)\n",
    "        \n",
    "        node_no += 1\n",
    "    floorNo += 1"
   ]
  },
  {
   "cell_type": "code",
   "execution_count": 390,
   "metadata": {},
   "outputs": [
    {
     "data": {
      "text/plain": [
       "{1: [0.0, 0.0],\n",
       " 2: [3.0, 0.0],\n",
       " 3: [0.0, 3.0],\n",
       " 4: [3.0, 3.0],\n",
       " 5: [0.0, 6.0],\n",
       " 6: [3.0, 6.0],\n",
       " 7: [0.0, 9.0],\n",
       " 8: [3.0, 9.0]}"
      ]
     },
     "execution_count": 390,
     "metadata": {},
     "output_type": "execute_result"
    }
   ],
   "source": [
    "node_dict"
   ]
  },
  {
   "cell_type": "code",
   "execution_count": 391,
   "metadata": {},
   "outputs": [
    {
     "data": {
      "text/plain": [
       "{0: [1, 2], 1: [3, 4], 2: [5, 6], 3: [7, 8]}"
      ]
     },
     "execution_count": 391,
     "metadata": {},
     "output_type": "execute_result"
    }
   ],
   "source": [
    "floorNodes"
   ]
  },
  {
   "cell_type": "code",
   "execution_count": 392,
   "metadata": {},
   "outputs": [],
   "source": [
    "# Boundary Conditions\n",
    "for nodeNumber in floorNodes[0]:\n",
    "    ops.fix( nodeNumber , 1 , 1 , 1)"
   ]
  },
  {
   "cell_type": "code",
   "execution_count": 393,
   "metadata": {},
   "outputs": [],
   "source": [
    "# Rigid Diaphram Assignments\n",
    "for key , value in floorNodes.items():\n",
    "    for item in value[:] :\n",
    "        if item == value[0]:\n",
    "            ops.mass( item , massX , 0.0000001 , 0.000001)\n",
    "        else:\n",
    "            ops.equalDOF( value[0] , item , 1)"
   ]
  },
  {
   "cell_type": "code",
   "execution_count": 394,
   "metadata": {},
   "outputs": [],
   "source": [
    "# Place the columns\n",
    "\n",
    "ops.geomTransf( coordTransfer , 1)\n",
    "column_dict ={}\n",
    "eleTag = 1\n",
    "for j in range(0 , numBay + 1):\n",
    "    end1 = j+1\n",
    "    end2 = end1 + numBay + 1\n",
    "    thisColumn = columns[ j ]\n",
    "    \n",
    "    for i in range( 0 , numFloor):\n",
    "        secType = thisColumn[i]\n",
    "        ElasticBeamColum( eleTag , end1 , end2 , secType , E , 1 , M , massType)\n",
    "\n",
    "        column_dict[eleTag] = [end1 , end2]\n",
    "        \n",
    "        end1 = end2\n",
    "        \n",
    "        end2 += numBay + 1\n",
    "         \n",
    "        eleTag += 1"
   ]
  },
  {
   "cell_type": "code",
   "execution_count": 395,
   "metadata": {},
   "outputs": [
    {
     "data": {
      "text/plain": [
       "7"
      ]
     },
     "execution_count": 395,
     "metadata": {},
     "output_type": "execute_result"
    }
   ],
   "source": [
    "eleTag"
   ]
  },
  {
   "cell_type": "code",
   "execution_count": 396,
   "metadata": {},
   "outputs": [
    {
     "data": {
      "image/png": "[encoded data removed]",
      "text/plain": [
       "<Figure size 432x288 with 1 Axes>"
      ]
     },
     "metadata": {
      "needs_background": "light"
     },
     "output_type": "display_data"
    }
   ],
   "source": [
    "import matplotlib.pyplot as plt\n",
    "\n",
    "for key in node_dict.keys():\n",
    "    plt.plot( node_dict[key][0] ,  node_dict[key][1] , \"o\")"
   ]
  },
  {
   "cell_type": "code",
   "execution_count": 397,
   "metadata": {},
   "outputs": [
    {
     "data": {
      "image/png": "[encoded data removed]",
      "text/plain": [
       "<Figure size 432x288 with 1 Axes>"
      ]
     },
     "metadata": {
      "needs_background": "light"
     },
     "output_type": "display_data"
    }
   ],
   "source": [
    "for key in column_dict.keys():\n",
    "    plt.plot([ node_dict[column_dict[key][0]][0] ,node_dict[column_dict[key][1]][0]],\n",
    "              [ node_dict[column_dict[key][0]][1] ,node_dict[column_dict[key][1]][1]]  )\n"
   ]
  },
  {
   "cell_type": "code",
   "execution_count": 398,
   "metadata": {},
   "outputs": [],
   "source": [
    "# Place the beams\n",
    "beam_dict = {}\n",
    "\n",
    "for j in range(1 , numFloor + 1 ) :\n",
    "    end1 = (numBay + 1)*j + 1\n",
    "    end2 = end1 + 1\n",
    "    secType = beams[j - 1]\n",
    "    for i in range( 0, numBay):\n",
    "        ElasticBeamColum(eleTag , end1 , end2 , secType , E , 1 , M , massType )\n",
    "        \n",
    "        beam_dict[eleTag] = [end1, end2]\n",
    "        \n",
    "        end1 = end2\n",
    "        \n",
    "        end2 = end1 + 1\n",
    "        \n",
    "        eleTag += 1"
   ]
  },
  {
   "cell_type": "code",
   "execution_count": 399,
   "metadata": {},
   "outputs": [
    {
     "data": {
      "image/png": "[encoded data removed]",
      "text/plain": [
       "<Figure size 432x288 with 1 Axes>"
      ]
     },
     "metadata": {
      "needs_background": "light"
     },
     "output_type": "display_data"
    }
   ],
   "source": [
    "for key in beam_dict.keys():\n",
    "    plt.plot([ node_dict[beam_dict[key][0]][0] ,node_dict[beam_dict[key][1]][0]],\n",
    "              [ node_dict[beam_dict[key][0]][1] ,node_dict[beam_dict[key][1]][1]]  )\n"
   ]
  },
  {
   "cell_type": "code",
   "execution_count": 400,
   "metadata": {},
   "outputs": [
    {
     "data": {
      "image/png": "[encoded data removed]",
      "text/plain": [
       "<Figure size 108x324 with 1 Axes>"
      ]
     },
     "metadata": {
      "needs_background": "light"
     },
     "output_type": "display_data"
    }
   ],
   "source": [
    "scale_figure = 1.5\n",
    "plt.figure( figsize = (scale_figure * numBay , scale_figure * numFloor))\n",
    "\n",
    "for key in node_dict.keys() :\n",
    "    plt.plot( node_dict[key][0] , node_dict[key][1] , \"o\", MS = 10 , color = \"gray\")\n",
    "for key in column_dict.keys():\n",
    "    plt.plot( [ node_dict[column_dict[key][0]][0] ,node_dict[column_dict[key][1]][0]],\n",
    "              [ node_dict[column_dict[key][0]][1] ,node_dict[column_dict[key][1]][1]],\n",
    "            color = \"red\")\n",
    "    \n",
    "for key in beam_dict.keys():\n",
    "    plt.plot([ node_dict[beam_dict[key][0]][0] ,node_dict[beam_dict[key][1]][0]],\n",
    "              [ node_dict[beam_dict[key][0]][1] ,node_dict[beam_dict[key][1]][1]] , color = \"black\" )\n"
   ]
  },
  {
   "cell_type": "code",
   "execution_count": 401,
   "metadata": {},
   "outputs": [],
   "source": [
    "# Dynamic properties - Modal Analysis - Free Vibration Analysis\n",
    "from math import asin, sqrt\n",
    "\n",
    "numEigen = numFloor\n",
    "\n",
    "eigenValues = ops.eigen( numEigen)\n",
    "\n",
    "PI = 22 / 7"
   ]
  },
  {
   "cell_type": "code",
   "execution_count": 402,
   "metadata": {},
   "outputs": [
    {
     "data": {
      "text/plain": [
       "[14169.844990005586, 183405.92995474653, 715415.9953641712]"
      ]
     },
     "execution_count": 402,
     "metadata": {},
     "output_type": "execute_result"
    }
   ],
   "source": [
    "eigenValues"
   ]
  },
  {
   "cell_type": "markdown",
   "metadata": {},
   "source": [
    "**Loads**"
   ]
  },
  {
   "cell_type": "code",
   "execution_count": 403,
   "metadata": {},
   "outputs": [],
   "source": [
    "ops.timeSeries( \"Linear\", 1)\n",
    "ops.pattern( \"Plain\" , 1 , 1)\n",
    "load_dict = { 4 : 20_000, 7: 20_000} # Change these values as you wish\n",
    "load_dict = { 4 : 40_000} # Change these values as you wish\n",
    "\n",
    "for key in load_dict.keys():\n",
    "    ops.load( key ,load_dict[key] , 0 ,0 )"
   ]
  },
  {
   "cell_type": "markdown",
   "metadata": {},
   "source": [
    "# B. Process"
   ]
  },
  {
   "cell_type": "code",
   "execution_count": 404,
   "metadata": {},
   "outputs": [
    {
     "data": {
      "text/plain": [
       "0"
      ]
     },
     "execution_count": 404,
     "metadata": {},
     "output_type": "execute_result"
    }
   ],
   "source": [
    "ops.integrator( \"LoadControl\", 1.0)\n",
    "ops.algorithm(\"Linear\")\n",
    "ops.analysis(\"Static\")\n",
    "ops.analyze(1)"
   ]
  },
  {
   "cell_type": "markdown",
   "metadata": {},
   "source": [
    "# C. Post-Process"
   ]
  },
  {
   "cell_type": "code",
   "execution_count": 405,
   "metadata": {},
   "outputs": [
    {
     "data": {
      "text/plain": [
       "0.0"
      ]
     },
     "execution_count": 405,
     "metadata": {},
     "output_type": "execute_result"
    }
   ],
   "source": [
    "node_dict[1][0]"
   ]
  },
  {
   "cell_type": "code",
   "execution_count": 406,
   "metadata": {},
   "outputs": [],
   "source": [
    "node_deform_dict = {}\n",
    "\n",
    "for i in node_dict.keys():\n",
    "    node_deform_dict[i] = [node_dict[i][0] + ops.nodeDisp(i,1) , \n",
    "                           node_dict[i][1] + ops.nodeDisp(i,2)]"
   ]
  },
  {
   "cell_type": "code",
   "execution_count": 407,
   "metadata": {},
   "outputs": [
    {
     "data": {
      "text/plain": [
       "{1: [0.0, 0.0],\n",
       " 2: [3.0, 0.0],\n",
       " 3: [0.5092878347518897, 3.0061301366744746],\n",
       " 4: [3.5092878347518894, 2.9938698633255254],\n",
       " 5: [0.78438602424707, 6.007592753424022],\n",
       " 6: [3.78438602424707, 5.992407246575978],\n",
       " 7: [0.8658258520260309, 9.007923843455881],\n",
       " 8: [3.865825852026031, 8.992076156544119]}"
      ]
     },
     "execution_count": 407,
     "metadata": {},
     "output_type": "execute_result"
    }
   ],
   "source": [
    "node_deform_dict"
   ]
  },
  {
   "cell_type": "code",
   "execution_count": 408,
   "metadata": {},
   "outputs": [
    {
     "data": {
      "image/png": "[encoded data removed]",
      "text/plain": [
       "<Figure size 432x288 with 1 Axes>"
      ]
     },
     "metadata": {
      "needs_background": "light"
     },
     "output_type": "display_data"
    }
   ],
   "source": [
    "for key in node_dict.keys() :\n",
    "    plt.plot( node_dict[key][0] , node_dict[key][1] , \"o\", MS = 10 , color = \"gray\")\n",
    "for key in column_dict.keys():\n",
    "    plt.plot( [ node_dict[column_dict[key][0]][0] ,node_dict[column_dict[key][1]][0]],\n",
    "              [ node_dict[column_dict[key][0]][1] ,node_dict[column_dict[key][1]][1]],\n",
    "            color = \"gray\")\n",
    "for key in node_dict.keys() :\n",
    "    plt.text( node_dict[key][0] , node_dict[key][1] , key)\n",
    "\n",
    "for key in node_dict.keys() :\n",
    "    plt.text( node_deform_dict[key][0] , 1.1 * node_deform_dict[key][1] , round( ops.nodeDisp(key,1),2) ,color=\"red\" )\n",
    "    \n",
    "    \n",
    "    \n",
    "for key in beam_dict.keys():\n",
    "    plt.plot([ node_dict[beam_dict[key][0]][0] ,node_dict[beam_dict[key][1]][0]],\n",
    "              [ node_dict[beam_dict[key][0]][1] ,node_dict[beam_dict[key][1]][1]] , color = \"gray\" )\n",
    "    \n",
    "for key in node_deform_dict.keys() :\n",
    "    plt.plot( node_deform_dict[key][0] , node_deform_dict[key][1] , \"o\", MS = 10 , color = \"red\")\n",
    "for key in column_dict.keys():\n",
    "    plt.plot( [ node_deform_dict[column_dict[key][0]][0] ,node_deform_dict[column_dict[key][1]][0]],\n",
    "              [ node_deform_dict[column_dict[key][0]][1] ,node_deform_dict[column_dict[key][1]][1]],\n",
    "            color = \"red\")\n",
    "    \n",
    "for key in beam_dict.keys():\n",
    "    plt.plot([ node_deform_dict[beam_dict[key][0]][0] ,node_deform_dict[beam_dict[key][1]][0]],\n",
    "              [ node_deform_dict[beam_dict[key][0]][1] ,node_deform_dict[beam_dict[key][1]][1]] , color = \"red\" )   \n",
    "plt.box(False)"
   ]
  },
  {
   "cell_type": "markdown",
   "metadata": {},
   "source": [
    "**Modal Analysis Results**"
   ]
  },
  {
   "cell_type": "code",
   "execution_count": 410,
   "metadata": {},
   "outputs": [
    {
     "name": "stdout",
     "output_type": "stream",
     "text": [
      "1 mode number and period is 0.053sec\n",
      "2 mode number and period is 0.015sec\n",
      "3 mode number and period is 0.007sec\n"
     ]
    }
   ],
   "source": [
    "[ print(f\"{mode+1} mode number and period is {round(2*PI / sqrt(lamb),3)}sec\")  for mode , lamb in enumerate( eigenValues)];"
   ]
  },
  {
   "cell_type": "code",
   "execution_count": null,
   "metadata": {},
   "outputs": [],
   "source": []
  }
 ],
 "metadata": {
  "celltoolbar": "Slideshow",
  "kernelspec": {
   "display_name": "Python 3",
   "language": "python",
   "name": "python3"
  },
  "language_info": {
   "codemirror_mode": {
    "name": "ipython",
    "version": 3
   },
   "file_extension": ".py",
   "mimetype": "text/x-python",
   "name": "python",
   "nbconvert_exporter": "python",
   "pygments_lexer": "ipython3",
   "version": "3.6.8"
  },
  "toc-autonumbering": false
 },
 "nbformat": 4,
 "nbformat_minor": 4
}
